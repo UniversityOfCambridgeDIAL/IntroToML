{
 "cells": [
  {
   "cell_type": "markdown",
   "metadata": {},
   "source": [
    "# Day 1 - Part C: Data preparation with Numpy and Pandas\n",
    "\n",
    "Numpy and Pandas are python libraries which automate most of the data manipulation tasks for you. This notebook will provide an overview of these and guide you though data preparation steps including: cleaning, encoding and normalization.\n",
    "\n",
    "Below is the code importing all the libraries that will be used throughout this notebook. Remember to run this line everytime you open the notebook. Otherwise, majority of the functions used here will not work!"
   ]
  },
  {
   "cell_type": "code",
   "execution_count": 1,
   "metadata": {
    "collapsed": true
   },
   "outputs": [],
   "source": [
    "import numpy as np\n",
    "from numpy.linalg import inv\n",
    "\n",
    "import pandas as pd\n",
    "from sklearn.utils import resample\n",
    "from sklearn import preprocessing\n",
    "from sklearn.model_selection import train_test_split\n",
    "from sklearn.model_selection import KFold"
   ]
  },
  {
   "cell_type": "markdown",
   "metadata": {},
   "source": [
    "# 1. Introduction to Numpy\n",
    "Numpy adds support for large, multidimensional array manipulation. It supports operations such as addition, multiplication, inversion and many other. Here, you will learn how to create numpy arrays and matrices, and how to perform basic operations on them.\n",
    "\n",
    "For more information refer to: https://docs.scipy.org/doc/numpy-dev/user/quickstart.html\n",
    "\n",
    "## 1.1. Basic numpy operations\n",
    "In numpy, you can create arrays from lists."
   ]
  },
  {
   "cell_type": "code",
   "execution_count": 2,
   "metadata": {},
   "outputs": [
    {
     "name": "stdout",
     "output_type": "stream",
     "text": [
      "[1 2 3 4 5]\n"
     ]
    }
   ],
   "source": [
    "some_array = np.array([1, 2, 3, 4, 5])\n",
    "print(some_array)"
   ]
  },
  {
   "cell_type": "markdown",
   "metadata": {},
   "source": [
    "A single array can contain different objects: strings, floats, integers etc."
   ]
  },
  {
   "cell_type": "code",
   "execution_count": 3,
   "metadata": {},
   "outputs": [
    {
     "name": "stdout",
     "output_type": "stream",
     "text": [
      "['blue' 'red' 'orange' 'white']\n",
      "[ 1.5   2.    3.6   4.1   5.17]\n"
     ]
    }
   ],
   "source": [
    "some_array = np.array(['blue', 'red', 'orange', 'white'])\n",
    "print(some_array)\n",
    "\n",
    "some_array = np.array([1.5, 2, 3.6, 4.1, 5.17])\n",
    "print(some_array)"
   ]
  },
  {
   "cell_type": "markdown",
   "metadata": {},
   "source": [
    "You can access elements of an array using [ ], similarly as in python's lists. Indexes of elements start from 0, therefore the code below accesses the ** *2nd* ** element."
   ]
  },
  {
   "cell_type": "code",
   "execution_count": 4,
   "metadata": {},
   "outputs": [
    {
     "data": {
      "text/plain": [
       "2.0"
      ]
     },
     "execution_count": 4,
     "metadata": {},
     "output_type": "execute_result"
    }
   ],
   "source": [
    "some_array[1]"
   ]
  },
  {
   "cell_type": "markdown",
   "metadata": {},
   "source": [
    "Numpy arrays are mutable, therefore its elements can be changed by assigning a value. Below the ** *4th* ** element of an array has been changed to 15."
   ]
  },
  {
   "cell_type": "code",
   "execution_count": 5,
   "metadata": {},
   "outputs": [
    {
     "name": "stdout",
     "output_type": "stream",
     "text": [
      "Before change:\n",
      "[ 1.5   2.    3.6   4.1   5.17]\n",
      "\n",
      "After change:\n",
      "[  1.5    2.     3.6   15.     5.17]\n"
     ]
    }
   ],
   "source": [
    "print(\"Before change:\")\n",
    "print(some_array)\n",
    "\n",
    "some_array[3] = 15\n",
    "\n",
    "print(\"\\nAfter change:\")\n",
    "print(some_array)"
   ]
  },
  {
   "cell_type": "markdown",
   "metadata": {},
   "source": [
    "You can assign the whole numpy array to a variable, however be careful when you are doing it as modifying one array will modify the other array as well!"
   ]
  },
  {
   "cell_type": "code",
   "execution_count": 6,
   "metadata": {},
   "outputs": [
    {
     "name": "stdout",
     "output_type": "stream",
     "text": [
      "Before change:\n",
      "some_array: [ 1.5   2.    3.6   4.1   5.17]\n",
      "some_array2: [ 1.5   2.    3.6   4.1   5.17]\n",
      "\n",
      "After change:\n",
      "some_array: [ 1.5   2.    3.6  -6.    5.17]\n",
      "some_array2: [ 1.5   2.    3.6  -6.    5.17]\n"
     ]
    }
   ],
   "source": [
    "some_array = np.array([1.5, 2, 3.6, 4.1, 5.17])\n",
    "some_array2 = some_array\n",
    "\n",
    "print(\"Before change:\")\n",
    "print(\"some_array:\", some_array)\n",
    "print(\"some_array2:\", some_array2)\n",
    "\n",
    "some_array[3] = -6\n",
    "\n",
    "print(\"\\nAfter change:\")\n",
    "print(\"some_array:\", some_array)\n",
    "print(\"some_array2:\", some_array2)"
   ]
  },
  {
   "cell_type": "markdown",
   "metadata": {},
   "source": [
    "As you see, elements in **both** arrays were modified even if only one of them was changed! It is because variables *some_array* and *some_array2* are pointers to arrays. We will not discuss pointers here, and you are not required to know how they work, however keep in mind that assigning numpy arrays to variables will \"bound\" them together and they will be susceptible to changes made on the other copy."
   ]
  },
  {
   "cell_type": "markdown",
   "metadata": {},
   "source": [
    "## 1.2 2D arrays\n",
    "you can create arrays which are 2-dimensional."
   ]
  },
  {
   "cell_type": "code",
   "execution_count": 7,
   "metadata": {},
   "outputs": [
    {
     "data": {
      "text/plain": [
       "array([[1, 2, 3],\n",
       "       [3, 4, 5]])"
      ]
     },
     "execution_count": 7,
     "metadata": {},
     "output_type": "execute_result"
    }
   ],
   "source": [
    "np.array( [ [1, 2, 3], [3, 4, 5] ] )"
   ]
  },
  {
   "cell_type": "markdown",
   "metadata": {},
   "source": [
    "To create a 2D array, you need to pass a list of columns to ** *np.array()* ** function, where each column is a list of row elements. You are provided with come examples below, but feel free to experiment with sizes!\n",
    "\n",
    "Matrix 3x2:"
   ]
  },
  {
   "cell_type": "code",
   "execution_count": 8,
   "metadata": {},
   "outputs": [
    {
     "data": {
      "text/plain": [
       "array([[1, 2],\n",
       "       [3, 3],\n",
       "       [4, 5]])"
      ]
     },
     "execution_count": 8,
     "metadata": {},
     "output_type": "execute_result"
    }
   ],
   "source": [
    "np.array( [ [1, 2], [3, 3], [4, 5] ] )"
   ]
  },
  {
   "cell_type": "markdown",
   "metadata": {},
   "source": [
    "Matrix 1x6:"
   ]
  },
  {
   "cell_type": "code",
   "execution_count": 9,
   "metadata": {},
   "outputs": [
    {
     "data": {
      "text/plain": [
       "array([[1, 2, 3, 3, 4, 5]])"
      ]
     },
     "execution_count": 9,
     "metadata": {},
     "output_type": "execute_result"
    }
   ],
   "source": [
    "np.array( [ [1, 2, 3, 3, 4, 5] ] )"
   ]
  },
  {
   "cell_type": "markdown",
   "metadata": {},
   "source": [
    "Matrix 6x1:"
   ]
  },
  {
   "cell_type": "code",
   "execution_count": 10,
   "metadata": {},
   "outputs": [
    {
     "data": {
      "text/plain": [
       "array([[1],\n",
       "       [2],\n",
       "       [3],\n",
       "       [3],\n",
       "       [4],\n",
       "       [5]])"
      ]
     },
     "execution_count": 10,
     "metadata": {},
     "output_type": "execute_result"
    }
   ],
   "source": [
    "np.array( [ [1], [2], [3], [3], [4], [5] ] )"
   ]
  },
  {
   "cell_type": "markdown",
   "metadata": {},
   "source": [
    "## 1.3 Basic operations on arrays\n",
    "\n",
    "Numpy is very efficient with array operations. Given two arrays A and B you can add them, multiply them, or calculate the inverse. Examples are provided to you below. For more information refer to: https://docs.scipy.org/doc/numpy-1.13.0/reference/generated/numpy.matrix.html"
   ]
  },
  {
   "cell_type": "code",
   "execution_count": 11,
   "metadata": {},
   "outputs": [
    {
     "name": "stdout",
     "output_type": "stream",
     "text": [
      "[[1 2]\n",
      " [0 4]]\n",
      "\n",
      "[[ 4  0]\n",
      " [ 3 -1]]\n"
     ]
    }
   ],
   "source": [
    "A = np.array([ [1, 2], [0, 4]])\n",
    "B = np.array([ [4, 0], [3, -1]])\n",
    "\n",
    "print(A)\n",
    "print()\n",
    "print(B)"
   ]
  },
  {
   "cell_type": "code",
   "execution_count": 12,
   "metadata": {},
   "outputs": [
    {
     "data": {
      "text/plain": [
       "array([[5, 2],\n",
       "       [3, 3]])"
      ]
     },
     "execution_count": 12,
     "metadata": {},
     "output_type": "execute_result"
    }
   ],
   "source": [
    "A + B"
   ]
  },
  {
   "cell_type": "code",
   "execution_count": 13,
   "metadata": {},
   "outputs": [
    {
     "data": {
      "text/plain": [
       "array([[-3,  2],\n",
       "       [-3,  5]])"
      ]
     },
     "execution_count": 13,
     "metadata": {},
     "output_type": "execute_result"
    }
   ],
   "source": [
    "A - B"
   ]
  },
  {
   "cell_type": "code",
   "execution_count": 14,
   "metadata": {},
   "outputs": [
    {
     "data": {
      "text/plain": [
       "array([[ 4,  0],\n",
       "       [ 0, -4]])"
      ]
     },
     "execution_count": 14,
     "metadata": {},
     "output_type": "execute_result"
    }
   ],
   "source": [
    "A * B"
   ]
  },
  {
   "cell_type": "markdown",
   "metadata": {},
   "source": [
    "To calculate inverse you have to import ** *inv* ** package. This is done for you in the first script at the beginning of this notebook."
   ]
  },
  {
   "cell_type": "code",
   "execution_count": 15,
   "metadata": {},
   "outputs": [
    {
     "data": {
      "text/plain": [
       "array([[ 1.  , -0.5 ],\n",
       "       [ 0.  ,  0.25]])"
      ]
     },
     "execution_count": 15,
     "metadata": {},
     "output_type": "execute_result"
    }
   ],
   "source": [
    "inv(A)"
   ]
  },
  {
   "cell_type": "markdown",
   "metadata": {},
   "source": [
    "## 1.4 Functions for creating custom arrays\n",
    "Numpy provides functions that enable to generate arrays for you. Examples are provided below.\n",
    "\n",
    "** *np.zeros( (2, 2) )* ** creates 2x2 matrix containing only zeros, ** *np.ones( (2, 3) )* ** creates 2x3 matrix containing only ones, and ** *np.random.rand(3, 2)* ** creates 3x2 matrix containing random numbers between 0 - 1.\n",
    "\n",
    "You can create 1-dimensional arrays, 2- or even more dimensional matrices."
   ]
  },
  {
   "cell_type": "code",
   "execution_count": 16,
   "metadata": {},
   "outputs": [
    {
     "data": {
      "text/plain": [
       "array([[ 0.,  0.],\n",
       "       [ 0.,  0.]])"
      ]
     },
     "execution_count": 16,
     "metadata": {},
     "output_type": "execute_result"
    }
   ],
   "source": [
    "np.zeros((2, 2))"
   ]
  },
  {
   "cell_type": "code",
   "execution_count": 17,
   "metadata": {},
   "outputs": [
    {
     "data": {
      "text/plain": [
       "array([[ 1.,  1.,  1.],\n",
       "       [ 1.,  1.,  1.]])"
      ]
     },
     "execution_count": 17,
     "metadata": {},
     "output_type": "execute_result"
    }
   ],
   "source": [
    "np.ones((2, 3))"
   ]
  },
  {
   "cell_type": "code",
   "execution_count": 18,
   "metadata": {},
   "outputs": [
    {
     "data": {
      "text/plain": [
       "array([[ 0.77044942,  0.61046505],\n",
       "       [ 0.82482842,  0.1298463 ],\n",
       "       [ 0.46491163,  0.24932327]])"
      ]
     },
     "execution_count": 18,
     "metadata": {},
     "output_type": "execute_result"
    }
   ],
   "source": [
    "np.random.rand(3,2)"
   ]
  },
  {
   "cell_type": "markdown",
   "metadata": {},
   "source": [
    "4D matrix 3x2x2x4:"
   ]
  },
  {
   "cell_type": "code",
   "execution_count": 19,
   "metadata": {},
   "outputs": [
    {
     "data": {
      "text/plain": [
       "array([[[[ 0.46057643,  0.88457976,  0.15329158,  0.66469134],\n",
       "         [ 0.63301954,  0.08287725,  0.06391142,  0.74054745]],\n",
       "\n",
       "        [[ 0.76656553,  0.81986894,  0.79411521,  0.39608417],\n",
       "         [ 0.23577641,  0.0554035 ,  0.51538962,  0.87632247]]],\n",
       "\n",
       "\n",
       "       [[[ 0.97373072,  0.97620847,  0.76669715,  0.2283542 ],\n",
       "         [ 0.01877245,  0.95357896,  0.89220995,  0.08922766]],\n",
       "\n",
       "        [[ 0.88018606,  0.53191146,  0.46890286,  0.62010489],\n",
       "         [ 0.9779534 ,  0.15542074,  0.11899297,  0.92844411]]],\n",
       "\n",
       "\n",
       "       [[[ 0.62294831,  0.12010562,  0.2200909 ,  0.61108386],\n",
       "         [ 0.99664771,  0.91706413,  0.79728883,  0.0046648 ]],\n",
       "\n",
       "        [[ 0.79865085,  0.56806365,  0.33659093,  0.90927796],\n",
       "         [ 0.58452455,  0.55686128,  0.47332551,  0.11053549]]]])"
      ]
     },
     "execution_count": 19,
     "metadata": {},
     "output_type": "execute_result"
    }
   ],
   "source": [
    "np.random.rand(3, 2, 2, 4)"
   ]
  },
  {
   "cell_type": "markdown",
   "metadata": {},
   "source": [
    "## 1.5 Slicing arrays\n",
    "Numpy allows to slice the original array and work on the slide instead of the whole dataset"
   ]
  },
  {
   "cell_type": "code",
   "execution_count": 20,
   "metadata": {},
   "outputs": [
    {
     "name": "stdout",
     "output_type": "stream",
     "text": [
      "[[ 0.2989935   0.19927966  0.58283141]\n",
      " [ 0.71328775  0.16067147  0.65277094]\n",
      " [ 0.5315086   0.29988169  0.14839203]]\n",
      "\n",
      "[[ 0.19927966  0.58283141]\n",
      " [ 0.16067147  0.65277094]]\n"
     ]
    }
   ],
   "source": [
    "some_array = np.random.rand(3, 3)\n",
    "\n",
    "print(some_array)\n",
    "\n",
    "slice_array = some_array[0:2, 1:3]\n",
    "\n",
    "print()\n",
    "print(slice_array)"
   ]
  },
  {
   "cell_type": "markdown",
   "metadata": {},
   "source": [
    "You can specify the range which columns/rows should be included by using the format *array[ column_start:column_end, row_start:row_end ]*. Rows and columns in numpy (and also in Pandas) start indexing from 0, therefore if you want to include first and second column you need to use 0:2, if second and third use 1:3 etc. A notation 1:4 means including elements from index 1, 2 and 3. Note, that 4 is not included.\n",
    "\n",
    "Again, remember that working on the slice will modify the original array too! The slice of an array has different indexing now, therefore the same element in the example below will have [0, 0] location in the slice array, and [0, 1] location in the original array."
   ]
  },
  {
   "cell_type": "code",
   "execution_count": 21,
   "metadata": {},
   "outputs": [
    {
     "name": "stdout",
     "output_type": "stream",
     "text": [
      "Before change:\n",
      "some_array:\n",
      " [[ 0.2989935   0.19927966  0.58283141]\n",
      " [ 0.71328775  0.16067147  0.65277094]\n",
      " [ 0.5315086   0.29988169  0.14839203]]\n",
      "some_array2:\n",
      " [[ 0.19927966  0.58283141]\n",
      " [ 0.16067147  0.65277094]]\n",
      "\n",
      "After change:\n",
      "some_array:\n",
      " [[ 0.2989935  -6.          0.58283141]\n",
      " [ 0.71328775  0.16067147  0.65277094]\n",
      " [ 0.5315086   0.29988169  0.14839203]]\n",
      "some_array2:\n",
      " [[-6.          0.58283141]\n",
      " [ 0.16067147  0.65277094]]\n",
      "\n",
      "-6.0 -6.0\n"
     ]
    }
   ],
   "source": [
    "print(\"Before change:\")\n",
    "print(\"some_array:\\n\", some_array)\n",
    "print(\"some_array2:\\n\", slice_array)\n",
    "\n",
    "slice_array[0, 0] = -6\n",
    "\n",
    "print(\"\\nAfter change:\")\n",
    "print(\"some_array:\\n\", some_array)\n",
    "print(\"some_array2:\\n\", slice_array)\n",
    "\n",
    "print()\n",
    "print(slice_array[0, 0], some_array[0, 1])"
   ]
  },
  {
   "cell_type": "markdown",
   "metadata": {},
   "source": [
    "# 2. Introduction to Pandas\n",
    "\n",
    "Pandas, similarly to numpy, provides support with large, multidimensional arrays. Additionally it is equipped with many more functions. The following section provides some key information about the use of the library for data manipulation. You are free to read more here: http://pandas.pydata.org/pandas-docs/stable/tutorials.html"
   ]
  },
  {
   "cell_type": "markdown",
   "metadata": {},
   "source": [
    "## 2.1 Importing data from files\n",
    "The ** *read_csv()* ** function enables to read CSV files, however pandas enables to read other formats e.g. excel files. Below, is an exemplary code snippet which reads the file *data.csv* and loads it into pandas DataFrame.\n",
    "\n",
    "Useful arguments of the function:\n",
    "- ** *sep* ** specifies the separator with which cells are separated with, \n",
    "- *** encoding* ** enables to change the file encoding. The default encoding is *utf-8*, however you might try *ISO-8859-1* if utf-8 does not work.\n",
    "\n",
    "Run the code below to examine first rows of the dataset with ** *dataFrame.head()* ** function. Try to change the encoding to *utf-8* and see what happens!"
   ]
  },
  {
   "cell_type": "code",
   "execution_count": 22,
   "metadata": {},
   "outputs": [
    {
     "data": {
      "text/html": [
       "<div>\n",
       "<style>\n",
       "    .dataframe thead tr:only-child th {\n",
       "        text-align: right;\n",
       "    }\n",
       "\n",
       "    .dataframe thead th {\n",
       "        text-align: left;\n",
       "    }\n",
       "\n",
       "    .dataframe tbody tr th {\n",
       "        vertical-align: top;\n",
       "    }\n",
       "</style>\n",
       "<table border=\"1\" class=\"dataframe\">\n",
       "  <thead>\n",
       "    <tr style=\"text-align: right;\">\n",
       "      <th></th>\n",
       "      <th>InvoiceNo</th>\n",
       "      <th>StockCode</th>\n",
       "      <th>Description</th>\n",
       "      <th>Quantity</th>\n",
       "      <th>InvoiceDate</th>\n",
       "      <th>UnitPrice</th>\n",
       "      <th>CustomerID</th>\n",
       "      <th>Country</th>\n",
       "    </tr>\n",
       "  </thead>\n",
       "  <tbody>\n",
       "    <tr>\n",
       "      <th>0</th>\n",
       "      <td>536365</td>\n",
       "      <td>85123A</td>\n",
       "      <td>WHITE HANGING HEART T-LIGHT HOLDER</td>\n",
       "      <td>6</td>\n",
       "      <td>12/1/2010 8:26</td>\n",
       "      <td>2.55</td>\n",
       "      <td>17850.0</td>\n",
       "      <td>United Kingdom</td>\n",
       "    </tr>\n",
       "    <tr>\n",
       "      <th>1</th>\n",
       "      <td>536365</td>\n",
       "      <td>71053</td>\n",
       "      <td>WHITE METAL LANTERN</td>\n",
       "      <td>6</td>\n",
       "      <td>12/1/2010 8:26</td>\n",
       "      <td>3.39</td>\n",
       "      <td>17850.0</td>\n",
       "      <td>United Kingdom</td>\n",
       "    </tr>\n",
       "    <tr>\n",
       "      <th>2</th>\n",
       "      <td>536365</td>\n",
       "      <td>84406B</td>\n",
       "      <td>CREAM CUPID HEARTS COAT HANGER</td>\n",
       "      <td>8</td>\n",
       "      <td>12/1/2010 8:26</td>\n",
       "      <td>2.75</td>\n",
       "      <td>17850.0</td>\n",
       "      <td>United Kingdom</td>\n",
       "    </tr>\n",
       "    <tr>\n",
       "      <th>3</th>\n",
       "      <td>536365</td>\n",
       "      <td>84029G</td>\n",
       "      <td>KNITTED UNION FLAG HOT WATER BOTTLE</td>\n",
       "      <td>6</td>\n",
       "      <td>12/1/2010 8:26</td>\n",
       "      <td>3.39</td>\n",
       "      <td>17850.0</td>\n",
       "      <td>United Kingdom</td>\n",
       "    </tr>\n",
       "    <tr>\n",
       "      <th>4</th>\n",
       "      <td>536365</td>\n",
       "      <td>84029E</td>\n",
       "      <td>RED WOOLLY HOTTIE WHITE HEART.</td>\n",
       "      <td>6</td>\n",
       "      <td>12/1/2010 8:26</td>\n",
       "      <td>3.39</td>\n",
       "      <td>17850.0</td>\n",
       "      <td>United Kingdom</td>\n",
       "    </tr>\n",
       "  </tbody>\n",
       "</table>\n",
       "</div>"
      ],
      "text/plain": [
       "  InvoiceNo StockCode                          Description  Quantity  \\\n",
       "0    536365    85123A   WHITE HANGING HEART T-LIGHT HOLDER         6   \n",
       "1    536365     71053                  WHITE METAL LANTERN         6   \n",
       "2    536365    84406B       CREAM CUPID HEARTS COAT HANGER         8   \n",
       "3    536365    84029G  KNITTED UNION FLAG HOT WATER BOTTLE         6   \n",
       "4    536365    84029E       RED WOOLLY HOTTIE WHITE HEART.         6   \n",
       "\n",
       "      InvoiceDate  UnitPrice  CustomerID         Country  \n",
       "0  12/1/2010 8:26       2.55     17850.0  United Kingdom  \n",
       "1  12/1/2010 8:26       3.39     17850.0  United Kingdom  \n",
       "2  12/1/2010 8:26       2.75     17850.0  United Kingdom  \n",
       "3  12/1/2010 8:26       3.39     17850.0  United Kingdom  \n",
       "4  12/1/2010 8:26       3.39     17850.0  United Kingdom  "
      ]
     },
     "execution_count": 22,
     "metadata": {},
     "output_type": "execute_result"
    }
   ],
   "source": [
    "dataFrame = pd.read_csv('./datasets/ecommerce_data/e_commerce.csv', sep=',', encoding='ISO-8859-1')\n",
    "dataFrame.head()"
   ]
  },
  {
   "cell_type": "markdown",
   "metadata": {},
   "source": [
    "## 2.2 Creating DataFrame from a python dictionary\n",
    "Alternatively, you can create Pandas DataFrame from a dictionay"
   ]
  },
  {
   "cell_type": "code",
   "execution_count": 23,
   "metadata": {},
   "outputs": [
    {
     "data": {
      "text/html": [
       "<div>\n",
       "<style>\n",
       "    .dataframe thead tr:only-child th {\n",
       "        text-align: right;\n",
       "    }\n",
       "\n",
       "    .dataframe thead th {\n",
       "        text-align: left;\n",
       "    }\n",
       "\n",
       "    .dataframe tbody tr th {\n",
       "        vertical-align: top;\n",
       "    }\n",
       "</style>\n",
       "<table border=\"1\" class=\"dataframe\">\n",
       "  <thead>\n",
       "    <tr style=\"text-align: right;\">\n",
       "      <th></th>\n",
       "      <th>B</th>\n",
       "      <th>G</th>\n",
       "      <th>R</th>\n",
       "      <th>color_name</th>\n",
       "    </tr>\n",
       "  </thead>\n",
       "  <tbody>\n",
       "    <tr>\n",
       "      <th>0</th>\n",
       "      <td>0</td>\n",
       "      <td>0</td>\n",
       "      <td>0</td>\n",
       "      <td>black</td>\n",
       "    </tr>\n",
       "    <tr>\n",
       "      <th>1</th>\n",
       "      <td>255</td>\n",
       "      <td>255</td>\n",
       "      <td>255</td>\n",
       "      <td>white</td>\n",
       "    </tr>\n",
       "    <tr>\n",
       "      <th>2</th>\n",
       "      <td>0</td>\n",
       "      <td>0</td>\n",
       "      <td>255</td>\n",
       "      <td>red</td>\n",
       "    </tr>\n",
       "    <tr>\n",
       "      <th>3</th>\n",
       "      <td>255</td>\n",
       "      <td>0</td>\n",
       "      <td>0</td>\n",
       "      <td>blue</td>\n",
       "    </tr>\n",
       "    <tr>\n",
       "      <th>4</th>\n",
       "      <td>0</td>\n",
       "      <td>255</td>\n",
       "      <td>0</td>\n",
       "      <td>green</td>\n",
       "    </tr>\n",
       "  </tbody>\n",
       "</table>\n",
       "</div>"
      ],
      "text/plain": [
       "     B    G    R color_name\n",
       "0    0    0    0      black\n",
       "1  255  255  255      white\n",
       "2    0    0  255        red\n",
       "3  255    0    0       blue\n",
       "4    0  255    0      green"
      ]
     },
     "execution_count": 23,
     "metadata": {},
     "output_type": "execute_result"
    }
   ],
   "source": [
    "data = [{'color_name': 'black', 'R': 0, 'G': 0, 'B': 0}, {'color_name': 'white', 'R': 255, 'G': 255, 'B': 255}, \n",
    "        {'color_name': 'red', 'R': 255, 'G': 0, 'B': 0}, {'color_name': 'blue', 'R': 0, 'G': 0, 'B': 255},\n",
    "        {'color_name': 'green', 'R': 0, 'G': 255, 'B': 0}]\n",
    "\n",
    "dataFrame = pd.DataFrame(data)\n",
    "dataFrame"
   ]
  },
  {
   "cell_type": "markdown",
   "metadata": {},
   "source": [
    "## 2.3 Inspecting the dataset\n",
    "\n",
    "To inspect the dataset use ** *head()* ** function. This will show you first 5 rows of the dataset."
   ]
  },
  {
   "cell_type": "code",
   "execution_count": 24,
   "metadata": {},
   "outputs": [
    {
     "data": {
      "text/html": [
       "<div>\n",
       "<style>\n",
       "    .dataframe thead tr:only-child th {\n",
       "        text-align: right;\n",
       "    }\n",
       "\n",
       "    .dataframe thead th {\n",
       "        text-align: left;\n",
       "    }\n",
       "\n",
       "    .dataframe tbody tr th {\n",
       "        vertical-align: top;\n",
       "    }\n",
       "</style>\n",
       "<table border=\"1\" class=\"dataframe\">\n",
       "  <thead>\n",
       "    <tr style=\"text-align: right;\">\n",
       "      <th></th>\n",
       "      <th>B</th>\n",
       "      <th>G</th>\n",
       "      <th>R</th>\n",
       "      <th>color_name</th>\n",
       "    </tr>\n",
       "  </thead>\n",
       "  <tbody>\n",
       "    <tr>\n",
       "      <th>0</th>\n",
       "      <td>0</td>\n",
       "      <td>0</td>\n",
       "      <td>0</td>\n",
       "      <td>black</td>\n",
       "    </tr>\n",
       "    <tr>\n",
       "      <th>1</th>\n",
       "      <td>255</td>\n",
       "      <td>255</td>\n",
       "      <td>255</td>\n",
       "      <td>white</td>\n",
       "    </tr>\n",
       "    <tr>\n",
       "      <th>2</th>\n",
       "      <td>0</td>\n",
       "      <td>0</td>\n",
       "      <td>255</td>\n",
       "      <td>red</td>\n",
       "    </tr>\n",
       "    <tr>\n",
       "      <th>3</th>\n",
       "      <td>255</td>\n",
       "      <td>0</td>\n",
       "      <td>0</td>\n",
       "      <td>blue</td>\n",
       "    </tr>\n",
       "    <tr>\n",
       "      <th>4</th>\n",
       "      <td>0</td>\n",
       "      <td>255</td>\n",
       "      <td>0</td>\n",
       "      <td>green</td>\n",
       "    </tr>\n",
       "  </tbody>\n",
       "</table>\n",
       "</div>"
      ],
      "text/plain": [
       "     B    G    R color_name\n",
       "0    0    0    0      black\n",
       "1  255  255  255      white\n",
       "2    0    0  255        red\n",
       "3  255    0    0       blue\n",
       "4    0  255    0      green"
      ]
     },
     "execution_count": 24,
     "metadata": {},
     "output_type": "execute_result"
    }
   ],
   "source": [
    "dataFrame.head()"
   ]
  },
  {
   "cell_type": "markdown",
   "metadata": {},
   "source": [
    "Hoever, it will work only when ** *head()* ** is executed at the end of the code block. If you want to print your dataframe somewhere in the middle of the code block use:"
   ]
  },
  {
   "cell_type": "code",
   "execution_count": 25,
   "metadata": {},
   "outputs": [
    {
     "name": "stdout",
     "output_type": "stream",
     "text": [
      "     B    G    R color_name\n",
      "0    0    0    0      black\n",
      "1  255  255  255      white\n",
      "2    0    0  255        red\n",
      "3  255    0    0       blue\n",
      "4    0  255    0      green\n"
     ]
    }
   ],
   "source": [
    "print(dataFrame.head())"
   ]
  },
  {
   "cell_type": "markdown",
   "metadata": {},
   "source": [
    "## 2.4 Selecting, modifying and removing rows/columns\n",
    "\n",
    "### Selecting a column\n",
    "A good thing about Pandas is that you can refer to specific columns simply by using its name:"
   ]
  },
  {
   "cell_type": "code",
   "execution_count": 26,
   "metadata": {},
   "outputs": [
    {
     "data": {
      "text/plain": [
       "0      0\n",
       "1    255\n",
       "2      0\n",
       "3    255\n",
       "4      0\n",
       "Name: B, dtype: int64"
      ]
     },
     "execution_count": 26,
     "metadata": {},
     "output_type": "execute_result"
    }
   ],
   "source": [
    "dataFrame['B']"
   ]
  },
  {
   "cell_type": "code",
   "execution_count": 27,
   "metadata": {},
   "outputs": [
    {
     "data": {
      "text/plain": [
       "0    black\n",
       "1    white\n",
       "2      red\n",
       "3     blue\n",
       "4    green\n",
       "Name: color_name, dtype: object"
      ]
     },
     "execution_count": 27,
     "metadata": {},
     "output_type": "execute_result"
    }
   ],
   "source": [
    "dataFrame['color_name']"
   ]
  },
  {
   "cell_type": "markdown",
   "metadata": {},
   "source": [
    "### Selecting rows\n",
    "To select range of rows use the code below. DataFrame[2:4] selects all columns for rows with indexes 2 and 3 (4 is not included)"
   ]
  },
  {
   "cell_type": "code",
   "execution_count": 28,
   "metadata": {},
   "outputs": [
    {
     "data": {
      "text/html": [
       "<div>\n",
       "<style>\n",
       "    .dataframe thead tr:only-child th {\n",
       "        text-align: right;\n",
       "    }\n",
       "\n",
       "    .dataframe thead th {\n",
       "        text-align: left;\n",
       "    }\n",
       "\n",
       "    .dataframe tbody tr th {\n",
       "        vertical-align: top;\n",
       "    }\n",
       "</style>\n",
       "<table border=\"1\" class=\"dataframe\">\n",
       "  <thead>\n",
       "    <tr style=\"text-align: right;\">\n",
       "      <th></th>\n",
       "      <th>B</th>\n",
       "      <th>G</th>\n",
       "      <th>R</th>\n",
       "      <th>color_name</th>\n",
       "    </tr>\n",
       "  </thead>\n",
       "  <tbody>\n",
       "    <tr>\n",
       "      <th>2</th>\n",
       "      <td>0</td>\n",
       "      <td>0</td>\n",
       "      <td>255</td>\n",
       "      <td>red</td>\n",
       "    </tr>\n",
       "    <tr>\n",
       "      <th>3</th>\n",
       "      <td>255</td>\n",
       "      <td>0</td>\n",
       "      <td>0</td>\n",
       "      <td>blue</td>\n",
       "    </tr>\n",
       "  </tbody>\n",
       "</table>\n",
       "</div>"
      ],
      "text/plain": [
       "     B  G    R color_name\n",
       "2    0  0  255        red\n",
       "3  255  0    0       blue"
      ]
     },
     "execution_count": 28,
     "metadata": {},
     "output_type": "execute_result"
    }
   ],
   "source": [
    "dataFrame[2:4]"
   ]
  },
  {
   "cell_type": "markdown",
   "metadata": {},
   "source": [
    "If you want to select specific rows use ** *loc* **, or ** *iloc* **. loc will return the row that matches given label, whereas iloc will return a row that has ith position in the data frame."
   ]
  },
  {
   "cell_type": "code",
   "execution_count": 29,
   "metadata": {},
   "outputs": [
    {
     "data": {
      "text/html": [
       "<div>\n",
       "<style>\n",
       "    .dataframe thead tr:only-child th {\n",
       "        text-align: right;\n",
       "    }\n",
       "\n",
       "    .dataframe thead th {\n",
       "        text-align: left;\n",
       "    }\n",
       "\n",
       "    .dataframe tbody tr th {\n",
       "        vertical-align: top;\n",
       "    }\n",
       "</style>\n",
       "<table border=\"1\" class=\"dataframe\">\n",
       "  <thead>\n",
       "    <tr style=\"text-align: right;\">\n",
       "      <th></th>\n",
       "      <th>B</th>\n",
       "      <th>G</th>\n",
       "      <th>R</th>\n",
       "      <th>color_name</th>\n",
       "    </tr>\n",
       "  </thead>\n",
       "  <tbody>\n",
       "    <tr>\n",
       "      <th>0</th>\n",
       "      <td>0</td>\n",
       "      <td>0</td>\n",
       "      <td>0</td>\n",
       "      <td>black</td>\n",
       "    </tr>\n",
       "    <tr>\n",
       "      <th>2</th>\n",
       "      <td>0</td>\n",
       "      <td>0</td>\n",
       "      <td>255</td>\n",
       "      <td>red</td>\n",
       "    </tr>\n",
       "  </tbody>\n",
       "</table>\n",
       "</div>"
      ],
      "text/plain": [
       "   B  G    R color_name\n",
       "0  0  0    0      black\n",
       "2  0  0  255        red"
      ]
     },
     "execution_count": 29,
     "metadata": {},
     "output_type": "execute_result"
    }
   ],
   "source": [
    "dataFrame.loc[[0,2]]"
   ]
  },
  {
   "cell_type": "markdown",
   "metadata": {},
   "source": [
    "You can also select first e.g. 2 rows of the dataset, like below:"
   ]
  },
  {
   "cell_type": "code",
   "execution_count": 30,
   "metadata": {},
   "outputs": [
    {
     "data": {
      "text/html": [
       "<div>\n",
       "<style>\n",
       "    .dataframe thead tr:only-child th {\n",
       "        text-align: right;\n",
       "    }\n",
       "\n",
       "    .dataframe thead th {\n",
       "        text-align: left;\n",
       "    }\n",
       "\n",
       "    .dataframe tbody tr th {\n",
       "        vertical-align: top;\n",
       "    }\n",
       "</style>\n",
       "<table border=\"1\" class=\"dataframe\">\n",
       "  <thead>\n",
       "    <tr style=\"text-align: right;\">\n",
       "      <th></th>\n",
       "      <th>B</th>\n",
       "      <th>G</th>\n",
       "      <th>R</th>\n",
       "      <th>color_name</th>\n",
       "    </tr>\n",
       "  </thead>\n",
       "  <tbody>\n",
       "    <tr>\n",
       "      <th>0</th>\n",
       "      <td>0</td>\n",
       "      <td>0</td>\n",
       "      <td>0</td>\n",
       "      <td>black</td>\n",
       "    </tr>\n",
       "    <tr>\n",
       "      <th>1</th>\n",
       "      <td>255</td>\n",
       "      <td>255</td>\n",
       "      <td>255</td>\n",
       "      <td>white</td>\n",
       "    </tr>\n",
       "  </tbody>\n",
       "</table>\n",
       "</div>"
      ],
      "text/plain": [
       "     B    G    R color_name\n",
       "0    0    0    0      black\n",
       "1  255  255  255      white"
      ]
     },
     "execution_count": 30,
     "metadata": {},
     "output_type": "execute_result"
    }
   ],
   "source": [
    "dataFrame[:2]"
   ]
  },
  {
   "cell_type": "markdown",
   "metadata": {},
   "source": [
    "Or last rows"
   ]
  },
  {
   "cell_type": "code",
   "execution_count": 31,
   "metadata": {},
   "outputs": [
    {
     "data": {
      "text/html": [
       "<div>\n",
       "<style>\n",
       "    .dataframe thead tr:only-child th {\n",
       "        text-align: right;\n",
       "    }\n",
       "\n",
       "    .dataframe thead th {\n",
       "        text-align: left;\n",
       "    }\n",
       "\n",
       "    .dataframe tbody tr th {\n",
       "        vertical-align: top;\n",
       "    }\n",
       "</style>\n",
       "<table border=\"1\" class=\"dataframe\">\n",
       "  <thead>\n",
       "    <tr style=\"text-align: right;\">\n",
       "      <th></th>\n",
       "      <th>B</th>\n",
       "      <th>G</th>\n",
       "      <th>R</th>\n",
       "      <th>color_name</th>\n",
       "    </tr>\n",
       "  </thead>\n",
       "  <tbody>\n",
       "    <tr>\n",
       "      <th>3</th>\n",
       "      <td>255</td>\n",
       "      <td>0</td>\n",
       "      <td>0</td>\n",
       "      <td>blue</td>\n",
       "    </tr>\n",
       "    <tr>\n",
       "      <th>4</th>\n",
       "      <td>0</td>\n",
       "      <td>255</td>\n",
       "      <td>0</td>\n",
       "      <td>green</td>\n",
       "    </tr>\n",
       "  </tbody>\n",
       "</table>\n",
       "</div>"
      ],
      "text/plain": [
       "     B    G  R color_name\n",
       "3  255    0  0       blue\n",
       "4    0  255  0      green"
      ]
     },
     "execution_count": 31,
     "metadata": {},
     "output_type": "execute_result"
    }
   ],
   "source": [
    "dataFrame[-2:]"
   ]
  },
  {
   "cell_type": "markdown",
   "metadata": {},
   "source": [
    "### Selecting multiple columns\n",
    "You can select multiple columns by passing it as a list of column names, just like below:"
   ]
  },
  {
   "cell_type": "code",
   "execution_count": 32,
   "metadata": {},
   "outputs": [
    {
     "data": {
      "text/html": [
       "<div>\n",
       "<style>\n",
       "    .dataframe thead tr:only-child th {\n",
       "        text-align: right;\n",
       "    }\n",
       "\n",
       "    .dataframe thead th {\n",
       "        text-align: left;\n",
       "    }\n",
       "\n",
       "    .dataframe tbody tr th {\n",
       "        vertical-align: top;\n",
       "    }\n",
       "</style>\n",
       "<table border=\"1\" class=\"dataframe\">\n",
       "  <thead>\n",
       "    <tr style=\"text-align: right;\">\n",
       "      <th></th>\n",
       "      <th>B</th>\n",
       "      <th>color_name</th>\n",
       "    </tr>\n",
       "  </thead>\n",
       "  <tbody>\n",
       "    <tr>\n",
       "      <th>0</th>\n",
       "      <td>0</td>\n",
       "      <td>black</td>\n",
       "    </tr>\n",
       "    <tr>\n",
       "      <th>1</th>\n",
       "      <td>255</td>\n",
       "      <td>white</td>\n",
       "    </tr>\n",
       "    <tr>\n",
       "      <th>2</th>\n",
       "      <td>0</td>\n",
       "      <td>red</td>\n",
       "    </tr>\n",
       "    <tr>\n",
       "      <th>3</th>\n",
       "      <td>255</td>\n",
       "      <td>blue</td>\n",
       "    </tr>\n",
       "    <tr>\n",
       "      <th>4</th>\n",
       "      <td>0</td>\n",
       "      <td>green</td>\n",
       "    </tr>\n",
       "  </tbody>\n",
       "</table>\n",
       "</div>"
      ],
      "text/plain": [
       "     B color_name\n",
       "0    0      black\n",
       "1  255      white\n",
       "2    0        red\n",
       "3  255       blue\n",
       "4    0      green"
      ]
     },
     "execution_count": 32,
     "metadata": {},
     "output_type": "execute_result"
    }
   ],
   "source": [
    "column_slice = dataFrame[['B','color_name']]\n",
    "column_slice.head()"
   ]
  },
  {
   "cell_type": "markdown",
   "metadata": {},
   "source": [
    "While slicing this way, the slice created is not a pointer to the original data frame, therefore modifying it will not change the original dataset."
   ]
  },
  {
   "cell_type": "code",
   "execution_count": 33,
   "metadata": {},
   "outputs": [
    {
     "name": "stdout",
     "output_type": "stream",
     "text": [
      "\n",
      "Before changes:\n",
      "     B color_name\n",
      "0    0      black\n",
      "1  255      white\n",
      "2    0        red\n",
      "3  255       blue\n",
      "4    0      green\n",
      "\n",
      "     B    G    R color_name\n",
      "0    0    0    0      black\n",
      "1  255  255  255      white\n",
      "2    0    0  255        red\n",
      "3  255    0    0       blue\n",
      "4    0  255    0      green\n",
      "\n",
      "After changes:\n",
      "     B color_name\n",
      "0   14      black\n",
      "1  255      white\n",
      "2    0        red\n",
      "3  255       blue\n",
      "4    0      green\n",
      "\n",
      "     B    G    R color_name\n",
      "0    0    0    0      black\n",
      "1  255  255  255      white\n",
      "2    0    0  255        red\n",
      "3  255    0    0       blue\n",
      "4    0  255    0      green\n"
     ]
    },
    {
     "name": "stderr",
     "output_type": "stream",
     "text": [
      "/Users/pascalwichmann/anaconda/envs/py36ML/lib/python3.6/site-packages/pandas/core/indexing.py:517: SettingWithCopyWarning: \n",
      "A value is trying to be set on a copy of a slice from a DataFrame.\n",
      "Try using .loc[row_indexer,col_indexer] = value instead\n",
      "\n",
      "See the caveats in the documentation: http://pandas.pydata.org/pandas-docs/stable/indexing.html#indexing-view-versus-copy\n",
      "  self.obj[item] = s\n"
     ]
    }
   ],
   "source": [
    "column_slice = dataFrame[['B','color_name']]\n",
    "\n",
    "print(\"\\nBefore changes:\")\n",
    "print(column_slice)\n",
    "print()\n",
    "print(dataFrame)\n",
    "\n",
    "column_slice.loc[0, 'B'] = 14\n",
    "\n",
    "print(\"\\nAfter changes:\")\n",
    "print(column_slice)\n",
    "print()\n",
    "print(dataFrame)"
   ]
  },
  {
   "cell_type": "markdown",
   "metadata": {},
   "source": [
    "You can find more on indexing here: http://pandas.pydata.org/pandas-docs/stable/indexing.html; and more on slice modification here: http://pandas.pydata.org/pandas-docs/stable/indexing.html#indexing-view-versus-copy"
   ]
  },
  {
   "cell_type": "markdown",
   "metadata": {},
   "source": [
    "### Column names and indices\n",
    "You can return column names by using:"
   ]
  },
  {
   "cell_type": "code",
   "execution_count": 34,
   "metadata": {},
   "outputs": [
    {
     "data": {
      "text/plain": [
       "Index(['B', 'G', 'R', 'color_name'], dtype='object')"
      ]
     },
     "execution_count": 34,
     "metadata": {},
     "output_type": "execute_result"
    }
   ],
   "source": [
    "dataFrame.columns"
   ]
  },
  {
   "cell_type": "markdown",
   "metadata": {},
   "source": [
    "You can see the row numbers/names by using:"
   ]
  },
  {
   "cell_type": "code",
   "execution_count": 35,
   "metadata": {},
   "outputs": [
    {
     "data": {
      "text/plain": [
       "RangeIndex(start=0, stop=5, step=1)"
      ]
     },
     "execution_count": 35,
     "metadata": {},
     "output_type": "execute_result"
    }
   ],
   "source": [
    "dataFrame.index"
   ]
  },
  {
   "cell_type": "markdown",
   "metadata": {},
   "source": [
    "### Conditional selection\n",
    "You can apply conditional selection by using ** dataFrame[*column_name*] *condition* *value* ** as specified below. The result of such expression is a True/False data frame which can be used to display rows which fulfil the condition. For example, the code below selects all rows that have *R* higher than 100."
   ]
  },
  {
   "cell_type": "code",
   "execution_count": 36,
   "metadata": {},
   "outputs": [
    {
     "data": {
      "text/plain": [
       "0    False\n",
       "1     True\n",
       "2     True\n",
       "3    False\n",
       "4    False\n",
       "Name: R, dtype: bool"
      ]
     },
     "execution_count": 36,
     "metadata": {},
     "output_type": "execute_result"
    }
   ],
   "source": [
    "select_greater_than_100 = (dataFrame['R'] > 100)\n",
    "select_greater_than_100"
   ]
  },
  {
   "cell_type": "code",
   "execution_count": 37,
   "metadata": {},
   "outputs": [
    {
     "data": {
      "text/html": [
       "<div>\n",
       "<style>\n",
       "    .dataframe thead tr:only-child th {\n",
       "        text-align: right;\n",
       "    }\n",
       "\n",
       "    .dataframe thead th {\n",
       "        text-align: left;\n",
       "    }\n",
       "\n",
       "    .dataframe tbody tr th {\n",
       "        vertical-align: top;\n",
       "    }\n",
       "</style>\n",
       "<table border=\"1\" class=\"dataframe\">\n",
       "  <thead>\n",
       "    <tr style=\"text-align: right;\">\n",
       "      <th></th>\n",
       "      <th>B</th>\n",
       "      <th>G</th>\n",
       "      <th>R</th>\n",
       "      <th>color_name</th>\n",
       "    </tr>\n",
       "  </thead>\n",
       "  <tbody>\n",
       "    <tr>\n",
       "      <th>1</th>\n",
       "      <td>255</td>\n",
       "      <td>255</td>\n",
       "      <td>255</td>\n",
       "      <td>white</td>\n",
       "    </tr>\n",
       "    <tr>\n",
       "      <th>2</th>\n",
       "      <td>0</td>\n",
       "      <td>0</td>\n",
       "      <td>255</td>\n",
       "      <td>red</td>\n",
       "    </tr>\n",
       "  </tbody>\n",
       "</table>\n",
       "</div>"
      ],
      "text/plain": [
       "     B    G    R color_name\n",
       "1  255  255  255      white\n",
       "2    0    0  255        red"
      ]
     },
     "execution_count": 37,
     "metadata": {},
     "output_type": "execute_result"
    }
   ],
   "source": [
    "dataFrame[select_greater_than_100]"
   ]
  },
  {
   "cell_type": "markdown",
   "metadata": {},
   "source": [
    "### Creating new columns\n",
    "You can create a new column just by assigning values to non-existent column name. You can use completely new values, or create column using values from another one, as shown below: "
   ]
  },
  {
   "cell_type": "code",
   "execution_count": 38,
   "metadata": {},
   "outputs": [
    {
     "data": {
      "text/html": [
       "<div>\n",
       "<style>\n",
       "    .dataframe thead tr:only-child th {\n",
       "        text-align: right;\n",
       "    }\n",
       "\n",
       "    .dataframe thead th {\n",
       "        text-align: left;\n",
       "    }\n",
       "\n",
       "    .dataframe tbody tr th {\n",
       "        vertical-align: top;\n",
       "    }\n",
       "</style>\n",
       "<table border=\"1\" class=\"dataframe\">\n",
       "  <thead>\n",
       "    <tr style=\"text-align: right;\">\n",
       "      <th></th>\n",
       "      <th>B</th>\n",
       "      <th>G</th>\n",
       "      <th>R</th>\n",
       "      <th>color_name</th>\n",
       "      <th>color_number</th>\n",
       "    </tr>\n",
       "  </thead>\n",
       "  <tbody>\n",
       "    <tr>\n",
       "      <th>0</th>\n",
       "      <td>0</td>\n",
       "      <td>0</td>\n",
       "      <td>0</td>\n",
       "      <td>black</td>\n",
       "      <td>0</td>\n",
       "    </tr>\n",
       "    <tr>\n",
       "      <th>1</th>\n",
       "      <td>255</td>\n",
       "      <td>255</td>\n",
       "      <td>255</td>\n",
       "      <td>white</td>\n",
       "      <td>0</td>\n",
       "    </tr>\n",
       "    <tr>\n",
       "      <th>2</th>\n",
       "      <td>0</td>\n",
       "      <td>0</td>\n",
       "      <td>255</td>\n",
       "      <td>red</td>\n",
       "      <td>0</td>\n",
       "    </tr>\n",
       "    <tr>\n",
       "      <th>3</th>\n",
       "      <td>255</td>\n",
       "      <td>0</td>\n",
       "      <td>0</td>\n",
       "      <td>blue</td>\n",
       "      <td>0</td>\n",
       "    </tr>\n",
       "    <tr>\n",
       "      <th>4</th>\n",
       "      <td>0</td>\n",
       "      <td>255</td>\n",
       "      <td>0</td>\n",
       "      <td>green</td>\n",
       "      <td>0</td>\n",
       "    </tr>\n",
       "  </tbody>\n",
       "</table>\n",
       "</div>"
      ],
      "text/plain": [
       "     B    G    R color_name  color_number\n",
       "0    0    0    0      black             0\n",
       "1  255  255  255      white             0\n",
       "2    0    0  255        red             0\n",
       "3  255    0    0       blue             0\n",
       "4    0  255    0      green             0"
      ]
     },
     "execution_count": 38,
     "metadata": {},
     "output_type": "execute_result"
    }
   ],
   "source": [
    "dataFrame['color_number'] = 0\n",
    "dataFrame.head()"
   ]
  },
  {
   "cell_type": "code",
   "execution_count": 39,
   "metadata": {},
   "outputs": [
    {
     "data": {
      "text/html": [
       "<div>\n",
       "<style>\n",
       "    .dataframe thead tr:only-child th {\n",
       "        text-align: right;\n",
       "    }\n",
       "\n",
       "    .dataframe thead th {\n",
       "        text-align: left;\n",
       "    }\n",
       "\n",
       "    .dataframe tbody tr th {\n",
       "        vertical-align: top;\n",
       "    }\n",
       "</style>\n",
       "<table border=\"1\" class=\"dataframe\">\n",
       "  <thead>\n",
       "    <tr style=\"text-align: right;\">\n",
       "      <th></th>\n",
       "      <th>B</th>\n",
       "      <th>G</th>\n",
       "      <th>R</th>\n",
       "      <th>color_name</th>\n",
       "      <th>color_number</th>\n",
       "    </tr>\n",
       "  </thead>\n",
       "  <tbody>\n",
       "    <tr>\n",
       "      <th>0</th>\n",
       "      <td>0</td>\n",
       "      <td>0</td>\n",
       "      <td>0</td>\n",
       "      <td>black</td>\n",
       "      <td>0</td>\n",
       "    </tr>\n",
       "    <tr>\n",
       "      <th>1</th>\n",
       "      <td>255</td>\n",
       "      <td>255</td>\n",
       "      <td>255</td>\n",
       "      <td>white</td>\n",
       "      <td>16777215</td>\n",
       "    </tr>\n",
       "    <tr>\n",
       "      <th>2</th>\n",
       "      <td>0</td>\n",
       "      <td>0</td>\n",
       "      <td>255</td>\n",
       "      <td>red</td>\n",
       "      <td>16711680</td>\n",
       "    </tr>\n",
       "    <tr>\n",
       "      <th>3</th>\n",
       "      <td>255</td>\n",
       "      <td>0</td>\n",
       "      <td>0</td>\n",
       "      <td>blue</td>\n",
       "      <td>255</td>\n",
       "    </tr>\n",
       "    <tr>\n",
       "      <th>4</th>\n",
       "      <td>0</td>\n",
       "      <td>255</td>\n",
       "      <td>0</td>\n",
       "      <td>green</td>\n",
       "      <td>65280</td>\n",
       "    </tr>\n",
       "  </tbody>\n",
       "</table>\n",
       "</div>"
      ],
      "text/plain": [
       "     B    G    R color_name  color_number\n",
       "0    0    0    0      black             0\n",
       "1  255  255  255      white      16777215\n",
       "2    0    0  255        red      16711680\n",
       "3  255    0    0       blue           255\n",
       "4    0  255    0      green         65280"
      ]
     },
     "execution_count": 39,
     "metadata": {},
     "output_type": "execute_result"
    }
   ],
   "source": [
    "dataFrame['color_number'] = 65536 * dataFrame['R'] + 256 * dataFrame['G'] + dataFrame['B']\n",
    "dataFrame.head()"
   ]
  },
  {
   "cell_type": "markdown",
   "metadata": {},
   "source": [
    "### Removing columns\n",
    "You can remove the column by using ** *del* **:"
   ]
  },
  {
   "cell_type": "code",
   "execution_count": 40,
   "metadata": {},
   "outputs": [
    {
     "data": {
      "text/html": [
       "<div>\n",
       "<style>\n",
       "    .dataframe thead tr:only-child th {\n",
       "        text-align: right;\n",
       "    }\n",
       "\n",
       "    .dataframe thead th {\n",
       "        text-align: left;\n",
       "    }\n",
       "\n",
       "    .dataframe tbody tr th {\n",
       "        vertical-align: top;\n",
       "    }\n",
       "</style>\n",
       "<table border=\"1\" class=\"dataframe\">\n",
       "  <thead>\n",
       "    <tr style=\"text-align: right;\">\n",
       "      <th></th>\n",
       "      <th>B</th>\n",
       "      <th>G</th>\n",
       "      <th>R</th>\n",
       "      <th>color_name</th>\n",
       "    </tr>\n",
       "  </thead>\n",
       "  <tbody>\n",
       "    <tr>\n",
       "      <th>0</th>\n",
       "      <td>0</td>\n",
       "      <td>0</td>\n",
       "      <td>0</td>\n",
       "      <td>black</td>\n",
       "    </tr>\n",
       "    <tr>\n",
       "      <th>1</th>\n",
       "      <td>255</td>\n",
       "      <td>255</td>\n",
       "      <td>255</td>\n",
       "      <td>white</td>\n",
       "    </tr>\n",
       "    <tr>\n",
       "      <th>2</th>\n",
       "      <td>0</td>\n",
       "      <td>0</td>\n",
       "      <td>255</td>\n",
       "      <td>red</td>\n",
       "    </tr>\n",
       "    <tr>\n",
       "      <th>3</th>\n",
       "      <td>255</td>\n",
       "      <td>0</td>\n",
       "      <td>0</td>\n",
       "      <td>blue</td>\n",
       "    </tr>\n",
       "    <tr>\n",
       "      <th>4</th>\n",
       "      <td>0</td>\n",
       "      <td>255</td>\n",
       "      <td>0</td>\n",
       "      <td>green</td>\n",
       "    </tr>\n",
       "  </tbody>\n",
       "</table>\n",
       "</div>"
      ],
      "text/plain": [
       "     B    G    R color_name\n",
       "0    0    0    0      black\n",
       "1  255  255  255      white\n",
       "2    0    0  255        red\n",
       "3  255    0    0       blue\n",
       "4    0  255    0      green"
      ]
     },
     "execution_count": 40,
     "metadata": {},
     "output_type": "execute_result"
    }
   ],
   "source": [
    "del dataFrame['color_number']\n",
    "dataFrame.head()"
   ]
  },
  {
   "cell_type": "markdown",
   "metadata": {},
   "source": [
    "Or simply pop it from the dataset. This operation will remove the column and return its values creating new DataFrame"
   ]
  },
  {
   "cell_type": "code",
   "execution_count": 41,
   "metadata": {},
   "outputs": [
    {
     "name": "stdout",
     "output_type": "stream",
     "text": [
      "0    black\n",
      "1    white\n",
      "2      red\n",
      "3     blue\n",
      "4    green\n",
      "Name: color_name, dtype: object\n",
      "\n",
      "     B    G    R\n",
      "0    0    0    0\n",
      "1  255  255  255\n",
      "2    0    0  255\n",
      "3  255    0    0\n",
      "4    0  255    0\n"
     ]
    }
   ],
   "source": [
    "new_dataFrame = dataFrame.pop('color_name')\n",
    "print(new_dataFrame)\n",
    "print()\n",
    "print(dataFrame)"
   ]
  },
  {
   "cell_type": "markdown",
   "metadata": {},
   "source": [
    "and now adding it back to the dataset"
   ]
  },
  {
   "cell_type": "code",
   "execution_count": 42,
   "metadata": {},
   "outputs": [
    {
     "data": {
      "text/html": [
       "<div>\n",
       "<style>\n",
       "    .dataframe thead tr:only-child th {\n",
       "        text-align: right;\n",
       "    }\n",
       "\n",
       "    .dataframe thead th {\n",
       "        text-align: left;\n",
       "    }\n",
       "\n",
       "    .dataframe tbody tr th {\n",
       "        vertical-align: top;\n",
       "    }\n",
       "</style>\n",
       "<table border=\"1\" class=\"dataframe\">\n",
       "  <thead>\n",
       "    <tr style=\"text-align: right;\">\n",
       "      <th></th>\n",
       "      <th>B</th>\n",
       "      <th>G</th>\n",
       "      <th>R</th>\n",
       "      <th>color_name</th>\n",
       "    </tr>\n",
       "  </thead>\n",
       "  <tbody>\n",
       "    <tr>\n",
       "      <th>0</th>\n",
       "      <td>0</td>\n",
       "      <td>0</td>\n",
       "      <td>0</td>\n",
       "      <td>black</td>\n",
       "    </tr>\n",
       "    <tr>\n",
       "      <th>1</th>\n",
       "      <td>255</td>\n",
       "      <td>255</td>\n",
       "      <td>255</td>\n",
       "      <td>white</td>\n",
       "    </tr>\n",
       "    <tr>\n",
       "      <th>2</th>\n",
       "      <td>0</td>\n",
       "      <td>0</td>\n",
       "      <td>255</td>\n",
       "      <td>red</td>\n",
       "    </tr>\n",
       "    <tr>\n",
       "      <th>3</th>\n",
       "      <td>255</td>\n",
       "      <td>0</td>\n",
       "      <td>0</td>\n",
       "      <td>blue</td>\n",
       "    </tr>\n",
       "    <tr>\n",
       "      <th>4</th>\n",
       "      <td>0</td>\n",
       "      <td>255</td>\n",
       "      <td>0</td>\n",
       "      <td>green</td>\n",
       "    </tr>\n",
       "  </tbody>\n",
       "</table>\n",
       "</div>"
      ],
      "text/plain": [
       "     B    G    R color_name\n",
       "0    0    0    0      black\n",
       "1  255  255  255      white\n",
       "2    0    0  255        red\n",
       "3  255    0    0       blue\n",
       "4    0  255    0      green"
      ]
     },
     "execution_count": 42,
     "metadata": {},
     "output_type": "execute_result"
    }
   ],
   "source": [
    "dataFrame['color_name'] = new_dataFrame\n",
    "dataFrame.head()"
   ]
  },
  {
   "cell_type": "markdown",
   "metadata": {},
   "source": [
    "# 3. The Data Science Process\n",
    "\n",
    "The usual data science process contains the following steps:\n",
    "1. Initial inspection of the dataset\n",
    "2. Data preparation (cleaning, feature selection, normalization and splitting dataset into train/cross-validation/test)\n",
    "4. Building the model\n",
    "5. Evaluating the model performance\n",
    "\n",
    "Before the machine learning can be applied to the dataset, a significant effort needs to be put into preparing the dataset for the model. Poorly performed data preparation might result in poor performance or unreliable results. This jupyter notebook will cover initial inspection of the dataset, data cleaning, normalisation and splitting dataset into train/cross-validation/test.\n",
    "\n",
    "We will do so on the exemplary e-commerce dataset."
   ]
  },
  {
   "cell_type": "markdown",
   "metadata": {},
   "source": [
    "## 3.1 Data cleaning and initial inspection"
   ]
  },
  {
   "cell_type": "code",
   "execution_count": 43,
   "metadata": {},
   "outputs": [
    {
     "data": {
      "text/html": [
       "<div>\n",
       "<style>\n",
       "    .dataframe thead tr:only-child th {\n",
       "        text-align: right;\n",
       "    }\n",
       "\n",
       "    .dataframe thead th {\n",
       "        text-align: left;\n",
       "    }\n",
       "\n",
       "    .dataframe tbody tr th {\n",
       "        vertical-align: top;\n",
       "    }\n",
       "</style>\n",
       "<table border=\"1\" class=\"dataframe\">\n",
       "  <thead>\n",
       "    <tr style=\"text-align: right;\">\n",
       "      <th></th>\n",
       "      <th>InvoiceNo</th>\n",
       "      <th>StockCode</th>\n",
       "      <th>Description</th>\n",
       "      <th>Quantity</th>\n",
       "      <th>InvoiceDate</th>\n",
       "      <th>UnitPrice</th>\n",
       "      <th>CustomerID</th>\n",
       "      <th>Country</th>\n",
       "    </tr>\n",
       "  </thead>\n",
       "  <tbody>\n",
       "    <tr>\n",
       "      <th>0</th>\n",
       "      <td>536365</td>\n",
       "      <td>85123A</td>\n",
       "      <td>WHITE HANGING HEART T-LIGHT HOLDER</td>\n",
       "      <td>6.0</td>\n",
       "      <td>12/1/2010 8:26</td>\n",
       "      <td>2.55</td>\n",
       "      <td>17850.0</td>\n",
       "      <td>United Kingdom</td>\n",
       "    </tr>\n",
       "    <tr>\n",
       "      <th>1</th>\n",
       "      <td>536365</td>\n",
       "      <td>71053</td>\n",
       "      <td>WHITE METAL LANTERN</td>\n",
       "      <td>6.0</td>\n",
       "      <td>12/1/2010 8:26</td>\n",
       "      <td>3.39</td>\n",
       "      <td>17850.0</td>\n",
       "      <td>United Kingdom</td>\n",
       "    </tr>\n",
       "    <tr>\n",
       "      <th>2</th>\n",
       "      <td>536365</td>\n",
       "      <td>84406B</td>\n",
       "      <td>CREAM CUPID HEARTS COAT HANGER</td>\n",
       "      <td>8.0</td>\n",
       "      <td>12/1/2010 8:26</td>\n",
       "      <td>2.75</td>\n",
       "      <td>17850.0</td>\n",
       "      <td>United Kingdom</td>\n",
       "    </tr>\n",
       "    <tr>\n",
       "      <th>3</th>\n",
       "      <td>536365</td>\n",
       "      <td>84029G</td>\n",
       "      <td>KNITTED UNION FLAG HOT WATER BOTTLE</td>\n",
       "      <td>6.0</td>\n",
       "      <td>12/1/2010 8:26</td>\n",
       "      <td>3.39</td>\n",
       "      <td>17850.0</td>\n",
       "      <td>United Kingdom</td>\n",
       "    </tr>\n",
       "    <tr>\n",
       "      <th>4</th>\n",
       "      <td>536365</td>\n",
       "      <td>84029E</td>\n",
       "      <td>RED WOOLLY HOTTIE WHITE HEART.</td>\n",
       "      <td>6.0</td>\n",
       "      <td>12/1/2010 8:26</td>\n",
       "      <td>3.39</td>\n",
       "      <td>17850.0</td>\n",
       "      <td>United Kingdom</td>\n",
       "    </tr>\n",
       "  </tbody>\n",
       "</table>\n",
       "</div>"
      ],
      "text/plain": [
       "  InvoiceNo StockCode                          Description  Quantity  \\\n",
       "0    536365    85123A   WHITE HANGING HEART T-LIGHT HOLDER       6.0   \n",
       "1    536365     71053                  WHITE METAL LANTERN       6.0   \n",
       "2    536365    84406B       CREAM CUPID HEARTS COAT HANGER       8.0   \n",
       "3    536365    84029G  KNITTED UNION FLAG HOT WATER BOTTLE       6.0   \n",
       "4    536365    84029E       RED WOOLLY HOTTIE WHITE HEART.       6.0   \n",
       "\n",
       "      InvoiceDate  UnitPrice  CustomerID         Country  \n",
       "0  12/1/2010 8:26       2.55     17850.0  United Kingdom  \n",
       "1  12/1/2010 8:26       3.39     17850.0  United Kingdom  \n",
       "2  12/1/2010 8:26       2.75     17850.0  United Kingdom  \n",
       "3  12/1/2010 8:26       3.39     17850.0  United Kingdom  \n",
       "4  12/1/2010 8:26       3.39     17850.0  United Kingdom  "
      ]
     },
     "execution_count": 43,
     "metadata": {},
     "output_type": "execute_result"
    }
   ],
   "source": [
    "dataFrame = pd.read_csv('./datasets/ecommerce_data/e_commerce.csv', sep=',', encoding='ISO-8859-1', dtype={\n",
    "    'InvoiceNo': str, \n",
    "    'StockCode': str,\n",
    "    'Description': str,\n",
    "    'Quantity': np.float64,\n",
    "    'InvoiceDate': str,\n",
    "    'UnitPrice': np.float64,\n",
    "    'CustomerID': np.float64,\n",
    "    'Country': str\n",
    "})\n",
    "dataFrame.head()"
   ]
  },
  {
   "cell_type": "markdown",
   "metadata": {},
   "source": [
    "We can see that the dataset includes 8 columns: *Invoice No.*, *StockCode*, *Description*, *Quantity*, *InvoiceDate*, *UnitPrice*, *CustomerID*, and *Country*.\n",
    "\n",
    "Numerical variables include: *Quantity*, *UnitPrice*, and *CustomerID*.\n",
    "\n",
    "Categorical variables include: *InvoiceNo*, *StockCode*, *Description*, and *Country*, as for now they are stored int the data frame as strings\n",
    "\n",
    "There is only one datetime type variable: *InvoiceDate*, again stored in the data frame as a string.\n",
    "\n",
    "You can inspect the types of the variables using:"
   ]
  },
  {
   "cell_type": "code",
   "execution_count": 44,
   "metadata": {},
   "outputs": [
    {
     "data": {
      "text/plain": [
       "InvoiceNo       object\n",
       "StockCode       object\n",
       "Description     object\n",
       "Quantity       float64\n",
       "InvoiceDate     object\n",
       "UnitPrice      float64\n",
       "CustomerID     float64\n",
       "Country         object\n",
       "dtype: object"
      ]
     },
     "execution_count": 44,
     "metadata": {},
     "output_type": "execute_result"
    }
   ],
   "source": [
    "dataFrame.dtypes"
   ]
  },
  {
   "cell_type": "markdown",
   "metadata": {},
   "source": [
    "### 3.1.1 Replacing missing values\n",
    "We will check if there are any variables that are missing."
   ]
  },
  {
   "cell_type": "code",
   "execution_count": 45,
   "metadata": {},
   "outputs": [
    {
     "data": {
      "text/plain": [
       "InvoiceNo      False\n",
       "StockCode      False\n",
       "Description     True\n",
       "Quantity       False\n",
       "InvoiceDate    False\n",
       "UnitPrice      False\n",
       "CustomerID      True\n",
       "Country        False\n",
       "dtype: bool"
      ]
     },
     "execution_count": 45,
     "metadata": {},
     "output_type": "execute_result"
    }
   ],
   "source": [
    "dataFrame.isnull().any()"
   ]
  },
  {
   "cell_type": "markdown",
   "metadata": {},
   "source": [
    "We can see that there are *Description* and *CustomerID* features which are empty. The decision what to do with these depends on the circumstances. The most popular options are:\n",
    "\n",
    "- remove missing values\n",
    "- replace them with mean/most common category\n",
    "- replace with the value of the previous row (forward-fill)\n",
    "- replace with the value of the next row (backward-fill)\n",
    "\n",
    "#### Removing missing values\n",
    "Removing the missing values is done using ** *dropna()* ** function. It is important to assign reduced DataFrame to a variable, otherwise changes will not have any effect. Example of such behaviour is presented below.\n"
   ]
  },
  {
   "cell_type": "code",
   "execution_count": 46,
   "metadata": {},
   "outputs": [
    {
     "name": "stdout",
     "output_type": "stream",
     "text": [
      "(238735, 8)\n",
      "(238735, 8)\n"
     ]
    }
   ],
   "source": [
    "print(dataFrame.shape)\n",
    "\n",
    "dataFrame.dropna()\n",
    "\n",
    "print(dataFrame.shape)"
   ]
  },
  {
   "cell_type": "markdown",
   "metadata": {},
   "source": [
    "As you can see, the size of the DataFrame did not change, which means that the empty rows were **NOT** removed. Below is the corrected version of the code. The dataset has been reduced by almost 67 000 samples."
   ]
  },
  {
   "cell_type": "code",
   "execution_count": 47,
   "metadata": {},
   "outputs": [
    {
     "name": "stdout",
     "output_type": "stream",
     "text": [
      "(238735, 8)\n",
      "(171810, 8)\n"
     ]
    }
   ],
   "source": [
    "print(dataFrame.shape)\n",
    "\n",
    "dataFrame = dataFrame.dropna()\n",
    "\n",
    "print(dataFrame.shape)"
   ]
  },
  {
   "cell_type": "code",
   "execution_count": 48,
   "metadata": {},
   "outputs": [
    {
     "data": {
      "text/plain": [
       "InvoiceNo      False\n",
       "StockCode      False\n",
       "Description    False\n",
       "Quantity       False\n",
       "InvoiceDate    False\n",
       "UnitPrice      False\n",
       "CustomerID     False\n",
       "Country        False\n",
       "dtype: bool"
      ]
     },
     "execution_count": 48,
     "metadata": {},
     "output_type": "execute_result"
    }
   ],
   "source": [
    "dataFrame.isnull().any()"
   ]
  },
  {
   "cell_type": "markdown",
   "metadata": {},
   "source": [
    "#### Replacing missing values with the mean\n",
    "First we will set *Quantity* in the row with index 1 to null, and then observe how it has been replaced."
   ]
  },
  {
   "cell_type": "code",
   "execution_count": 49,
   "metadata": {},
   "outputs": [
    {
     "data": {
      "text/html": [
       "<div>\n",
       "<style>\n",
       "    .dataframe thead tr:only-child th {\n",
       "        text-align: right;\n",
       "    }\n",
       "\n",
       "    .dataframe thead th {\n",
       "        text-align: left;\n",
       "    }\n",
       "\n",
       "    .dataframe tbody tr th {\n",
       "        vertical-align: top;\n",
       "    }\n",
       "</style>\n",
       "<table border=\"1\" class=\"dataframe\">\n",
       "  <thead>\n",
       "    <tr style=\"text-align: right;\">\n",
       "      <th></th>\n",
       "      <th>InvoiceNo</th>\n",
       "      <th>StockCode</th>\n",
       "      <th>Description</th>\n",
       "      <th>Quantity</th>\n",
       "      <th>InvoiceDate</th>\n",
       "      <th>UnitPrice</th>\n",
       "      <th>CustomerID</th>\n",
       "      <th>Country</th>\n",
       "    </tr>\n",
       "  </thead>\n",
       "  <tbody>\n",
       "    <tr>\n",
       "      <th>0</th>\n",
       "      <td>536365</td>\n",
       "      <td>85123A</td>\n",
       "      <td>WHITE HANGING HEART T-LIGHT HOLDER</td>\n",
       "      <td>6.0</td>\n",
       "      <td>12/1/2010 8:26</td>\n",
       "      <td>2.55</td>\n",
       "      <td>17850.0</td>\n",
       "      <td>United Kingdom</td>\n",
       "    </tr>\n",
       "    <tr>\n",
       "      <th>1</th>\n",
       "      <td>536365</td>\n",
       "      <td>71053</td>\n",
       "      <td>WHITE METAL LANTERN</td>\n",
       "      <td>NaN</td>\n",
       "      <td>12/1/2010 8:26</td>\n",
       "      <td>3.39</td>\n",
       "      <td>17850.0</td>\n",
       "      <td>United Kingdom</td>\n",
       "    </tr>\n",
       "    <tr>\n",
       "      <th>2</th>\n",
       "      <td>536365</td>\n",
       "      <td>84406B</td>\n",
       "      <td>CREAM CUPID HEARTS COAT HANGER</td>\n",
       "      <td>8.0</td>\n",
       "      <td>12/1/2010 8:26</td>\n",
       "      <td>2.75</td>\n",
       "      <td>17850.0</td>\n",
       "      <td>United Kingdom</td>\n",
       "    </tr>\n",
       "    <tr>\n",
       "      <th>3</th>\n",
       "      <td>536365</td>\n",
       "      <td>84029G</td>\n",
       "      <td>KNITTED UNION FLAG HOT WATER BOTTLE</td>\n",
       "      <td>6.0</td>\n",
       "      <td>12/1/2010 8:26</td>\n",
       "      <td>3.39</td>\n",
       "      <td>17850.0</td>\n",
       "      <td>United Kingdom</td>\n",
       "    </tr>\n",
       "    <tr>\n",
       "      <th>4</th>\n",
       "      <td>536365</td>\n",
       "      <td>84029E</td>\n",
       "      <td>RED WOOLLY HOTTIE WHITE HEART.</td>\n",
       "      <td>6.0</td>\n",
       "      <td>12/1/2010 8:26</td>\n",
       "      <td>3.39</td>\n",
       "      <td>17850.0</td>\n",
       "      <td>United Kingdom</td>\n",
       "    </tr>\n",
       "  </tbody>\n",
       "</table>\n",
       "</div>"
      ],
      "text/plain": [
       "  InvoiceNo StockCode                          Description  Quantity  \\\n",
       "0    536365    85123A   WHITE HANGING HEART T-LIGHT HOLDER       6.0   \n",
       "1    536365     71053                  WHITE METAL LANTERN       NaN   \n",
       "2    536365    84406B       CREAM CUPID HEARTS COAT HANGER       8.0   \n",
       "3    536365    84029G  KNITTED UNION FLAG HOT WATER BOTTLE       6.0   \n",
       "4    536365    84029E       RED WOOLLY HOTTIE WHITE HEART.       6.0   \n",
       "\n",
       "      InvoiceDate  UnitPrice  CustomerID         Country  \n",
       "0  12/1/2010 8:26       2.55     17850.0  United Kingdom  \n",
       "1  12/1/2010 8:26       3.39     17850.0  United Kingdom  \n",
       "2  12/1/2010 8:26       2.75     17850.0  United Kingdom  \n",
       "3  12/1/2010 8:26       3.39     17850.0  United Kingdom  \n",
       "4  12/1/2010 8:26       3.39     17850.0  United Kingdom  "
      ]
     },
     "execution_count": 49,
     "metadata": {},
     "output_type": "execute_result"
    }
   ],
   "source": [
    "dataFrame.loc[1, 'Quantity'] = np.nan\n",
    "dataFrame.head()"
   ]
  },
  {
   "cell_type": "markdown",
   "metadata": {},
   "source": [
    "Replacing missing values in column *Quantity* with mean value"
   ]
  },
  {
   "cell_type": "code",
   "execution_count": 50,
   "metadata": {},
   "outputs": [
    {
     "data": {
      "text/html": [
       "<div>\n",
       "<style>\n",
       "    .dataframe thead tr:only-child th {\n",
       "        text-align: right;\n",
       "    }\n",
       "\n",
       "    .dataframe thead th {\n",
       "        text-align: left;\n",
       "    }\n",
       "\n",
       "    .dataframe tbody tr th {\n",
       "        vertical-align: top;\n",
       "    }\n",
       "</style>\n",
       "<table border=\"1\" class=\"dataframe\">\n",
       "  <thead>\n",
       "    <tr style=\"text-align: right;\">\n",
       "      <th></th>\n",
       "      <th>InvoiceNo</th>\n",
       "      <th>StockCode</th>\n",
       "      <th>Description</th>\n",
       "      <th>Quantity</th>\n",
       "      <th>InvoiceDate</th>\n",
       "      <th>UnitPrice</th>\n",
       "      <th>CustomerID</th>\n",
       "      <th>Country</th>\n",
       "    </tr>\n",
       "  </thead>\n",
       "  <tbody>\n",
       "    <tr>\n",
       "      <th>0</th>\n",
       "      <td>536365</td>\n",
       "      <td>85123A</td>\n",
       "      <td>WHITE HANGING HEART T-LIGHT HOLDER</td>\n",
       "      <td>6.000000</td>\n",
       "      <td>12/1/2010 8:26</td>\n",
       "      <td>2.55</td>\n",
       "      <td>17850.0</td>\n",
       "      <td>United Kingdom</td>\n",
       "    </tr>\n",
       "    <tr>\n",
       "      <th>1</th>\n",
       "      <td>536365</td>\n",
       "      <td>71053</td>\n",
       "      <td>WHITE METAL LANTERN</td>\n",
       "      <td>12.254579</td>\n",
       "      <td>12/1/2010 8:26</td>\n",
       "      <td>3.39</td>\n",
       "      <td>17850.0</td>\n",
       "      <td>United Kingdom</td>\n",
       "    </tr>\n",
       "    <tr>\n",
       "      <th>2</th>\n",
       "      <td>536365</td>\n",
       "      <td>84406B</td>\n",
       "      <td>CREAM CUPID HEARTS COAT HANGER</td>\n",
       "      <td>8.000000</td>\n",
       "      <td>12/1/2010 8:26</td>\n",
       "      <td>2.75</td>\n",
       "      <td>17850.0</td>\n",
       "      <td>United Kingdom</td>\n",
       "    </tr>\n",
       "    <tr>\n",
       "      <th>3</th>\n",
       "      <td>536365</td>\n",
       "      <td>84029G</td>\n",
       "      <td>KNITTED UNION FLAG HOT WATER BOTTLE</td>\n",
       "      <td>6.000000</td>\n",
       "      <td>12/1/2010 8:26</td>\n",
       "      <td>3.39</td>\n",
       "      <td>17850.0</td>\n",
       "      <td>United Kingdom</td>\n",
       "    </tr>\n",
       "    <tr>\n",
       "      <th>4</th>\n",
       "      <td>536365</td>\n",
       "      <td>84029E</td>\n",
       "      <td>RED WOOLLY HOTTIE WHITE HEART.</td>\n",
       "      <td>6.000000</td>\n",
       "      <td>12/1/2010 8:26</td>\n",
       "      <td>3.39</td>\n",
       "      <td>17850.0</td>\n",
       "      <td>United Kingdom</td>\n",
       "    </tr>\n",
       "  </tbody>\n",
       "</table>\n",
       "</div>"
      ],
      "text/plain": [
       "  InvoiceNo StockCode                          Description   Quantity  \\\n",
       "0    536365    85123A   WHITE HANGING HEART T-LIGHT HOLDER   6.000000   \n",
       "1    536365     71053                  WHITE METAL LANTERN  12.254579   \n",
       "2    536365    84406B       CREAM CUPID HEARTS COAT HANGER   8.000000   \n",
       "3    536365    84029G  KNITTED UNION FLAG HOT WATER BOTTLE   6.000000   \n",
       "4    536365    84029E       RED WOOLLY HOTTIE WHITE HEART.   6.000000   \n",
       "\n",
       "      InvoiceDate  UnitPrice  CustomerID         Country  \n",
       "0  12/1/2010 8:26       2.55     17850.0  United Kingdom  \n",
       "1  12/1/2010 8:26       3.39     17850.0  United Kingdom  \n",
       "2  12/1/2010 8:26       2.75     17850.0  United Kingdom  \n",
       "3  12/1/2010 8:26       3.39     17850.0  United Kingdom  \n",
       "4  12/1/2010 8:26       3.39     17850.0  United Kingdom  "
      ]
     },
     "execution_count": 50,
     "metadata": {},
     "output_type": "execute_result"
    }
   ],
   "source": [
    "dataFrame['Quantity'] = (dataFrame['Quantity'].replace(np.nan, dataFrame['Quantity'].mean()))\n",
    "dataFrame.head()"
   ]
  },
  {
   "cell_type": "markdown",
   "metadata": {},
   "source": [
    "#### Replacing missing values with previous row (forward-fill)\n",
    "\n",
    "First, setting null values in *StockCode* and *InvoiceDate* in the row with index 7. "
   ]
  },
  {
   "cell_type": "code",
   "execution_count": 51,
   "metadata": {},
   "outputs": [
    {
     "data": {
      "text/html": [
       "<div>\n",
       "<style>\n",
       "    .dataframe thead tr:only-child th {\n",
       "        text-align: right;\n",
       "    }\n",
       "\n",
       "    .dataframe thead th {\n",
       "        text-align: left;\n",
       "    }\n",
       "\n",
       "    .dataframe tbody tr th {\n",
       "        vertical-align: top;\n",
       "    }\n",
       "</style>\n",
       "<table border=\"1\" class=\"dataframe\">\n",
       "  <thead>\n",
       "    <tr style=\"text-align: right;\">\n",
       "      <th></th>\n",
       "      <th>InvoiceNo</th>\n",
       "      <th>StockCode</th>\n",
       "      <th>Description</th>\n",
       "      <th>Quantity</th>\n",
       "      <th>InvoiceDate</th>\n",
       "      <th>UnitPrice</th>\n",
       "      <th>CustomerID</th>\n",
       "      <th>Country</th>\n",
       "    </tr>\n",
       "  </thead>\n",
       "  <tbody>\n",
       "    <tr>\n",
       "      <th>3</th>\n",
       "      <td>536365</td>\n",
       "      <td>84029G</td>\n",
       "      <td>KNITTED UNION FLAG HOT WATER BOTTLE</td>\n",
       "      <td>6.0</td>\n",
       "      <td>12/1/2010 8:26</td>\n",
       "      <td>3.39</td>\n",
       "      <td>17850.0</td>\n",
       "      <td>United Kingdom</td>\n",
       "    </tr>\n",
       "    <tr>\n",
       "      <th>4</th>\n",
       "      <td>536365</td>\n",
       "      <td>84029E</td>\n",
       "      <td>RED WOOLLY HOTTIE WHITE HEART.</td>\n",
       "      <td>6.0</td>\n",
       "      <td>12/1/2010 8:26</td>\n",
       "      <td>3.39</td>\n",
       "      <td>17850.0</td>\n",
       "      <td>United Kingdom</td>\n",
       "    </tr>\n",
       "    <tr>\n",
       "      <th>5</th>\n",
       "      <td>536365</td>\n",
       "      <td>22752</td>\n",
       "      <td>SET 7 BABUSHKA NESTING BOXES</td>\n",
       "      <td>2.0</td>\n",
       "      <td>12/1/2010 8:26</td>\n",
       "      <td>7.65</td>\n",
       "      <td>17850.0</td>\n",
       "      <td>United Kingdom</td>\n",
       "    </tr>\n",
       "    <tr>\n",
       "      <th>6</th>\n",
       "      <td>536365</td>\n",
       "      <td>21730</td>\n",
       "      <td>GLASS STAR FROSTED T-LIGHT HOLDER</td>\n",
       "      <td>6.0</td>\n",
       "      <td>12/1/2010 8:26</td>\n",
       "      <td>4.25</td>\n",
       "      <td>17850.0</td>\n",
       "      <td>United Kingdom</td>\n",
       "    </tr>\n",
       "    <tr>\n",
       "      <th>7</th>\n",
       "      <td>536366</td>\n",
       "      <td>NaN</td>\n",
       "      <td>HAND WARMER UNION JACK</td>\n",
       "      <td>6.0</td>\n",
       "      <td>NaN</td>\n",
       "      <td>1.85</td>\n",
       "      <td>17850.0</td>\n",
       "      <td>United Kingdom</td>\n",
       "    </tr>\n",
       "    <tr>\n",
       "      <th>8</th>\n",
       "      <td>536366</td>\n",
       "      <td>22632</td>\n",
       "      <td>HAND WARMER RED POLKA DOT</td>\n",
       "      <td>6.0</td>\n",
       "      <td>12/1/2010 8:28</td>\n",
       "      <td>1.85</td>\n",
       "      <td>17850.0</td>\n",
       "      <td>United Kingdom</td>\n",
       "    </tr>\n",
       "    <tr>\n",
       "      <th>9</th>\n",
       "      <td>536367</td>\n",
       "      <td>84879</td>\n",
       "      <td>ASSORTED COLOUR BIRD ORNAMENT</td>\n",
       "      <td>32.0</td>\n",
       "      <td>12/1/2010 8:34</td>\n",
       "      <td>1.69</td>\n",
       "      <td>13047.0</td>\n",
       "      <td>United Kingdom</td>\n",
       "    </tr>\n",
       "  </tbody>\n",
       "</table>\n",
       "</div>"
      ],
      "text/plain": [
       "  InvoiceNo StockCode                          Description  Quantity  \\\n",
       "3    536365    84029G  KNITTED UNION FLAG HOT WATER BOTTLE       6.0   \n",
       "4    536365    84029E       RED WOOLLY HOTTIE WHITE HEART.       6.0   \n",
       "5    536365     22752         SET 7 BABUSHKA NESTING BOXES       2.0   \n",
       "6    536365     21730    GLASS STAR FROSTED T-LIGHT HOLDER       6.0   \n",
       "7    536366       NaN               HAND WARMER UNION JACK       6.0   \n",
       "8    536366     22632            HAND WARMER RED POLKA DOT       6.0   \n",
       "9    536367     84879        ASSORTED COLOUR BIRD ORNAMENT      32.0   \n",
       "\n",
       "      InvoiceDate  UnitPrice  CustomerID         Country  \n",
       "3  12/1/2010 8:26       3.39     17850.0  United Kingdom  \n",
       "4  12/1/2010 8:26       3.39     17850.0  United Kingdom  \n",
       "5  12/1/2010 8:26       7.65     17850.0  United Kingdom  \n",
       "6  12/1/2010 8:26       4.25     17850.0  United Kingdom  \n",
       "7             NaN       1.85     17850.0  United Kingdom  \n",
       "8  12/1/2010 8:28       1.85     17850.0  United Kingdom  \n",
       "9  12/1/2010 8:34       1.69     13047.0  United Kingdom  "
      ]
     },
     "execution_count": 51,
     "metadata": {},
     "output_type": "execute_result"
    }
   ],
   "source": [
    "dataFrame.loc[7, 'StockCode'] = np.nan\n",
    "dataFrame.loc[7, 'InvoiceDate'] = np.nan\n",
    "dataFrame[3:10]"
   ]
  },
  {
   "cell_type": "markdown",
   "metadata": {},
   "source": [
    "Replacing missing values with the previous value (forward fill). Please note that this method will replace missing values in all columns, with values respective to that column; and might find very useful when replacing missing values in time-series."
   ]
  },
  {
   "cell_type": "code",
   "execution_count": 52,
   "metadata": {},
   "outputs": [
    {
     "data": {
      "text/html": [
       "<div>\n",
       "<style>\n",
       "    .dataframe thead tr:only-child th {\n",
       "        text-align: right;\n",
       "    }\n",
       "\n",
       "    .dataframe thead th {\n",
       "        text-align: left;\n",
       "    }\n",
       "\n",
       "    .dataframe tbody tr th {\n",
       "        vertical-align: top;\n",
       "    }\n",
       "</style>\n",
       "<table border=\"1\" class=\"dataframe\">\n",
       "  <thead>\n",
       "    <tr style=\"text-align: right;\">\n",
       "      <th></th>\n",
       "      <th>InvoiceNo</th>\n",
       "      <th>StockCode</th>\n",
       "      <th>Description</th>\n",
       "      <th>Quantity</th>\n",
       "      <th>InvoiceDate</th>\n",
       "      <th>UnitPrice</th>\n",
       "      <th>CustomerID</th>\n",
       "      <th>Country</th>\n",
       "    </tr>\n",
       "  </thead>\n",
       "  <tbody>\n",
       "    <tr>\n",
       "      <th>3</th>\n",
       "      <td>536365</td>\n",
       "      <td>84029G</td>\n",
       "      <td>KNITTED UNION FLAG HOT WATER BOTTLE</td>\n",
       "      <td>6.0</td>\n",
       "      <td>12/1/2010 8:26</td>\n",
       "      <td>3.39</td>\n",
       "      <td>17850.0</td>\n",
       "      <td>United Kingdom</td>\n",
       "    </tr>\n",
       "    <tr>\n",
       "      <th>4</th>\n",
       "      <td>536365</td>\n",
       "      <td>84029E</td>\n",
       "      <td>RED WOOLLY HOTTIE WHITE HEART.</td>\n",
       "      <td>6.0</td>\n",
       "      <td>12/1/2010 8:26</td>\n",
       "      <td>3.39</td>\n",
       "      <td>17850.0</td>\n",
       "      <td>United Kingdom</td>\n",
       "    </tr>\n",
       "    <tr>\n",
       "      <th>5</th>\n",
       "      <td>536365</td>\n",
       "      <td>22752</td>\n",
       "      <td>SET 7 BABUSHKA NESTING BOXES</td>\n",
       "      <td>2.0</td>\n",
       "      <td>12/1/2010 8:26</td>\n",
       "      <td>7.65</td>\n",
       "      <td>17850.0</td>\n",
       "      <td>United Kingdom</td>\n",
       "    </tr>\n",
       "    <tr>\n",
       "      <th>6</th>\n",
       "      <td>536365</td>\n",
       "      <td>21730</td>\n",
       "      <td>GLASS STAR FROSTED T-LIGHT HOLDER</td>\n",
       "      <td>6.0</td>\n",
       "      <td>12/1/2010 8:26</td>\n",
       "      <td>4.25</td>\n",
       "      <td>17850.0</td>\n",
       "      <td>United Kingdom</td>\n",
       "    </tr>\n",
       "    <tr>\n",
       "      <th>7</th>\n",
       "      <td>536366</td>\n",
       "      <td>21730</td>\n",
       "      <td>HAND WARMER UNION JACK</td>\n",
       "      <td>6.0</td>\n",
       "      <td>12/1/2010 8:26</td>\n",
       "      <td>1.85</td>\n",
       "      <td>17850.0</td>\n",
       "      <td>United Kingdom</td>\n",
       "    </tr>\n",
       "    <tr>\n",
       "      <th>8</th>\n",
       "      <td>536366</td>\n",
       "      <td>22632</td>\n",
       "      <td>HAND WARMER RED POLKA DOT</td>\n",
       "      <td>6.0</td>\n",
       "      <td>12/1/2010 8:28</td>\n",
       "      <td>1.85</td>\n",
       "      <td>17850.0</td>\n",
       "      <td>United Kingdom</td>\n",
       "    </tr>\n",
       "    <tr>\n",
       "      <th>9</th>\n",
       "      <td>536367</td>\n",
       "      <td>84879</td>\n",
       "      <td>ASSORTED COLOUR BIRD ORNAMENT</td>\n",
       "      <td>32.0</td>\n",
       "      <td>12/1/2010 8:34</td>\n",
       "      <td>1.69</td>\n",
       "      <td>13047.0</td>\n",
       "      <td>United Kingdom</td>\n",
       "    </tr>\n",
       "  </tbody>\n",
       "</table>\n",
       "</div>"
      ],
      "text/plain": [
       "  InvoiceNo StockCode                          Description  Quantity  \\\n",
       "3    536365    84029G  KNITTED UNION FLAG HOT WATER BOTTLE       6.0   \n",
       "4    536365    84029E       RED WOOLLY HOTTIE WHITE HEART.       6.0   \n",
       "5    536365     22752         SET 7 BABUSHKA NESTING BOXES       2.0   \n",
       "6    536365     21730    GLASS STAR FROSTED T-LIGHT HOLDER       6.0   \n",
       "7    536366     21730               HAND WARMER UNION JACK       6.0   \n",
       "8    536366     22632            HAND WARMER RED POLKA DOT       6.0   \n",
       "9    536367     84879        ASSORTED COLOUR BIRD ORNAMENT      32.0   \n",
       "\n",
       "      InvoiceDate  UnitPrice  CustomerID         Country  \n",
       "3  12/1/2010 8:26       3.39     17850.0  United Kingdom  \n",
       "4  12/1/2010 8:26       3.39     17850.0  United Kingdom  \n",
       "5  12/1/2010 8:26       7.65     17850.0  United Kingdom  \n",
       "6  12/1/2010 8:26       4.25     17850.0  United Kingdom  \n",
       "7  12/1/2010 8:26       1.85     17850.0  United Kingdom  \n",
       "8  12/1/2010 8:28       1.85     17850.0  United Kingdom  \n",
       "9  12/1/2010 8:34       1.69     13047.0  United Kingdom  "
      ]
     },
     "execution_count": 52,
     "metadata": {},
     "output_type": "execute_result"
    }
   ],
   "source": [
    "dataFrame = dataFrame.fillna(method='ffill')\n",
    "dataFrame[3:10]"
   ]
  },
  {
   "cell_type": "markdown",
   "metadata": {},
   "source": [
    "#### Replacing missing values with next row (backward-fill)"
   ]
  },
  {
   "cell_type": "code",
   "execution_count": 53,
   "metadata": {},
   "outputs": [
    {
     "data": {
      "text/html": [
       "<div>\n",
       "<style>\n",
       "    .dataframe thead tr:only-child th {\n",
       "        text-align: right;\n",
       "    }\n",
       "\n",
       "    .dataframe thead th {\n",
       "        text-align: left;\n",
       "    }\n",
       "\n",
       "    .dataframe tbody tr th {\n",
       "        vertical-align: top;\n",
       "    }\n",
       "</style>\n",
       "<table border=\"1\" class=\"dataframe\">\n",
       "  <thead>\n",
       "    <tr style=\"text-align: right;\">\n",
       "      <th></th>\n",
       "      <th>InvoiceNo</th>\n",
       "      <th>StockCode</th>\n",
       "      <th>Description</th>\n",
       "      <th>Quantity</th>\n",
       "      <th>InvoiceDate</th>\n",
       "      <th>UnitPrice</th>\n",
       "      <th>CustomerID</th>\n",
       "      <th>Country</th>\n",
       "    </tr>\n",
       "  </thead>\n",
       "  <tbody>\n",
       "    <tr>\n",
       "      <th>3</th>\n",
       "      <td>536365</td>\n",
       "      <td>84029G</td>\n",
       "      <td>KNITTED UNION FLAG HOT WATER BOTTLE</td>\n",
       "      <td>6.0</td>\n",
       "      <td>12/1/2010 8:26</td>\n",
       "      <td>3.39</td>\n",
       "      <td>17850.0</td>\n",
       "      <td>United Kingdom</td>\n",
       "    </tr>\n",
       "    <tr>\n",
       "      <th>4</th>\n",
       "      <td>536365</td>\n",
       "      <td>84029E</td>\n",
       "      <td>RED WOOLLY HOTTIE WHITE HEART.</td>\n",
       "      <td>6.0</td>\n",
       "      <td>12/1/2010 8:26</td>\n",
       "      <td>3.39</td>\n",
       "      <td>17850.0</td>\n",
       "      <td>United Kingdom</td>\n",
       "    </tr>\n",
       "    <tr>\n",
       "      <th>5</th>\n",
       "      <td>536365</td>\n",
       "      <td>22752</td>\n",
       "      <td>SET 7 BABUSHKA NESTING BOXES</td>\n",
       "      <td>2.0</td>\n",
       "      <td>12/1/2010 8:26</td>\n",
       "      <td>7.65</td>\n",
       "      <td>17850.0</td>\n",
       "      <td>United Kingdom</td>\n",
       "    </tr>\n",
       "    <tr>\n",
       "      <th>6</th>\n",
       "      <td>536365</td>\n",
       "      <td>21730</td>\n",
       "      <td>GLASS STAR FROSTED T-LIGHT HOLDER</td>\n",
       "      <td>6.0</td>\n",
       "      <td>12/1/2010 8:26</td>\n",
       "      <td>4.25</td>\n",
       "      <td>17850.0</td>\n",
       "      <td>United Kingdom</td>\n",
       "    </tr>\n",
       "    <tr>\n",
       "      <th>7</th>\n",
       "      <td>536366</td>\n",
       "      <td>NaN</td>\n",
       "      <td>HAND WARMER UNION JACK</td>\n",
       "      <td>6.0</td>\n",
       "      <td>NaN</td>\n",
       "      <td>1.85</td>\n",
       "      <td>17850.0</td>\n",
       "      <td>United Kingdom</td>\n",
       "    </tr>\n",
       "    <tr>\n",
       "      <th>8</th>\n",
       "      <td>536366</td>\n",
       "      <td>22632</td>\n",
       "      <td>HAND WARMER RED POLKA DOT</td>\n",
       "      <td>6.0</td>\n",
       "      <td>12/1/2010 8:28</td>\n",
       "      <td>1.85</td>\n",
       "      <td>17850.0</td>\n",
       "      <td>United Kingdom</td>\n",
       "    </tr>\n",
       "    <tr>\n",
       "      <th>9</th>\n",
       "      <td>536367</td>\n",
       "      <td>84879</td>\n",
       "      <td>ASSORTED COLOUR BIRD ORNAMENT</td>\n",
       "      <td>32.0</td>\n",
       "      <td>12/1/2010 8:34</td>\n",
       "      <td>1.69</td>\n",
       "      <td>13047.0</td>\n",
       "      <td>United Kingdom</td>\n",
       "    </tr>\n",
       "  </tbody>\n",
       "</table>\n",
       "</div>"
      ],
      "text/plain": [
       "  InvoiceNo StockCode                          Description  Quantity  \\\n",
       "3    536365    84029G  KNITTED UNION FLAG HOT WATER BOTTLE       6.0   \n",
       "4    536365    84029E       RED WOOLLY HOTTIE WHITE HEART.       6.0   \n",
       "5    536365     22752         SET 7 BABUSHKA NESTING BOXES       2.0   \n",
       "6    536365     21730    GLASS STAR FROSTED T-LIGHT HOLDER       6.0   \n",
       "7    536366       NaN               HAND WARMER UNION JACK       6.0   \n",
       "8    536366     22632            HAND WARMER RED POLKA DOT       6.0   \n",
       "9    536367     84879        ASSORTED COLOUR BIRD ORNAMENT      32.0   \n",
       "\n",
       "      InvoiceDate  UnitPrice  CustomerID         Country  \n",
       "3  12/1/2010 8:26       3.39     17850.0  United Kingdom  \n",
       "4  12/1/2010 8:26       3.39     17850.0  United Kingdom  \n",
       "5  12/1/2010 8:26       7.65     17850.0  United Kingdom  \n",
       "6  12/1/2010 8:26       4.25     17850.0  United Kingdom  \n",
       "7             NaN       1.85     17850.0  United Kingdom  \n",
       "8  12/1/2010 8:28       1.85     17850.0  United Kingdom  \n",
       "9  12/1/2010 8:34       1.69     13047.0  United Kingdom  "
      ]
     },
     "execution_count": 53,
     "metadata": {},
     "output_type": "execute_result"
    }
   ],
   "source": [
    "dataFrame.loc[7, 'StockCode'] = np.nan\n",
    "dataFrame.loc[7, 'InvoiceDate'] = np.nan\n",
    "dataFrame[3:10]"
   ]
  },
  {
   "cell_type": "code",
   "execution_count": 54,
   "metadata": {},
   "outputs": [
    {
     "data": {
      "text/html": [
       "<div>\n",
       "<style>\n",
       "    .dataframe thead tr:only-child th {\n",
       "        text-align: right;\n",
       "    }\n",
       "\n",
       "    .dataframe thead th {\n",
       "        text-align: left;\n",
       "    }\n",
       "\n",
       "    .dataframe tbody tr th {\n",
       "        vertical-align: top;\n",
       "    }\n",
       "</style>\n",
       "<table border=\"1\" class=\"dataframe\">\n",
       "  <thead>\n",
       "    <tr style=\"text-align: right;\">\n",
       "      <th></th>\n",
       "      <th>InvoiceNo</th>\n",
       "      <th>StockCode</th>\n",
       "      <th>Description</th>\n",
       "      <th>Quantity</th>\n",
       "      <th>InvoiceDate</th>\n",
       "      <th>UnitPrice</th>\n",
       "      <th>CustomerID</th>\n",
       "      <th>Country</th>\n",
       "    </tr>\n",
       "  </thead>\n",
       "  <tbody>\n",
       "    <tr>\n",
       "      <th>3</th>\n",
       "      <td>536365</td>\n",
       "      <td>84029G</td>\n",
       "      <td>KNITTED UNION FLAG HOT WATER BOTTLE</td>\n",
       "      <td>6.0</td>\n",
       "      <td>12/1/2010 8:26</td>\n",
       "      <td>3.39</td>\n",
       "      <td>17850.0</td>\n",
       "      <td>United Kingdom</td>\n",
       "    </tr>\n",
       "    <tr>\n",
       "      <th>4</th>\n",
       "      <td>536365</td>\n",
       "      <td>84029E</td>\n",
       "      <td>RED WOOLLY HOTTIE WHITE HEART.</td>\n",
       "      <td>6.0</td>\n",
       "      <td>12/1/2010 8:26</td>\n",
       "      <td>3.39</td>\n",
       "      <td>17850.0</td>\n",
       "      <td>United Kingdom</td>\n",
       "    </tr>\n",
       "    <tr>\n",
       "      <th>5</th>\n",
       "      <td>536365</td>\n",
       "      <td>22752</td>\n",
       "      <td>SET 7 BABUSHKA NESTING BOXES</td>\n",
       "      <td>2.0</td>\n",
       "      <td>12/1/2010 8:26</td>\n",
       "      <td>7.65</td>\n",
       "      <td>17850.0</td>\n",
       "      <td>United Kingdom</td>\n",
       "    </tr>\n",
       "    <tr>\n",
       "      <th>6</th>\n",
       "      <td>536365</td>\n",
       "      <td>21730</td>\n",
       "      <td>GLASS STAR FROSTED T-LIGHT HOLDER</td>\n",
       "      <td>6.0</td>\n",
       "      <td>12/1/2010 8:26</td>\n",
       "      <td>4.25</td>\n",
       "      <td>17850.0</td>\n",
       "      <td>United Kingdom</td>\n",
       "    </tr>\n",
       "    <tr>\n",
       "      <th>7</th>\n",
       "      <td>536366</td>\n",
       "      <td>22632</td>\n",
       "      <td>HAND WARMER UNION JACK</td>\n",
       "      <td>6.0</td>\n",
       "      <td>12/1/2010 8:28</td>\n",
       "      <td>1.85</td>\n",
       "      <td>17850.0</td>\n",
       "      <td>United Kingdom</td>\n",
       "    </tr>\n",
       "    <tr>\n",
       "      <th>8</th>\n",
       "      <td>536366</td>\n",
       "      <td>22632</td>\n",
       "      <td>HAND WARMER RED POLKA DOT</td>\n",
       "      <td>6.0</td>\n",
       "      <td>12/1/2010 8:28</td>\n",
       "      <td>1.85</td>\n",
       "      <td>17850.0</td>\n",
       "      <td>United Kingdom</td>\n",
       "    </tr>\n",
       "    <tr>\n",
       "      <th>9</th>\n",
       "      <td>536367</td>\n",
       "      <td>84879</td>\n",
       "      <td>ASSORTED COLOUR BIRD ORNAMENT</td>\n",
       "      <td>32.0</td>\n",
       "      <td>12/1/2010 8:34</td>\n",
       "      <td>1.69</td>\n",
       "      <td>13047.0</td>\n",
       "      <td>United Kingdom</td>\n",
       "    </tr>\n",
       "  </tbody>\n",
       "</table>\n",
       "</div>"
      ],
      "text/plain": [
       "  InvoiceNo StockCode                          Description  Quantity  \\\n",
       "3    536365    84029G  KNITTED UNION FLAG HOT WATER BOTTLE       6.0   \n",
       "4    536365    84029E       RED WOOLLY HOTTIE WHITE HEART.       6.0   \n",
       "5    536365     22752         SET 7 BABUSHKA NESTING BOXES       2.0   \n",
       "6    536365     21730    GLASS STAR FROSTED T-LIGHT HOLDER       6.0   \n",
       "7    536366     22632               HAND WARMER UNION JACK       6.0   \n",
       "8    536366     22632            HAND WARMER RED POLKA DOT       6.0   \n",
       "9    536367     84879        ASSORTED COLOUR BIRD ORNAMENT      32.0   \n",
       "\n",
       "      InvoiceDate  UnitPrice  CustomerID         Country  \n",
       "3  12/1/2010 8:26       3.39     17850.0  United Kingdom  \n",
       "4  12/1/2010 8:26       3.39     17850.0  United Kingdom  \n",
       "5  12/1/2010 8:26       7.65     17850.0  United Kingdom  \n",
       "6  12/1/2010 8:26       4.25     17850.0  United Kingdom  \n",
       "7  12/1/2010 8:28       1.85     17850.0  United Kingdom  \n",
       "8  12/1/2010 8:28       1.85     17850.0  United Kingdom  \n",
       "9  12/1/2010 8:34       1.69     13047.0  United Kingdom  "
      ]
     },
     "execution_count": 54,
     "metadata": {},
     "output_type": "execute_result"
    }
   ],
   "source": [
    "dataFrame = dataFrame.fillna(method='bfill')\n",
    "dataFrame[3:10]"
   ]
  },
  {
   "cell_type": "markdown",
   "metadata": {},
   "source": [
    "### 3.1.2 Initial inspection and data cleaning\n",
    "\n",
    "Now we can investigate how the numerical dataset looks like by using ** *describe()* ** function."
   ]
  },
  {
   "cell_type": "code",
   "execution_count": 55,
   "metadata": {},
   "outputs": [
    {
     "data": {
      "text/html": [
       "<div>\n",
       "<style>\n",
       "    .dataframe thead tr:only-child th {\n",
       "        text-align: right;\n",
       "    }\n",
       "\n",
       "    .dataframe thead th {\n",
       "        text-align: left;\n",
       "    }\n",
       "\n",
       "    .dataframe tbody tr th {\n",
       "        vertical-align: top;\n",
       "    }\n",
       "</style>\n",
       "<table border=\"1\" class=\"dataframe\">\n",
       "  <thead>\n",
       "    <tr style=\"text-align: right;\">\n",
       "      <th></th>\n",
       "      <th>Quantity</th>\n",
       "      <th>UnitPrice</th>\n",
       "      <th>CustomerID</th>\n",
       "    </tr>\n",
       "  </thead>\n",
       "  <tbody>\n",
       "    <tr>\n",
       "      <th>count</th>\n",
       "      <td>171810.000000</td>\n",
       "      <td>171810.000000</td>\n",
       "      <td>171810.000000</td>\n",
       "    </tr>\n",
       "    <tr>\n",
       "      <th>mean</th>\n",
       "      <td>12.254579</td>\n",
       "      <td>3.798716</td>\n",
       "      <td>15274.144730</td>\n",
       "    </tr>\n",
       "    <tr>\n",
       "      <th>std</th>\n",
       "      <td>258.624198</td>\n",
       "      <td>101.355052</td>\n",
       "      <td>1724.536126</td>\n",
       "    </tr>\n",
       "    <tr>\n",
       "      <th>min</th>\n",
       "      <td>-74215.000000</td>\n",
       "      <td>0.000000</td>\n",
       "      <td>12346.000000</td>\n",
       "    </tr>\n",
       "    <tr>\n",
       "      <th>25%</th>\n",
       "      <td>2.000000</td>\n",
       "      <td>1.250000</td>\n",
       "      <td>13838.000000</td>\n",
       "    </tr>\n",
       "    <tr>\n",
       "      <th>50%</th>\n",
       "      <td>5.000000</td>\n",
       "      <td>1.950000</td>\n",
       "      <td>15130.000000</td>\n",
       "    </tr>\n",
       "    <tr>\n",
       "      <th>75%</th>\n",
       "      <td>12.000000</td>\n",
       "      <td>3.750000</td>\n",
       "      <td>16814.000000</td>\n",
       "    </tr>\n",
       "    <tr>\n",
       "      <th>max</th>\n",
       "      <td>74215.000000</td>\n",
       "      <td>38970.000000</td>\n",
       "      <td>18287.000000</td>\n",
       "    </tr>\n",
       "  </tbody>\n",
       "</table>\n",
       "</div>"
      ],
      "text/plain": [
       "            Quantity      UnitPrice     CustomerID\n",
       "count  171810.000000  171810.000000  171810.000000\n",
       "mean       12.254579       3.798716   15274.144730\n",
       "std       258.624198     101.355052    1724.536126\n",
       "min    -74215.000000       0.000000   12346.000000\n",
       "25%         2.000000       1.250000   13838.000000\n",
       "50%         5.000000       1.950000   15130.000000\n",
       "75%        12.000000       3.750000   16814.000000\n",
       "max     74215.000000   38970.000000   18287.000000"
      ]
     },
     "execution_count": 55,
     "metadata": {},
     "output_type": "execute_result"
    }
   ],
   "source": [
    "dataFrame.describe()"
   ]
  },
  {
   "cell_type": "markdown",
   "metadata": {},
   "source": [
    "It can be observed that the *Quantity* feature can have negative values, which is not what we would expect. These values can be removed from the dataset by applying conditional selection discussed before.\n",
    "\n",
    "First, we see how many of these have non-positive *Quantity* values."
   ]
  },
  {
   "cell_type": "code",
   "execution_count": 56,
   "metadata": {},
   "outputs": [
    {
     "data": {
      "text/plain": [
       "4098"
      ]
     },
     "execution_count": 56,
     "metadata": {},
     "output_type": "execute_result"
    }
   ],
   "source": [
    "len(dataFrame[dataFrame['Quantity'] <= 0])"
   ]
  },
  {
   "cell_type": "markdown",
   "metadata": {},
   "source": [
    "Now, we will be selecting these rows using conditional selection."
   ]
  },
  {
   "cell_type": "code",
   "execution_count": 57,
   "metadata": {},
   "outputs": [
    {
     "name": "stdout",
     "output_type": "stream",
     "text": [
      "(171810, 8)\n",
      "(167712, 8)\n"
     ]
    }
   ],
   "source": [
    "print(dataFrame.shape)\n",
    "\n",
    "indexes_with_negative_height = dataFrame[dataFrame['Quantity'] < 0].index\n",
    "dataFrame = dataFrame.drop(indexes_with_negative_height)\n",
    "\n",
    "print(dataFrame.shape)"
   ]
  },
  {
   "cell_type": "markdown",
   "metadata": {},
   "source": [
    "We can observe that the dataset has been reduces exactly by 4098 rows.\n",
    "\n",
    "Interestingly, there are 13 rows which have unit price equal to 0. This raises a warning flag since it is not often for an item to be for free. We will be displaying these rows."
   ]
  },
  {
   "cell_type": "code",
   "execution_count": 58,
   "metadata": {},
   "outputs": [
    {
     "data": {
      "text/plain": [
       "13"
      ]
     },
     "execution_count": 58,
     "metadata": {},
     "output_type": "execute_result"
    }
   ],
   "source": [
    "len(dataFrame[dataFrame['UnitPrice'] == 0])"
   ]
  },
  {
   "cell_type": "code",
   "execution_count": 59,
   "metadata": {},
   "outputs": [
    {
     "data": {
      "text/html": [
       "<div>\n",
       "<style>\n",
       "    .dataframe thead tr:only-child th {\n",
       "        text-align: right;\n",
       "    }\n",
       "\n",
       "    .dataframe thead th {\n",
       "        text-align: left;\n",
       "    }\n",
       "\n",
       "    .dataframe tbody tr th {\n",
       "        vertical-align: top;\n",
       "    }\n",
       "</style>\n",
       "<table border=\"1\" class=\"dataframe\">\n",
       "  <thead>\n",
       "    <tr style=\"text-align: right;\">\n",
       "      <th></th>\n",
       "      <th>InvoiceNo</th>\n",
       "      <th>StockCode</th>\n",
       "      <th>Description</th>\n",
       "      <th>Quantity</th>\n",
       "      <th>InvoiceDate</th>\n",
       "      <th>UnitPrice</th>\n",
       "      <th>CustomerID</th>\n",
       "      <th>Country</th>\n",
       "    </tr>\n",
       "  </thead>\n",
       "  <tbody>\n",
       "    <tr>\n",
       "      <th>9302</th>\n",
       "      <td>537197</td>\n",
       "      <td>22841</td>\n",
       "      <td>ROUND CAKE TIN VINTAGE GREEN</td>\n",
       "      <td>1.0</td>\n",
       "      <td>12/5/2010 14:02</td>\n",
       "      <td>0.0</td>\n",
       "      <td>12647.0</td>\n",
       "      <td>Germany</td>\n",
       "    </tr>\n",
       "    <tr>\n",
       "      <th>33576</th>\n",
       "      <td>539263</td>\n",
       "      <td>22580</td>\n",
       "      <td>ADVENT CALENDAR GINGHAM SACK</td>\n",
       "      <td>4.0</td>\n",
       "      <td>12/16/2010 14:36</td>\n",
       "      <td>0.0</td>\n",
       "      <td>16560.0</td>\n",
       "      <td>United Kingdom</td>\n",
       "    </tr>\n",
       "    <tr>\n",
       "      <th>40089</th>\n",
       "      <td>539722</td>\n",
       "      <td>22423</td>\n",
       "      <td>REGENCY CAKESTAND 3 TIER</td>\n",
       "      <td>10.0</td>\n",
       "      <td>12/21/2010 13:45</td>\n",
       "      <td>0.0</td>\n",
       "      <td>14911.0</td>\n",
       "      <td>EIRE</td>\n",
       "    </tr>\n",
       "    <tr>\n",
       "      <th>47068</th>\n",
       "      <td>540372</td>\n",
       "      <td>22090</td>\n",
       "      <td>PAPER BUNTING RETROSPOT</td>\n",
       "      <td>24.0</td>\n",
       "      <td>1/6/2011 16:41</td>\n",
       "      <td>0.0</td>\n",
       "      <td>13081.0</td>\n",
       "      <td>United Kingdom</td>\n",
       "    </tr>\n",
       "    <tr>\n",
       "      <th>47070</th>\n",
       "      <td>540372</td>\n",
       "      <td>22553</td>\n",
       "      <td>PLASTERS IN TIN SKULLS</td>\n",
       "      <td>24.0</td>\n",
       "      <td>1/6/2011 16:41</td>\n",
       "      <td>0.0</td>\n",
       "      <td>13081.0</td>\n",
       "      <td>United Kingdom</td>\n",
       "    </tr>\n",
       "    <tr>\n",
       "      <th>56674</th>\n",
       "      <td>541109</td>\n",
       "      <td>22168</td>\n",
       "      <td>ORGANISER WOOD ANTIQUE WHITE</td>\n",
       "      <td>1.0</td>\n",
       "      <td>1/13/2011 15:10</td>\n",
       "      <td>0.0</td>\n",
       "      <td>15107.0</td>\n",
       "      <td>United Kingdom</td>\n",
       "    </tr>\n",
       "    <tr>\n",
       "      <th>86789</th>\n",
       "      <td>543599</td>\n",
       "      <td>84535B</td>\n",
       "      <td>FAIRY CAKES NOTEBOOK A6 SIZE</td>\n",
       "      <td>16.0</td>\n",
       "      <td>2/10/2011 13:08</td>\n",
       "      <td>0.0</td>\n",
       "      <td>17560.0</td>\n",
       "      <td>United Kingdom</td>\n",
       "    </tr>\n",
       "    <tr>\n",
       "      <th>130188</th>\n",
       "      <td>547417</td>\n",
       "      <td>22062</td>\n",
       "      <td>CERAMIC BOWL WITH LOVE HEART DESIGN</td>\n",
       "      <td>36.0</td>\n",
       "      <td>3/23/2011 10:25</td>\n",
       "      <td>0.0</td>\n",
       "      <td>13239.0</td>\n",
       "      <td>United Kingdom</td>\n",
       "    </tr>\n",
       "    <tr>\n",
       "      <th>139453</th>\n",
       "      <td>548318</td>\n",
       "      <td>22055</td>\n",
       "      <td>MINI CAKE STAND  HANGING STRAWBERY</td>\n",
       "      <td>5.0</td>\n",
       "      <td>3/30/2011 12:45</td>\n",
       "      <td>0.0</td>\n",
       "      <td>13113.0</td>\n",
       "      <td>United Kingdom</td>\n",
       "    </tr>\n",
       "    <tr>\n",
       "      <th>145208</th>\n",
       "      <td>548871</td>\n",
       "      <td>22162</td>\n",
       "      <td>HEART GARLAND RUSTIC PADDED</td>\n",
       "      <td>2.0</td>\n",
       "      <td>4/4/2011 14:42</td>\n",
       "      <td>0.0</td>\n",
       "      <td>14410.0</td>\n",
       "      <td>United Kingdom</td>\n",
       "    </tr>\n",
       "    <tr>\n",
       "      <th>157042</th>\n",
       "      <td>550188</td>\n",
       "      <td>22636</td>\n",
       "      <td>CHILDS BREAKFAST SET CIRCUS PARADE</td>\n",
       "      <td>1.0</td>\n",
       "      <td>4/14/2011 18:57</td>\n",
       "      <td>0.0</td>\n",
       "      <td>12457.0</td>\n",
       "      <td>Switzerland</td>\n",
       "    </tr>\n",
       "    <tr>\n",
       "      <th>187613</th>\n",
       "      <td>553000</td>\n",
       "      <td>47566</td>\n",
       "      <td>PARTY BUNTING</td>\n",
       "      <td>4.0</td>\n",
       "      <td>5/12/2011 15:21</td>\n",
       "      <td>0.0</td>\n",
       "      <td>17667.0</td>\n",
       "      <td>United Kingdom</td>\n",
       "    </tr>\n",
       "    <tr>\n",
       "      <th>198383</th>\n",
       "      <td>554037</td>\n",
       "      <td>22619</td>\n",
       "      <td>SET OF 6 SOLDIER SKITTLES</td>\n",
       "      <td>80.0</td>\n",
       "      <td>5/20/2011 14:13</td>\n",
       "      <td>0.0</td>\n",
       "      <td>12415.0</td>\n",
       "      <td>Australia</td>\n",
       "    </tr>\n",
       "  </tbody>\n",
       "</table>\n",
       "</div>"
      ],
      "text/plain": [
       "       InvoiceNo StockCode                          Description  Quantity  \\\n",
       "9302      537197     22841         ROUND CAKE TIN VINTAGE GREEN       1.0   \n",
       "33576     539263     22580         ADVENT CALENDAR GINGHAM SACK       4.0   \n",
       "40089     539722     22423             REGENCY CAKESTAND 3 TIER      10.0   \n",
       "47068     540372     22090              PAPER BUNTING RETROSPOT      24.0   \n",
       "47070     540372     22553               PLASTERS IN TIN SKULLS      24.0   \n",
       "56674     541109     22168        ORGANISER WOOD ANTIQUE WHITE        1.0   \n",
       "86789     543599    84535B         FAIRY CAKES NOTEBOOK A6 SIZE      16.0   \n",
       "130188    547417     22062  CERAMIC BOWL WITH LOVE HEART DESIGN      36.0   \n",
       "139453    548318     22055   MINI CAKE STAND  HANGING STRAWBERY       5.0   \n",
       "145208    548871     22162          HEART GARLAND RUSTIC PADDED       2.0   \n",
       "157042    550188     22636   CHILDS BREAKFAST SET CIRCUS PARADE       1.0   \n",
       "187613    553000     47566                        PARTY BUNTING       4.0   \n",
       "198383    554037     22619            SET OF 6 SOLDIER SKITTLES      80.0   \n",
       "\n",
       "             InvoiceDate  UnitPrice  CustomerID         Country  \n",
       "9302     12/5/2010 14:02        0.0     12647.0         Germany  \n",
       "33576   12/16/2010 14:36        0.0     16560.0  United Kingdom  \n",
       "40089   12/21/2010 13:45        0.0     14911.0            EIRE  \n",
       "47068     1/6/2011 16:41        0.0     13081.0  United Kingdom  \n",
       "47070     1/6/2011 16:41        0.0     13081.0  United Kingdom  \n",
       "56674    1/13/2011 15:10        0.0     15107.0  United Kingdom  \n",
       "86789    2/10/2011 13:08        0.0     17560.0  United Kingdom  \n",
       "130188   3/23/2011 10:25        0.0     13239.0  United Kingdom  \n",
       "139453   3/30/2011 12:45        0.0     13113.0  United Kingdom  \n",
       "145208    4/4/2011 14:42        0.0     14410.0  United Kingdom  \n",
       "157042   4/14/2011 18:57        0.0     12457.0     Switzerland  \n",
       "187613   5/12/2011 15:21        0.0     17667.0  United Kingdom  \n",
       "198383   5/20/2011 14:13        0.0     12415.0       Australia  "
      ]
     },
     "execution_count": 59,
     "metadata": {},
     "output_type": "execute_result"
    }
   ],
   "source": [
    "dataFrame[dataFrame['UnitPrice'] == 0]"
   ]
  },
  {
   "cell_type": "markdown",
   "metadata": {},
   "source": [
    "However unusual, these items might still be valid entries because they might have been sold as an addition to other item, or bought with a voucher, therefore they will be kept in the dataset."
   ]
  },
  {
   "cell_type": "markdown",
   "metadata": {},
   "source": [
    "You can further inspect the dataset by calling  functions e.g. min(), max(), mean(), etc. explicitly on the dataFrame"
   ]
  },
  {
   "cell_type": "code",
   "execution_count": 60,
   "metadata": {},
   "outputs": [
    {
     "data": {
      "text/plain": [
       "InvoiceNo                                557955\n",
       "StockCode                                  POST\n",
       "Description    ZINC WIRE SWEETHEART LETTER TRAY\n",
       "Quantity                                  74215\n",
       "InvoiceDate                       6/9/2011 9:54\n",
       "UnitPrice                               8142.75\n",
       "CustomerID                                18287\n",
       "Country                             Unspecified\n",
       "dtype: object"
      ]
     },
     "execution_count": 60,
     "metadata": {},
     "output_type": "execute_result"
    }
   ],
   "source": [
    "dataFrame.max()"
   ]
  },
  {
   "cell_type": "markdown",
   "metadata": {},
   "source": [
    "Note that for the strings the minimum and maximum values are evaluated based on the characters included in the string. For example, a letter \"A\" will be considered as \"smaller\" than letter \"Z\". Moreoever, string digits e.g. \"8\" are always considered to be smaller than letters."
   ]
  },
  {
   "cell_type": "code",
   "execution_count": 61,
   "metadata": {},
   "outputs": [
    {
     "data": {
      "text/plain": [
       "InvoiceNo                              536365\n",
       "StockCode                               10002\n",
       "Description     4 PURPLE FLOCK DINNER CANDLES\n",
       "Quantity                                    1\n",
       "InvoiceDate                   1/10/2011 10:32\n",
       "UnitPrice                                   0\n",
       "CustomerID                              12346\n",
       "Country                             Australia\n",
       "dtype: object"
      ]
     },
     "execution_count": 61,
     "metadata": {},
     "output_type": "execute_result"
    }
   ],
   "source": [
    "dataFrame.min()"
   ]
  },
  {
   "cell_type": "markdown",
   "metadata": {},
   "source": [
    "Similarly, you can apply functions ** *mode()* ** or ** *mean()* **.\n",
    "\n",
    "More functions can be found here: https://pandas.pydata.org/pandas-docs/stable/api.html#api-dataframe-stats"
   ]
  },
  {
   "cell_type": "markdown",
   "metadata": {},
   "source": [
    "You can check out the correlation coefficients between columns of numerical values by using *corr()* function. In the next notebook on data visualisation you will learn how to create a correlation heatmap."
   ]
  },
  {
   "cell_type": "code",
   "execution_count": 62,
   "metadata": {},
   "outputs": [
    {
     "data": {
      "text/html": [
       "<div>\n",
       "<style>\n",
       "    .dataframe thead tr:only-child th {\n",
       "        text-align: right;\n",
       "    }\n",
       "\n",
       "    .dataframe thead th {\n",
       "        text-align: left;\n",
       "    }\n",
       "\n",
       "    .dataframe tbody tr th {\n",
       "        vertical-align: top;\n",
       "    }\n",
       "</style>\n",
       "<table border=\"1\" class=\"dataframe\">\n",
       "  <thead>\n",
       "    <tr style=\"text-align: right;\">\n",
       "      <th></th>\n",
       "      <th>Quantity</th>\n",
       "      <th>UnitPrice</th>\n",
       "      <th>CustomerID</th>\n",
       "    </tr>\n",
       "  </thead>\n",
       "  <tbody>\n",
       "    <tr>\n",
       "      <th>Quantity</th>\n",
       "      <td>1.000000</td>\n",
       "      <td>-0.004563</td>\n",
       "      <td>-0.010708</td>\n",
       "    </tr>\n",
       "    <tr>\n",
       "      <th>UnitPrice</th>\n",
       "      <td>-0.004563</td>\n",
       "      <td>1.000000</td>\n",
       "      <td>-0.007881</td>\n",
       "    </tr>\n",
       "    <tr>\n",
       "      <th>CustomerID</th>\n",
       "      <td>-0.010708</td>\n",
       "      <td>-0.007881</td>\n",
       "      <td>1.000000</td>\n",
       "    </tr>\n",
       "  </tbody>\n",
       "</table>\n",
       "</div>"
      ],
      "text/plain": [
       "            Quantity  UnitPrice  CustomerID\n",
       "Quantity    1.000000  -0.004563   -0.010708\n",
       "UnitPrice  -0.004563   1.000000   -0.007881\n",
       "CustomerID -0.010708  -0.007881    1.000000"
      ]
     },
     "execution_count": 62,
     "metadata": {},
     "output_type": "execute_result"
    }
   ],
   "source": [
    "dataFrame.corr()"
   ]
  },
  {
   "cell_type": "markdown",
   "metadata": {},
   "source": [
    "### Invalid categorical values\n",
    "\n",
    "If you want to inspect if the categorical column contains invalid entries you can use *value_counts()* function, as below."
   ]
  },
  {
   "cell_type": "code",
   "execution_count": 63,
   "metadata": {},
   "outputs": [
    {
     "data": {
      "text/plain": [
       "United Kingdom          149183\n",
       "Germany                   3949\n",
       "France                    3531\n",
       "EIRE                      2609\n",
       "Netherlands               1139\n",
       "Spain                     1131\n",
       "Belgium                    914\n",
       "Switzerland                679\n",
       "Australia                  630\n",
       "Portugal                   610\n",
       "Norway                     368\n",
       "Channel Islands            363\n",
       "Cyprus                     350\n",
       "Finland                    307\n",
       "Italy                      299\n",
       "Japan                      230\n",
       "Sweden                     195\n",
       "Denmark                    184\n",
       "Poland                     180\n",
       "Austria                    124\n",
       "Singapore                  113\n",
       "Iceland                    102\n",
       "Greece                      85\n",
       "Unspecified                 72\n",
       "Canada                      68\n",
       "Lebanon                     45\n",
       "Malta                       45\n",
       "Lithuania                   35\n",
       "Brazil                      32\n",
       "European Community          31\n",
       "United Arab Emirates        30\n",
       "USA                         22\n",
       "Bahrain                     17\n",
       "Israel                      16\n",
       "Czech Republic              15\n",
       "Saudi Arabia                 9\n",
       "Name: Country, dtype: int64"
      ]
     },
     "execution_count": 63,
     "metadata": {},
     "output_type": "execute_result"
    }
   ],
   "source": [
    "dataFrame['Country'].value_counts()"
   ]
  },
  {
   "cell_type": "markdown",
   "metadata": {},
   "source": [
    "The same applies for numerical values"
   ]
  },
  {
   "cell_type": "markdown",
   "metadata": {},
   "source": [
    "Most of the values seem to be valid entries, however some of the countries are categorized as \"Unspecified\". It is our decision whether we want to remove rows which have this value or not, and in this case we will do this be executing the following code:"
   ]
  },
  {
   "cell_type": "code",
   "execution_count": 64,
   "metadata": {},
   "outputs": [
    {
     "name": "stdout",
     "output_type": "stream",
     "text": [
      "(167712, 8)\n",
      "(167640, 8)\n"
     ]
    }
   ],
   "source": [
    "print(dataFrame.shape)\n",
    "\n",
    "dataFrame = dataFrame.drop(dataFrame[dataFrame['Country'] == 'Unspecified'].index)\n",
    "\n",
    "print(dataFrame.shape)"
   ]
  },
  {
   "cell_type": "markdown",
   "metadata": {},
   "source": [
    "where *dataFrame[dataFrame['Country'] == 'Unspecified']* selects all the rows that have 'Unspecified' country; ** *.index* ** returns indexes associated with these rows; and ** *dataFrame.drop()* ** removes these indexes from the dataset."
   ]
  },
  {
   "cell_type": "markdown",
   "metadata": {},
   "source": [
    "We have removed exactly 72 rows, as specified for 'Unspecified' by value_counts()."
   ]
  },
  {
   "cell_type": "markdown",
   "metadata": {},
   "source": [
    "## 3.2 Encoding categorical variables\n",
    "\n",
    "Most machine learning methods do not directly work with categories, there is a need to transform these into numerical values. There are two options to do it:\n",
    "\n",
    "- encoding each category by number e.g. Monday - 1, Tuesday - 2 etc.\n",
    "- creating dummy columns which encode the category. For example for day of the week, we would create 7 columns, each corresponsing to one day of the week.\n",
    "\n",
    "To demonstrate both approaches, we will switch to the color dataset used at the beginning of the notebook."
   ]
  },
  {
   "cell_type": "code",
   "execution_count": 65,
   "metadata": {},
   "outputs": [
    {
     "data": {
      "text/html": [
       "<div>\n",
       "<style>\n",
       "    .dataframe thead tr:only-child th {\n",
       "        text-align: right;\n",
       "    }\n",
       "\n",
       "    .dataframe thead th {\n",
       "        text-align: left;\n",
       "    }\n",
       "\n",
       "    .dataframe tbody tr th {\n",
       "        vertical-align: top;\n",
       "    }\n",
       "</style>\n",
       "<table border=\"1\" class=\"dataframe\">\n",
       "  <thead>\n",
       "    <tr style=\"text-align: right;\">\n",
       "      <th></th>\n",
       "      <th>B</th>\n",
       "      <th>G</th>\n",
       "      <th>R</th>\n",
       "      <th>color_name</th>\n",
       "      <th>color_name2</th>\n",
       "    </tr>\n",
       "  </thead>\n",
       "  <tbody>\n",
       "    <tr>\n",
       "      <th>0</th>\n",
       "      <td>0</td>\n",
       "      <td>0</td>\n",
       "      <td>0</td>\n",
       "      <td>black</td>\n",
       "      <td>black</td>\n",
       "    </tr>\n",
       "    <tr>\n",
       "      <th>1</th>\n",
       "      <td>255</td>\n",
       "      <td>255</td>\n",
       "      <td>255</td>\n",
       "      <td>white</td>\n",
       "      <td>white</td>\n",
       "    </tr>\n",
       "    <tr>\n",
       "      <th>2</th>\n",
       "      <td>0</td>\n",
       "      <td>0</td>\n",
       "      <td>255</td>\n",
       "      <td>red</td>\n",
       "      <td>red</td>\n",
       "    </tr>\n",
       "    <tr>\n",
       "      <th>3</th>\n",
       "      <td>255</td>\n",
       "      <td>0</td>\n",
       "      <td>0</td>\n",
       "      <td>blue</td>\n",
       "      <td>blue</td>\n",
       "    </tr>\n",
       "    <tr>\n",
       "      <th>4</th>\n",
       "      <td>0</td>\n",
       "      <td>255</td>\n",
       "      <td>0</td>\n",
       "      <td>green</td>\n",
       "      <td>green</td>\n",
       "    </tr>\n",
       "    <tr>\n",
       "      <th>5</th>\n",
       "      <td>0</td>\n",
       "      <td>255</td>\n",
       "      <td>0</td>\n",
       "      <td>green</td>\n",
       "      <td>green</td>\n",
       "    </tr>\n",
       "  </tbody>\n",
       "</table>\n",
       "</div>"
      ],
      "text/plain": [
       "     B    G    R color_name color_name2\n",
       "0    0    0    0      black       black\n",
       "1  255  255  255      white       white\n",
       "2    0    0  255        red         red\n",
       "3  255    0    0       blue        blue\n",
       "4    0  255    0      green       green\n",
       "5    0  255    0      green       green"
      ]
     },
     "execution_count": 65,
     "metadata": {},
     "output_type": "execute_result"
    }
   ],
   "source": [
    "data = [{'color_name': 'black', 'R': 0, 'G': 0, 'B': 0}, {'color_name': 'white', 'R': 255, 'G': 255, 'B': 255}, \n",
    "        {'color_name': 'red', 'R': 255, 'G': 0, 'B': 0}, {'color_name': 'blue', 'R': 0, 'G': 0, 'B': 255},\n",
    "        {'color_name': 'green', 'R': 0, 'G': 255, 'B': 0}, {'color_name': 'green', 'R': 0, 'G': 255, 'B': 0}]\n",
    "\n",
    "new_dataFrame = pd.DataFrame(data)\n",
    "new_dataFrame['color_name2'] = new_dataFrame['color_name']\n",
    "new_dataFrame"
   ]
  },
  {
   "cell_type": "markdown",
   "metadata": {},
   "source": [
    "### 3.2.1 Numerical encoding of categorical variables\n",
    "\n",
    "First, will transform the type of the column to *category*, so that pandas map each category with the unique code."
   ]
  },
  {
   "cell_type": "code",
   "execution_count": 66,
   "metadata": {
    "collapsed": true
   },
   "outputs": [],
   "source": [
    "new_dataFrame['color_name'] = new_dataFrame['color_name'].astype('category')"
   ]
  },
  {
   "cell_type": "markdown",
   "metadata": {},
   "source": [
    "Next, we will update the column with corresponding category codes"
   ]
  },
  {
   "cell_type": "code",
   "execution_count": 67,
   "metadata": {},
   "outputs": [
    {
     "data": {
      "text/html": [
       "<div>\n",
       "<style>\n",
       "    .dataframe thead tr:only-child th {\n",
       "        text-align: right;\n",
       "    }\n",
       "\n",
       "    .dataframe thead th {\n",
       "        text-align: left;\n",
       "    }\n",
       "\n",
       "    .dataframe tbody tr th {\n",
       "        vertical-align: top;\n",
       "    }\n",
       "</style>\n",
       "<table border=\"1\" class=\"dataframe\">\n",
       "  <thead>\n",
       "    <tr style=\"text-align: right;\">\n",
       "      <th></th>\n",
       "      <th>B</th>\n",
       "      <th>G</th>\n",
       "      <th>R</th>\n",
       "      <th>color_name</th>\n",
       "      <th>color_name2</th>\n",
       "    </tr>\n",
       "  </thead>\n",
       "  <tbody>\n",
       "    <tr>\n",
       "      <th>0</th>\n",
       "      <td>0</td>\n",
       "      <td>0</td>\n",
       "      <td>0</td>\n",
       "      <td>0</td>\n",
       "      <td>black</td>\n",
       "    </tr>\n",
       "    <tr>\n",
       "      <th>1</th>\n",
       "      <td>255</td>\n",
       "      <td>255</td>\n",
       "      <td>255</td>\n",
       "      <td>4</td>\n",
       "      <td>white</td>\n",
       "    </tr>\n",
       "    <tr>\n",
       "      <th>2</th>\n",
       "      <td>0</td>\n",
       "      <td>0</td>\n",
       "      <td>255</td>\n",
       "      <td>3</td>\n",
       "      <td>red</td>\n",
       "    </tr>\n",
       "    <tr>\n",
       "      <th>3</th>\n",
       "      <td>255</td>\n",
       "      <td>0</td>\n",
       "      <td>0</td>\n",
       "      <td>1</td>\n",
       "      <td>blue</td>\n",
       "    </tr>\n",
       "    <tr>\n",
       "      <th>4</th>\n",
       "      <td>0</td>\n",
       "      <td>255</td>\n",
       "      <td>0</td>\n",
       "      <td>2</td>\n",
       "      <td>green</td>\n",
       "    </tr>\n",
       "    <tr>\n",
       "      <th>5</th>\n",
       "      <td>0</td>\n",
       "      <td>255</td>\n",
       "      <td>0</td>\n",
       "      <td>2</td>\n",
       "      <td>green</td>\n",
       "    </tr>\n",
       "  </tbody>\n",
       "</table>\n",
       "</div>"
      ],
      "text/plain": [
       "     B    G    R  color_name color_name2\n",
       "0    0    0    0           0       black\n",
       "1  255  255  255           4       white\n",
       "2    0    0  255           3         red\n",
       "3  255    0    0           1        blue\n",
       "4    0  255    0           2       green\n",
       "5    0  255    0           2       green"
      ]
     },
     "execution_count": 67,
     "metadata": {},
     "output_type": "execute_result"
    }
   ],
   "source": [
    "new_dataFrame['color_name'] = new_dataFrame['color_name'].cat.codes\n",
    "new_dataFrame"
   ]
  },
  {
   "cell_type": "markdown",
   "metadata": {},
   "source": [
    "We can see that each color has now each category assigned: *black* - 0, *white* - 4, *red* - 3, etc."
   ]
  },
  {
   "cell_type": "markdown",
   "metadata": {},
   "source": [
    "### 3.2.2 Creating dummy columns (also called as One Hot Encoding)\n",
    "\n",
    "Execute ** *pd.get_dummies()* ** function to expand a specific column to dummy columns. *columns* parameter specifies the names of columns that will be expanded using one hot encoding."
   ]
  },
  {
   "cell_type": "code",
   "execution_count": 68,
   "metadata": {
    "collapsed": true
   },
   "outputs": [],
   "source": [
    "new_dataFrame = pd.get_dummies(new_dataFrame, columns=['color_name2'])"
   ]
  },
  {
   "cell_type": "code",
   "execution_count": 69,
   "metadata": {},
   "outputs": [
    {
     "data": {
      "text/html": [
       "<div>\n",
       "<style>\n",
       "    .dataframe thead tr:only-child th {\n",
       "        text-align: right;\n",
       "    }\n",
       "\n",
       "    .dataframe thead th {\n",
       "        text-align: left;\n",
       "    }\n",
       "\n",
       "    .dataframe tbody tr th {\n",
       "        vertical-align: top;\n",
       "    }\n",
       "</style>\n",
       "<table border=\"1\" class=\"dataframe\">\n",
       "  <thead>\n",
       "    <tr style=\"text-align: right;\">\n",
       "      <th></th>\n",
       "      <th>B</th>\n",
       "      <th>G</th>\n",
       "      <th>R</th>\n",
       "      <th>color_name</th>\n",
       "      <th>color_name2_black</th>\n",
       "      <th>color_name2_blue</th>\n",
       "      <th>color_name2_green</th>\n",
       "      <th>color_name2_red</th>\n",
       "      <th>color_name2_white</th>\n",
       "    </tr>\n",
       "  </thead>\n",
       "  <tbody>\n",
       "    <tr>\n",
       "      <th>0</th>\n",
       "      <td>0</td>\n",
       "      <td>0</td>\n",
       "      <td>0</td>\n",
       "      <td>0</td>\n",
       "      <td>1</td>\n",
       "      <td>0</td>\n",
       "      <td>0</td>\n",
       "      <td>0</td>\n",
       "      <td>0</td>\n",
       "    </tr>\n",
       "    <tr>\n",
       "      <th>1</th>\n",
       "      <td>255</td>\n",
       "      <td>255</td>\n",
       "      <td>255</td>\n",
       "      <td>4</td>\n",
       "      <td>0</td>\n",
       "      <td>0</td>\n",
       "      <td>0</td>\n",
       "      <td>0</td>\n",
       "      <td>1</td>\n",
       "    </tr>\n",
       "    <tr>\n",
       "      <th>2</th>\n",
       "      <td>0</td>\n",
       "      <td>0</td>\n",
       "      <td>255</td>\n",
       "      <td>3</td>\n",
       "      <td>0</td>\n",
       "      <td>0</td>\n",
       "      <td>0</td>\n",
       "      <td>1</td>\n",
       "      <td>0</td>\n",
       "    </tr>\n",
       "    <tr>\n",
       "      <th>3</th>\n",
       "      <td>255</td>\n",
       "      <td>0</td>\n",
       "      <td>0</td>\n",
       "      <td>1</td>\n",
       "      <td>0</td>\n",
       "      <td>1</td>\n",
       "      <td>0</td>\n",
       "      <td>0</td>\n",
       "      <td>0</td>\n",
       "    </tr>\n",
       "    <tr>\n",
       "      <th>4</th>\n",
       "      <td>0</td>\n",
       "      <td>255</td>\n",
       "      <td>0</td>\n",
       "      <td>2</td>\n",
       "      <td>0</td>\n",
       "      <td>0</td>\n",
       "      <td>1</td>\n",
       "      <td>0</td>\n",
       "      <td>0</td>\n",
       "    </tr>\n",
       "    <tr>\n",
       "      <th>5</th>\n",
       "      <td>0</td>\n",
       "      <td>255</td>\n",
       "      <td>0</td>\n",
       "      <td>2</td>\n",
       "      <td>0</td>\n",
       "      <td>0</td>\n",
       "      <td>1</td>\n",
       "      <td>0</td>\n",
       "      <td>0</td>\n",
       "    </tr>\n",
       "  </tbody>\n",
       "</table>\n",
       "</div>"
      ],
      "text/plain": [
       "     B    G    R  color_name  color_name2_black  color_name2_blue  \\\n",
       "0    0    0    0           0                  1                 0   \n",
       "1  255  255  255           4                  0                 0   \n",
       "2    0    0  255           3                  0                 0   \n",
       "3  255    0    0           1                  0                 1   \n",
       "4    0  255    0           2                  0                 0   \n",
       "5    0  255    0           2                  0                 0   \n",
       "\n",
       "   color_name2_green  color_name2_red  color_name2_white  \n",
       "0                  0                0                  0  \n",
       "1                  0                0                  1  \n",
       "2                  0                1                  0  \n",
       "3                  0                0                  0  \n",
       "4                  1                0                  0  \n",
       "5                  1                0                  0  "
      ]
     },
     "execution_count": 69,
     "metadata": {},
     "output_type": "execute_result"
    }
   ],
   "source": [
    "new_dataFrame"
   ]
  },
  {
   "cell_type": "markdown",
   "metadata": {},
   "source": [
    "Now we can see that the *color_name2* column has been expanded to 5 binary columns."
   ]
  },
  {
   "cell_type": "markdown",
   "metadata": {},
   "source": [
    "## 3.3 Unbalanced datasets"
   ]
  },
  {
   "cell_type": "markdown",
   "metadata": {
    "collapsed": true
   },
   "source": [
    "Datasets often might contain unbalanced categorical variables; that means that some of these values appear more frequenty than the other. When the unbalanced feature is the target i.e. the feature that we want to predict using machine learning models, it is a problem because our model will be trained to predict the majority category for most of the time. More on this will be presented in the notebook dealing with evaluating performance of the machine learning model.\n",
    "\n",
    "There are many different methods to deal with the problem of unbalanced datasets, however in this notebook we will focus on two of them: under-sampling and over-sampling. Under-sampling reduce the size of our original dataset removing instances of the majority class to match the minority class. Over-sampling adds new data points which are similar to these of the minority class. \n",
    "\n",
    "Please note, that under-sampling and over-sampling might not be the best to deal with unbalanced datasets, as it will introduce bias. For example, under-sampling will remove instances of the majority class that might be meaningful. However, it still might work in practice for some cases.\n",
    "\n",
    "Under-sampling and over-sampling will be presented below, however before we do it, we will slighlty modify the e-commerce dataset.\n",
    "\n",
    "Let's assume that we are interested only in transactions which happened in United Kingdom and France. Below is the code which will select all the rows which have 'United Kingdom' value in column *Country*, and these with 'France' value in the same column.\n",
    "\n",
    "Both selections are then concatenated togehter using ** *pd.concat()* ** pandas function. Concatenate adds one data frame below the other; this implies that both data frames need to have the same columns. More about concatenation (and other merging functions) can be found here: https://pandas.pydata.org/pandas-docs/stable/merging.html"
   ]
  },
  {
   "cell_type": "code",
   "execution_count": 70,
   "metadata": {},
   "outputs": [
    {
     "data": {
      "text/html": [
       "<div>\n",
       "<style>\n",
       "    .dataframe thead tr:only-child th {\n",
       "        text-align: right;\n",
       "    }\n",
       "\n",
       "    .dataframe thead th {\n",
       "        text-align: left;\n",
       "    }\n",
       "\n",
       "    .dataframe tbody tr th {\n",
       "        vertical-align: top;\n",
       "    }\n",
       "</style>\n",
       "<table border=\"1\" class=\"dataframe\">\n",
       "  <thead>\n",
       "    <tr style=\"text-align: right;\">\n",
       "      <th></th>\n",
       "      <th>InvoiceNo</th>\n",
       "      <th>StockCode</th>\n",
       "      <th>Description</th>\n",
       "      <th>Quantity</th>\n",
       "      <th>InvoiceDate</th>\n",
       "      <th>UnitPrice</th>\n",
       "      <th>CustomerID</th>\n",
       "      <th>Country</th>\n",
       "    </tr>\n",
       "  </thead>\n",
       "  <tbody>\n",
       "    <tr>\n",
       "      <th>0</th>\n",
       "      <td>536365</td>\n",
       "      <td>85123A</td>\n",
       "      <td>WHITE HANGING HEART T-LIGHT HOLDER</td>\n",
       "      <td>6.000000</td>\n",
       "      <td>12/1/2010 8:26</td>\n",
       "      <td>2.55</td>\n",
       "      <td>17850.0</td>\n",
       "      <td>United Kingdom</td>\n",
       "    </tr>\n",
       "    <tr>\n",
       "      <th>1</th>\n",
       "      <td>536365</td>\n",
       "      <td>71053</td>\n",
       "      <td>WHITE METAL LANTERN</td>\n",
       "      <td>12.254579</td>\n",
       "      <td>12/1/2010 8:26</td>\n",
       "      <td>3.39</td>\n",
       "      <td>17850.0</td>\n",
       "      <td>United Kingdom</td>\n",
       "    </tr>\n",
       "    <tr>\n",
       "      <th>2</th>\n",
       "      <td>536365</td>\n",
       "      <td>84406B</td>\n",
       "      <td>CREAM CUPID HEARTS COAT HANGER</td>\n",
       "      <td>8.000000</td>\n",
       "      <td>12/1/2010 8:26</td>\n",
       "      <td>2.75</td>\n",
       "      <td>17850.0</td>\n",
       "      <td>United Kingdom</td>\n",
       "    </tr>\n",
       "    <tr>\n",
       "      <th>3</th>\n",
       "      <td>536365</td>\n",
       "      <td>84029G</td>\n",
       "      <td>KNITTED UNION FLAG HOT WATER BOTTLE</td>\n",
       "      <td>6.000000</td>\n",
       "      <td>12/1/2010 8:26</td>\n",
       "      <td>3.39</td>\n",
       "      <td>17850.0</td>\n",
       "      <td>United Kingdom</td>\n",
       "    </tr>\n",
       "    <tr>\n",
       "      <th>4</th>\n",
       "      <td>536365</td>\n",
       "      <td>84029E</td>\n",
       "      <td>RED WOOLLY HOTTIE WHITE HEART.</td>\n",
       "      <td>6.000000</td>\n",
       "      <td>12/1/2010 8:26</td>\n",
       "      <td>3.39</td>\n",
       "      <td>17850.0</td>\n",
       "      <td>United Kingdom</td>\n",
       "    </tr>\n",
       "    <tr>\n",
       "      <th>5</th>\n",
       "      <td>536365</td>\n",
       "      <td>22752</td>\n",
       "      <td>SET 7 BABUSHKA NESTING BOXES</td>\n",
       "      <td>2.000000</td>\n",
       "      <td>12/1/2010 8:26</td>\n",
       "      <td>7.65</td>\n",
       "      <td>17850.0</td>\n",
       "      <td>United Kingdom</td>\n",
       "    </tr>\n",
       "    <tr>\n",
       "      <th>6</th>\n",
       "      <td>536365</td>\n",
       "      <td>21730</td>\n",
       "      <td>GLASS STAR FROSTED T-LIGHT HOLDER</td>\n",
       "      <td>6.000000</td>\n",
       "      <td>12/1/2010 8:26</td>\n",
       "      <td>4.25</td>\n",
       "      <td>17850.0</td>\n",
       "      <td>United Kingdom</td>\n",
       "    </tr>\n",
       "    <tr>\n",
       "      <th>7</th>\n",
       "      <td>536366</td>\n",
       "      <td>22632</td>\n",
       "      <td>HAND WARMER UNION JACK</td>\n",
       "      <td>6.000000</td>\n",
       "      <td>12/1/2010 8:28</td>\n",
       "      <td>1.85</td>\n",
       "      <td>17850.0</td>\n",
       "      <td>United Kingdom</td>\n",
       "    </tr>\n",
       "    <tr>\n",
       "      <th>8</th>\n",
       "      <td>536366</td>\n",
       "      <td>22632</td>\n",
       "      <td>HAND WARMER RED POLKA DOT</td>\n",
       "      <td>6.000000</td>\n",
       "      <td>12/1/2010 8:28</td>\n",
       "      <td>1.85</td>\n",
       "      <td>17850.0</td>\n",
       "      <td>United Kingdom</td>\n",
       "    </tr>\n",
       "    <tr>\n",
       "      <th>9</th>\n",
       "      <td>536367</td>\n",
       "      <td>84879</td>\n",
       "      <td>ASSORTED COLOUR BIRD ORNAMENT</td>\n",
       "      <td>32.000000</td>\n",
       "      <td>12/1/2010 8:34</td>\n",
       "      <td>1.69</td>\n",
       "      <td>13047.0</td>\n",
       "      <td>United Kingdom</td>\n",
       "    </tr>\n",
       "    <tr>\n",
       "      <th>10</th>\n",
       "      <td>536367</td>\n",
       "      <td>22745</td>\n",
       "      <td>POPPY'S PLAYHOUSE BEDROOM</td>\n",
       "      <td>6.000000</td>\n",
       "      <td>12/1/2010 8:34</td>\n",
       "      <td>2.10</td>\n",
       "      <td>13047.0</td>\n",
       "      <td>United Kingdom</td>\n",
       "    </tr>\n",
       "    <tr>\n",
       "      <th>11</th>\n",
       "      <td>536367</td>\n",
       "      <td>22748</td>\n",
       "      <td>POPPY'S PLAYHOUSE KITCHEN</td>\n",
       "      <td>6.000000</td>\n",
       "      <td>12/1/2010 8:34</td>\n",
       "      <td>2.10</td>\n",
       "      <td>13047.0</td>\n",
       "      <td>United Kingdom</td>\n",
       "    </tr>\n",
       "    <tr>\n",
       "      <th>12</th>\n",
       "      <td>536367</td>\n",
       "      <td>22749</td>\n",
       "      <td>FELTCRAFT PRINCESS CHARLOTTE DOLL</td>\n",
       "      <td>8.000000</td>\n",
       "      <td>12/1/2010 8:34</td>\n",
       "      <td>3.75</td>\n",
       "      <td>13047.0</td>\n",
       "      <td>United Kingdom</td>\n",
       "    </tr>\n",
       "    <tr>\n",
       "      <th>13</th>\n",
       "      <td>536367</td>\n",
       "      <td>22310</td>\n",
       "      <td>IVORY KNITTED MUG COSY</td>\n",
       "      <td>6.000000</td>\n",
       "      <td>12/1/2010 8:34</td>\n",
       "      <td>1.65</td>\n",
       "      <td>13047.0</td>\n",
       "      <td>United Kingdom</td>\n",
       "    </tr>\n",
       "    <tr>\n",
       "      <th>14</th>\n",
       "      <td>536367</td>\n",
       "      <td>84969</td>\n",
       "      <td>BOX OF 6 ASSORTED COLOUR TEASPOONS</td>\n",
       "      <td>6.000000</td>\n",
       "      <td>12/1/2010 8:34</td>\n",
       "      <td>4.25</td>\n",
       "      <td>13047.0</td>\n",
       "      <td>United Kingdom</td>\n",
       "    </tr>\n",
       "    <tr>\n",
       "      <th>15</th>\n",
       "      <td>536367</td>\n",
       "      <td>22623</td>\n",
       "      <td>BOX OF VINTAGE JIGSAW BLOCKS</td>\n",
       "      <td>3.000000</td>\n",
       "      <td>12/1/2010 8:34</td>\n",
       "      <td>4.95</td>\n",
       "      <td>13047.0</td>\n",
       "      <td>United Kingdom</td>\n",
       "    </tr>\n",
       "    <tr>\n",
       "      <th>16</th>\n",
       "      <td>536367</td>\n",
       "      <td>22622</td>\n",
       "      <td>BOX OF VINTAGE ALPHABET BLOCKS</td>\n",
       "      <td>2.000000</td>\n",
       "      <td>12/1/2010 8:34</td>\n",
       "      <td>9.95</td>\n",
       "      <td>13047.0</td>\n",
       "      <td>United Kingdom</td>\n",
       "    </tr>\n",
       "    <tr>\n",
       "      <th>17</th>\n",
       "      <td>536367</td>\n",
       "      <td>21754</td>\n",
       "      <td>HOME BUILDING BLOCK WORD</td>\n",
       "      <td>3.000000</td>\n",
       "      <td>12/1/2010 8:34</td>\n",
       "      <td>5.95</td>\n",
       "      <td>13047.0</td>\n",
       "      <td>United Kingdom</td>\n",
       "    </tr>\n",
       "    <tr>\n",
       "      <th>18</th>\n",
       "      <td>536367</td>\n",
       "      <td>21755</td>\n",
       "      <td>LOVE BUILDING BLOCK WORD</td>\n",
       "      <td>3.000000</td>\n",
       "      <td>12/1/2010 8:34</td>\n",
       "      <td>5.95</td>\n",
       "      <td>13047.0</td>\n",
       "      <td>United Kingdom</td>\n",
       "    </tr>\n",
       "    <tr>\n",
       "      <th>19</th>\n",
       "      <td>536367</td>\n",
       "      <td>21777</td>\n",
       "      <td>RECIPE BOX WITH METAL HEART</td>\n",
       "      <td>4.000000</td>\n",
       "      <td>12/1/2010 8:34</td>\n",
       "      <td>7.95</td>\n",
       "      <td>13047.0</td>\n",
       "      <td>United Kingdom</td>\n",
       "    </tr>\n",
       "    <tr>\n",
       "      <th>20</th>\n",
       "      <td>536367</td>\n",
       "      <td>48187</td>\n",
       "      <td>DOORMAT NEW ENGLAND</td>\n",
       "      <td>4.000000</td>\n",
       "      <td>12/1/2010 8:34</td>\n",
       "      <td>7.95</td>\n",
       "      <td>13047.0</td>\n",
       "      <td>United Kingdom</td>\n",
       "    </tr>\n",
       "    <tr>\n",
       "      <th>21</th>\n",
       "      <td>536368</td>\n",
       "      <td>22960</td>\n",
       "      <td>JAM MAKING SET WITH JARS</td>\n",
       "      <td>6.000000</td>\n",
       "      <td>12/1/2010 8:34</td>\n",
       "      <td>4.25</td>\n",
       "      <td>13047.0</td>\n",
       "      <td>United Kingdom</td>\n",
       "    </tr>\n",
       "    <tr>\n",
       "      <th>22</th>\n",
       "      <td>536368</td>\n",
       "      <td>22913</td>\n",
       "      <td>RED COAT RACK PARIS FASHION</td>\n",
       "      <td>3.000000</td>\n",
       "      <td>12/1/2010 8:34</td>\n",
       "      <td>4.95</td>\n",
       "      <td>13047.0</td>\n",
       "      <td>United Kingdom</td>\n",
       "    </tr>\n",
       "    <tr>\n",
       "      <th>23</th>\n",
       "      <td>536368</td>\n",
       "      <td>22912</td>\n",
       "      <td>YELLOW COAT RACK PARIS FASHION</td>\n",
       "      <td>3.000000</td>\n",
       "      <td>12/1/2010 8:34</td>\n",
       "      <td>4.95</td>\n",
       "      <td>13047.0</td>\n",
       "      <td>United Kingdom</td>\n",
       "    </tr>\n",
       "    <tr>\n",
       "      <th>24</th>\n",
       "      <td>536368</td>\n",
       "      <td>22914</td>\n",
       "      <td>BLUE COAT RACK PARIS FASHION</td>\n",
       "      <td>3.000000</td>\n",
       "      <td>12/1/2010 8:34</td>\n",
       "      <td>4.95</td>\n",
       "      <td>13047.0</td>\n",
       "      <td>United Kingdom</td>\n",
       "    </tr>\n",
       "    <tr>\n",
       "      <th>25</th>\n",
       "      <td>536369</td>\n",
       "      <td>21756</td>\n",
       "      <td>BATH BUILDING BLOCK WORD</td>\n",
       "      <td>3.000000</td>\n",
       "      <td>12/1/2010 8:35</td>\n",
       "      <td>5.95</td>\n",
       "      <td>13047.0</td>\n",
       "      <td>United Kingdom</td>\n",
       "    </tr>\n",
       "    <tr>\n",
       "      <th>46</th>\n",
       "      <td>536371</td>\n",
       "      <td>22086</td>\n",
       "      <td>PAPER CHAIN KIT 50'S CHRISTMAS</td>\n",
       "      <td>80.000000</td>\n",
       "      <td>12/1/2010 9:00</td>\n",
       "      <td>2.55</td>\n",
       "      <td>13748.0</td>\n",
       "      <td>United Kingdom</td>\n",
       "    </tr>\n",
       "    <tr>\n",
       "      <th>47</th>\n",
       "      <td>536372</td>\n",
       "      <td>22632</td>\n",
       "      <td>HAND WARMER RED POLKA DOT</td>\n",
       "      <td>6.000000</td>\n",
       "      <td>12/1/2010 9:01</td>\n",
       "      <td>1.85</td>\n",
       "      <td>17850.0</td>\n",
       "      <td>United Kingdom</td>\n",
       "    </tr>\n",
       "    <tr>\n",
       "      <th>48</th>\n",
       "      <td>536372</td>\n",
       "      <td>22633</td>\n",
       "      <td>HAND WARMER UNION JACK</td>\n",
       "      <td>6.000000</td>\n",
       "      <td>12/1/2010 9:01</td>\n",
       "      <td>1.85</td>\n",
       "      <td>17850.0</td>\n",
       "      <td>United Kingdom</td>\n",
       "    </tr>\n",
       "    <tr>\n",
       "      <th>49</th>\n",
       "      <td>536373</td>\n",
       "      <td>85123A</td>\n",
       "      <td>WHITE HANGING HEART T-LIGHT HOLDER</td>\n",
       "      <td>6.000000</td>\n",
       "      <td>12/1/2010 9:02</td>\n",
       "      <td>2.55</td>\n",
       "      <td>17850.0</td>\n",
       "      <td>United Kingdom</td>\n",
       "    </tr>\n",
       "    <tr>\n",
       "      <th>...</th>\n",
       "      <td>...</td>\n",
       "      <td>...</td>\n",
       "      <td>...</td>\n",
       "      <td>...</td>\n",
       "      <td>...</td>\n",
       "      <td>...</td>\n",
       "      <td>...</td>\n",
       "      <td>...</td>\n",
       "    </tr>\n",
       "    <tr>\n",
       "      <th>235974</th>\n",
       "      <td>557669</td>\n",
       "      <td>22629</td>\n",
       "      <td>SPACEBOY LUNCH BOX</td>\n",
       "      <td>12.000000</td>\n",
       "      <td>6/22/2011 9:43</td>\n",
       "      <td>1.95</td>\n",
       "      <td>12674.0</td>\n",
       "      <td>France</td>\n",
       "    </tr>\n",
       "    <tr>\n",
       "      <th>235975</th>\n",
       "      <td>557669</td>\n",
       "      <td>22631</td>\n",
       "      <td>CIRCUS PARADE LUNCH BOX</td>\n",
       "      <td>12.000000</td>\n",
       "      <td>6/22/2011 9:43</td>\n",
       "      <td>1.95</td>\n",
       "      <td>12674.0</td>\n",
       "      <td>France</td>\n",
       "    </tr>\n",
       "    <tr>\n",
       "      <th>235976</th>\n",
       "      <td>557669</td>\n",
       "      <td>22319</td>\n",
       "      <td>HAIRCLIPS FORTIES FABRIC ASSORTED</td>\n",
       "      <td>12.000000</td>\n",
       "      <td>6/22/2011 9:43</td>\n",
       "      <td>0.65</td>\n",
       "      <td>12674.0</td>\n",
       "      <td>France</td>\n",
       "    </tr>\n",
       "    <tr>\n",
       "      <th>235977</th>\n",
       "      <td>557669</td>\n",
       "      <td>23076</td>\n",
       "      <td>ICE CREAM SUNDAE LIP GLOSS</td>\n",
       "      <td>24.000000</td>\n",
       "      <td>6/22/2011 9:43</td>\n",
       "      <td>1.25</td>\n",
       "      <td>12674.0</td>\n",
       "      <td>France</td>\n",
       "    </tr>\n",
       "    <tr>\n",
       "      <th>235978</th>\n",
       "      <td>557669</td>\n",
       "      <td>22328</td>\n",
       "      <td>ROUND SNACK BOXES SET OF 4 FRUITS</td>\n",
       "      <td>6.000000</td>\n",
       "      <td>6/22/2011 9:43</td>\n",
       "      <td>2.95</td>\n",
       "      <td>12674.0</td>\n",
       "      <td>France</td>\n",
       "    </tr>\n",
       "    <tr>\n",
       "      <th>235979</th>\n",
       "      <td>557669</td>\n",
       "      <td>22326</td>\n",
       "      <td>ROUND SNACK BOXES SET OF4 WOODLAND</td>\n",
       "      <td>6.000000</td>\n",
       "      <td>6/22/2011 9:43</td>\n",
       "      <td>2.95</td>\n",
       "      <td>12674.0</td>\n",
       "      <td>France</td>\n",
       "    </tr>\n",
       "    <tr>\n",
       "      <th>235980</th>\n",
       "      <td>557669</td>\n",
       "      <td>21881</td>\n",
       "      <td>CUTE CATS TAPE</td>\n",
       "      <td>12.000000</td>\n",
       "      <td>6/22/2011 9:43</td>\n",
       "      <td>0.65</td>\n",
       "      <td>12674.0</td>\n",
       "      <td>France</td>\n",
       "    </tr>\n",
       "    <tr>\n",
       "      <th>235981</th>\n",
       "      <td>557669</td>\n",
       "      <td>21883</td>\n",
       "      <td>STARS GIFT TAPE</td>\n",
       "      <td>12.000000</td>\n",
       "      <td>6/22/2011 9:43</td>\n",
       "      <td>0.65</td>\n",
       "      <td>12674.0</td>\n",
       "      <td>France</td>\n",
       "    </tr>\n",
       "    <tr>\n",
       "      <th>235982</th>\n",
       "      <td>557669</td>\n",
       "      <td>16237</td>\n",
       "      <td>SLEEPING CAT ERASERS</td>\n",
       "      <td>30.000000</td>\n",
       "      <td>6/22/2011 9:43</td>\n",
       "      <td>0.21</td>\n",
       "      <td>12674.0</td>\n",
       "      <td>France</td>\n",
       "    </tr>\n",
       "    <tr>\n",
       "      <th>235983</th>\n",
       "      <td>557669</td>\n",
       "      <td>22492</td>\n",
       "      <td>MINI PAINT SET VINTAGE</td>\n",
       "      <td>36.000000</td>\n",
       "      <td>6/22/2011 9:43</td>\n",
       "      <td>0.65</td>\n",
       "      <td>12674.0</td>\n",
       "      <td>France</td>\n",
       "    </tr>\n",
       "    <tr>\n",
       "      <th>235984</th>\n",
       "      <td>557669</td>\n",
       "      <td>22727</td>\n",
       "      <td>ALARM CLOCK BAKELIKE RED</td>\n",
       "      <td>4.000000</td>\n",
       "      <td>6/22/2011 9:43</td>\n",
       "      <td>3.75</td>\n",
       "      <td>12674.0</td>\n",
       "      <td>France</td>\n",
       "    </tr>\n",
       "    <tr>\n",
       "      <th>235985</th>\n",
       "      <td>557669</td>\n",
       "      <td>22726</td>\n",
       "      <td>ALARM CLOCK BAKELIKE GREEN</td>\n",
       "      <td>4.000000</td>\n",
       "      <td>6/22/2011 9:43</td>\n",
       "      <td>3.75</td>\n",
       "      <td>12674.0</td>\n",
       "      <td>France</td>\n",
       "    </tr>\n",
       "    <tr>\n",
       "      <th>235986</th>\n",
       "      <td>557669</td>\n",
       "      <td>22728</td>\n",
       "      <td>ALARM CLOCK BAKELIKE PINK</td>\n",
       "      <td>4.000000</td>\n",
       "      <td>6/22/2011 9:43</td>\n",
       "      <td>3.75</td>\n",
       "      <td>12674.0</td>\n",
       "      <td>France</td>\n",
       "    </tr>\n",
       "    <tr>\n",
       "      <th>235987</th>\n",
       "      <td>557669</td>\n",
       "      <td>22398</td>\n",
       "      <td>MAGNETS PACK OF 4 SWALLOWS</td>\n",
       "      <td>12.000000</td>\n",
       "      <td>6/22/2011 9:43</td>\n",
       "      <td>1.25</td>\n",
       "      <td>12674.0</td>\n",
       "      <td>France</td>\n",
       "    </tr>\n",
       "    <tr>\n",
       "      <th>235988</th>\n",
       "      <td>557669</td>\n",
       "      <td>23158</td>\n",
       "      <td>SET OF 5 LUCKY CAT MAGNETS</td>\n",
       "      <td>12.000000</td>\n",
       "      <td>6/22/2011 9:43</td>\n",
       "      <td>2.08</td>\n",
       "      <td>12674.0</td>\n",
       "      <td>France</td>\n",
       "    </tr>\n",
       "    <tr>\n",
       "      <th>235989</th>\n",
       "      <td>557669</td>\n",
       "      <td>POST</td>\n",
       "      <td>POSTAGE</td>\n",
       "      <td>2.000000</td>\n",
       "      <td>6/22/2011 9:43</td>\n",
       "      <td>18.00</td>\n",
       "      <td>12674.0</td>\n",
       "      <td>France</td>\n",
       "    </tr>\n",
       "    <tr>\n",
       "      <th>236116</th>\n",
       "      <td>557734</td>\n",
       "      <td>20974</td>\n",
       "      <td>12 PENCILS SMALL TUBE SKULL</td>\n",
       "      <td>48.000000</td>\n",
       "      <td>6/22/2011 11:20</td>\n",
       "      <td>0.65</td>\n",
       "      <td>12684.0</td>\n",
       "      <td>France</td>\n",
       "    </tr>\n",
       "    <tr>\n",
       "      <th>236117</th>\n",
       "      <td>557734</td>\n",
       "      <td>23190</td>\n",
       "      <td>BUNDLE OF 3 SCHOOL EXERCISE BOOKS</td>\n",
       "      <td>12.000000</td>\n",
       "      <td>6/22/2011 11:20</td>\n",
       "      <td>1.65</td>\n",
       "      <td>12684.0</td>\n",
       "      <td>France</td>\n",
       "    </tr>\n",
       "    <tr>\n",
       "      <th>236118</th>\n",
       "      <td>557734</td>\n",
       "      <td>22149</td>\n",
       "      <td>FELTCRAFT 6 FLOWER FRIENDS</td>\n",
       "      <td>6.000000</td>\n",
       "      <td>6/22/2011 11:20</td>\n",
       "      <td>2.10</td>\n",
       "      <td>12684.0</td>\n",
       "      <td>France</td>\n",
       "    </tr>\n",
       "    <tr>\n",
       "      <th>236119</th>\n",
       "      <td>557734</td>\n",
       "      <td>23126</td>\n",
       "      <td>FELTCRAFT GIRL AMELIE KIT</td>\n",
       "      <td>4.000000</td>\n",
       "      <td>6/22/2011 11:20</td>\n",
       "      <td>4.95</td>\n",
       "      <td>12684.0</td>\n",
       "      <td>France</td>\n",
       "    </tr>\n",
       "    <tr>\n",
       "      <th>236120</th>\n",
       "      <td>557734</td>\n",
       "      <td>22437</td>\n",
       "      <td>SET OF 9 BLACK SKULL BALLOONS</td>\n",
       "      <td>40.000000</td>\n",
       "      <td>6/22/2011 11:20</td>\n",
       "      <td>0.85</td>\n",
       "      <td>12684.0</td>\n",
       "      <td>France</td>\n",
       "    </tr>\n",
       "    <tr>\n",
       "      <th>236121</th>\n",
       "      <td>557734</td>\n",
       "      <td>22492</td>\n",
       "      <td>MINI PAINT SET VINTAGE</td>\n",
       "      <td>108.000000</td>\n",
       "      <td>6/22/2011 11:20</td>\n",
       "      <td>0.65</td>\n",
       "      <td>12684.0</td>\n",
       "      <td>France</td>\n",
       "    </tr>\n",
       "    <tr>\n",
       "      <th>236122</th>\n",
       "      <td>557734</td>\n",
       "      <td>22992</td>\n",
       "      <td>REVOLVER WOODEN RULER</td>\n",
       "      <td>48.000000</td>\n",
       "      <td>6/22/2011 11:20</td>\n",
       "      <td>1.95</td>\n",
       "      <td>12684.0</td>\n",
       "      <td>France</td>\n",
       "    </tr>\n",
       "    <tr>\n",
       "      <th>236123</th>\n",
       "      <td>557734</td>\n",
       "      <td>22493</td>\n",
       "      <td>PAINT YOUR OWN CANVAS SET</td>\n",
       "      <td>36.000000</td>\n",
       "      <td>6/22/2011 11:20</td>\n",
       "      <td>1.65</td>\n",
       "      <td>12684.0</td>\n",
       "      <td>France</td>\n",
       "    </tr>\n",
       "    <tr>\n",
       "      <th>236124</th>\n",
       "      <td>557734</td>\n",
       "      <td>22620</td>\n",
       "      <td>4 TRADITIONAL SPINNING TOPS</td>\n",
       "      <td>12.000000</td>\n",
       "      <td>6/22/2011 11:20</td>\n",
       "      <td>1.45</td>\n",
       "      <td>12684.0</td>\n",
       "      <td>France</td>\n",
       "    </tr>\n",
       "    <tr>\n",
       "      <th>236125</th>\n",
       "      <td>557734</td>\n",
       "      <td>21915</td>\n",
       "      <td>RED  HARMONICA IN BOX</td>\n",
       "      <td>24.000000</td>\n",
       "      <td>6/22/2011 11:20</td>\n",
       "      <td>1.25</td>\n",
       "      <td>12684.0</td>\n",
       "      <td>France</td>\n",
       "    </tr>\n",
       "    <tr>\n",
       "      <th>236126</th>\n",
       "      <td>557734</td>\n",
       "      <td>22553</td>\n",
       "      <td>PLASTERS IN TIN SKULLS</td>\n",
       "      <td>12.000000</td>\n",
       "      <td>6/22/2011 11:20</td>\n",
       "      <td>1.65</td>\n",
       "      <td>12684.0</td>\n",
       "      <td>France</td>\n",
       "    </tr>\n",
       "    <tr>\n",
       "      <th>236127</th>\n",
       "      <td>557734</td>\n",
       "      <td>15039</td>\n",
       "      <td>SANDALWOOD FAN</td>\n",
       "      <td>10.000000</td>\n",
       "      <td>6/22/2011 11:20</td>\n",
       "      <td>0.85</td>\n",
       "      <td>12684.0</td>\n",
       "      <td>France</td>\n",
       "    </tr>\n",
       "    <tr>\n",
       "      <th>236128</th>\n",
       "      <td>557734</td>\n",
       "      <td>22489</td>\n",
       "      <td>PACK OF 12 TRADITIONAL CRAYONS</td>\n",
       "      <td>24.000000</td>\n",
       "      <td>6/22/2011 11:20</td>\n",
       "      <td>0.42</td>\n",
       "      <td>12684.0</td>\n",
       "      <td>France</td>\n",
       "    </tr>\n",
       "    <tr>\n",
       "      <th>236129</th>\n",
       "      <td>557734</td>\n",
       "      <td>POST</td>\n",
       "      <td>POSTAGE</td>\n",
       "      <td>2.000000</td>\n",
       "      <td>6/22/2011 11:20</td>\n",
       "      <td>18.00</td>\n",
       "      <td>12684.0</td>\n",
       "      <td>France</td>\n",
       "    </tr>\n",
       "  </tbody>\n",
       "</table>\n",
       "<p>152714 rows × 8 columns</p>\n",
       "</div>"
      ],
      "text/plain": [
       "       InvoiceNo StockCode                          Description    Quantity  \\\n",
       "0         536365    85123A   WHITE HANGING HEART T-LIGHT HOLDER    6.000000   \n",
       "1         536365     71053                  WHITE METAL LANTERN   12.254579   \n",
       "2         536365    84406B       CREAM CUPID HEARTS COAT HANGER    8.000000   \n",
       "3         536365    84029G  KNITTED UNION FLAG HOT WATER BOTTLE    6.000000   \n",
       "4         536365    84029E       RED WOOLLY HOTTIE WHITE HEART.    6.000000   \n",
       "5         536365     22752         SET 7 BABUSHKA NESTING BOXES    2.000000   \n",
       "6         536365     21730    GLASS STAR FROSTED T-LIGHT HOLDER    6.000000   \n",
       "7         536366     22632               HAND WARMER UNION JACK    6.000000   \n",
       "8         536366     22632            HAND WARMER RED POLKA DOT    6.000000   \n",
       "9         536367     84879        ASSORTED COLOUR BIRD ORNAMENT   32.000000   \n",
       "10        536367     22745           POPPY'S PLAYHOUSE BEDROOM     6.000000   \n",
       "11        536367     22748            POPPY'S PLAYHOUSE KITCHEN    6.000000   \n",
       "12        536367     22749    FELTCRAFT PRINCESS CHARLOTTE DOLL    8.000000   \n",
       "13        536367     22310              IVORY KNITTED MUG COSY     6.000000   \n",
       "14        536367     84969   BOX OF 6 ASSORTED COLOUR TEASPOONS    6.000000   \n",
       "15        536367     22623        BOX OF VINTAGE JIGSAW BLOCKS     3.000000   \n",
       "16        536367     22622       BOX OF VINTAGE ALPHABET BLOCKS    2.000000   \n",
       "17        536367     21754             HOME BUILDING BLOCK WORD    3.000000   \n",
       "18        536367     21755             LOVE BUILDING BLOCK WORD    3.000000   \n",
       "19        536367     21777          RECIPE BOX WITH METAL HEART    4.000000   \n",
       "20        536367     48187                  DOORMAT NEW ENGLAND    4.000000   \n",
       "21        536368     22960             JAM MAKING SET WITH JARS    6.000000   \n",
       "22        536368     22913          RED COAT RACK PARIS FASHION    3.000000   \n",
       "23        536368     22912       YELLOW COAT RACK PARIS FASHION    3.000000   \n",
       "24        536368     22914         BLUE COAT RACK PARIS FASHION    3.000000   \n",
       "25        536369     21756             BATH BUILDING BLOCK WORD    3.000000   \n",
       "46        536371     22086      PAPER CHAIN KIT 50'S CHRISTMAS    80.000000   \n",
       "47        536372     22632            HAND WARMER RED POLKA DOT    6.000000   \n",
       "48        536372     22633               HAND WARMER UNION JACK    6.000000   \n",
       "49        536373    85123A   WHITE HANGING HEART T-LIGHT HOLDER    6.000000   \n",
       "...          ...       ...                                  ...         ...   \n",
       "235974    557669     22629                  SPACEBOY LUNCH BOX    12.000000   \n",
       "235975    557669     22631             CIRCUS PARADE LUNCH BOX    12.000000   \n",
       "235976    557669     22319    HAIRCLIPS FORTIES FABRIC ASSORTED   12.000000   \n",
       "235977    557669     23076           ICE CREAM SUNDAE LIP GLOSS   24.000000   \n",
       "235978    557669     22328   ROUND SNACK BOXES SET OF 4 FRUITS     6.000000   \n",
       "235979    557669     22326  ROUND SNACK BOXES SET OF4 WOODLAND     6.000000   \n",
       "235980    557669     21881                       CUTE CATS TAPE   12.000000   \n",
       "235981    557669     21883                     STARS GIFT TAPE    12.000000   \n",
       "235982    557669     16237                 SLEEPING CAT ERASERS   30.000000   \n",
       "235983    557669     22492              MINI PAINT SET VINTAGE    36.000000   \n",
       "235984    557669     22727            ALARM CLOCK BAKELIKE RED     4.000000   \n",
       "235985    557669     22726           ALARM CLOCK BAKELIKE GREEN    4.000000   \n",
       "235986    557669     22728            ALARM CLOCK BAKELIKE PINK    4.000000   \n",
       "235987    557669     22398           MAGNETS PACK OF 4 SWALLOWS   12.000000   \n",
       "235988    557669     23158          SET OF 5 LUCKY CAT MAGNETS    12.000000   \n",
       "235989    557669      POST                              POSTAGE    2.000000   \n",
       "236116    557734     20974          12 PENCILS SMALL TUBE SKULL   48.000000   \n",
       "236117    557734     23190  BUNDLE OF 3 SCHOOL EXERCISE BOOKS     12.000000   \n",
       "236118    557734     22149           FELTCRAFT 6 FLOWER FRIENDS    6.000000   \n",
       "236119    557734     23126            FELTCRAFT GIRL AMELIE KIT    4.000000   \n",
       "236120    557734     22437        SET OF 9 BLACK SKULL BALLOONS   40.000000   \n",
       "236121    557734     22492              MINI PAINT SET VINTAGE   108.000000   \n",
       "236122    557734     22992               REVOLVER WOODEN RULER    48.000000   \n",
       "236123    557734     22493            PAINT YOUR OWN CANVAS SET   36.000000   \n",
       "236124    557734     22620          4 TRADITIONAL SPINNING TOPS   12.000000   \n",
       "236125    557734     21915               RED  HARMONICA IN BOX    24.000000   \n",
       "236126    557734     22553               PLASTERS IN TIN SKULLS   12.000000   \n",
       "236127    557734     15039                       SANDALWOOD FAN   10.000000   \n",
       "236128    557734     22489       PACK OF 12 TRADITIONAL CRAYONS   24.000000   \n",
       "236129    557734      POST                              POSTAGE    2.000000   \n",
       "\n",
       "            InvoiceDate  UnitPrice  CustomerID         Country  \n",
       "0        12/1/2010 8:26       2.55     17850.0  United Kingdom  \n",
       "1        12/1/2010 8:26       3.39     17850.0  United Kingdom  \n",
       "2        12/1/2010 8:26       2.75     17850.0  United Kingdom  \n",
       "3        12/1/2010 8:26       3.39     17850.0  United Kingdom  \n",
       "4        12/1/2010 8:26       3.39     17850.0  United Kingdom  \n",
       "5        12/1/2010 8:26       7.65     17850.0  United Kingdom  \n",
       "6        12/1/2010 8:26       4.25     17850.0  United Kingdom  \n",
       "7        12/1/2010 8:28       1.85     17850.0  United Kingdom  \n",
       "8        12/1/2010 8:28       1.85     17850.0  United Kingdom  \n",
       "9        12/1/2010 8:34       1.69     13047.0  United Kingdom  \n",
       "10       12/1/2010 8:34       2.10     13047.0  United Kingdom  \n",
       "11       12/1/2010 8:34       2.10     13047.0  United Kingdom  \n",
       "12       12/1/2010 8:34       3.75     13047.0  United Kingdom  \n",
       "13       12/1/2010 8:34       1.65     13047.0  United Kingdom  \n",
       "14       12/1/2010 8:34       4.25     13047.0  United Kingdom  \n",
       "15       12/1/2010 8:34       4.95     13047.0  United Kingdom  \n",
       "16       12/1/2010 8:34       9.95     13047.0  United Kingdom  \n",
       "17       12/1/2010 8:34       5.95     13047.0  United Kingdom  \n",
       "18       12/1/2010 8:34       5.95     13047.0  United Kingdom  \n",
       "19       12/1/2010 8:34       7.95     13047.0  United Kingdom  \n",
       "20       12/1/2010 8:34       7.95     13047.0  United Kingdom  \n",
       "21       12/1/2010 8:34       4.25     13047.0  United Kingdom  \n",
       "22       12/1/2010 8:34       4.95     13047.0  United Kingdom  \n",
       "23       12/1/2010 8:34       4.95     13047.0  United Kingdom  \n",
       "24       12/1/2010 8:34       4.95     13047.0  United Kingdom  \n",
       "25       12/1/2010 8:35       5.95     13047.0  United Kingdom  \n",
       "46       12/1/2010 9:00       2.55     13748.0  United Kingdom  \n",
       "47       12/1/2010 9:01       1.85     17850.0  United Kingdom  \n",
       "48       12/1/2010 9:01       1.85     17850.0  United Kingdom  \n",
       "49       12/1/2010 9:02       2.55     17850.0  United Kingdom  \n",
       "...                 ...        ...         ...             ...  \n",
       "235974   6/22/2011 9:43       1.95     12674.0          France  \n",
       "235975   6/22/2011 9:43       1.95     12674.0          France  \n",
       "235976   6/22/2011 9:43       0.65     12674.0          France  \n",
       "235977   6/22/2011 9:43       1.25     12674.0          France  \n",
       "235978   6/22/2011 9:43       2.95     12674.0          France  \n",
       "235979   6/22/2011 9:43       2.95     12674.0          France  \n",
       "235980   6/22/2011 9:43       0.65     12674.0          France  \n",
       "235981   6/22/2011 9:43       0.65     12674.0          France  \n",
       "235982   6/22/2011 9:43       0.21     12674.0          France  \n",
       "235983   6/22/2011 9:43       0.65     12674.0          France  \n",
       "235984   6/22/2011 9:43       3.75     12674.0          France  \n",
       "235985   6/22/2011 9:43       3.75     12674.0          France  \n",
       "235986   6/22/2011 9:43       3.75     12674.0          France  \n",
       "235987   6/22/2011 9:43       1.25     12674.0          France  \n",
       "235988   6/22/2011 9:43       2.08     12674.0          France  \n",
       "235989   6/22/2011 9:43      18.00     12674.0          France  \n",
       "236116  6/22/2011 11:20       0.65     12684.0          France  \n",
       "236117  6/22/2011 11:20       1.65     12684.0          France  \n",
       "236118  6/22/2011 11:20       2.10     12684.0          France  \n",
       "236119  6/22/2011 11:20       4.95     12684.0          France  \n",
       "236120  6/22/2011 11:20       0.85     12684.0          France  \n",
       "236121  6/22/2011 11:20       0.65     12684.0          France  \n",
       "236122  6/22/2011 11:20       1.95     12684.0          France  \n",
       "236123  6/22/2011 11:20       1.65     12684.0          France  \n",
       "236124  6/22/2011 11:20       1.45     12684.0          France  \n",
       "236125  6/22/2011 11:20       1.25     12684.0          France  \n",
       "236126  6/22/2011 11:20       1.65     12684.0          France  \n",
       "236127  6/22/2011 11:20       0.85     12684.0          France  \n",
       "236128  6/22/2011 11:20       0.42     12684.0          France  \n",
       "236129  6/22/2011 11:20      18.00     12684.0          France  \n",
       "\n",
       "[152714 rows x 8 columns]"
      ]
     },
     "execution_count": 70,
     "metadata": {},
     "output_type": "execute_result"
    }
   ],
   "source": [
    "UKData = dataFrame.loc[dataFrame['Country'] == 'United Kingdom']\n",
    "FranceData = dataFrame.loc[dataFrame['Country'] == 'France']\n",
    "\n",
    "dataFrame = pd.concat([UKData, FranceData])\n",
    "dataFrame"
   ]
  },
  {
   "cell_type": "markdown",
   "metadata": {},
   "source": [
    "Now we can confirm that our dataset contain only entries related to United Kingdom and France. Moreover, we can observe that there are many more entries related to UK than to France. This means that this dataset is *unbalanced*, therefore we will be applying under-sampling and over-sampling."
   ]
  },
  {
   "cell_type": "code",
   "execution_count": 71,
   "metadata": {},
   "outputs": [
    {
     "data": {
      "text/plain": [
       "United Kingdom    149183\n",
       "France              3531\n",
       "Name: Country, dtype: int64"
      ]
     },
     "execution_count": 71,
     "metadata": {},
     "output_type": "execute_result"
    }
   ],
   "source": [
    "dataFrame['Country'].value_counts()"
   ]
  },
  {
   "cell_type": "markdown",
   "metadata": {},
   "source": [
    "### 3.3.1 Under-sampling\n",
    "\n",
    "Under-sampling is removing the instances of the majority class so that it matches the number of minority class instances. We will do it using sklearn library ** *resample* **. First, we will create slices of the original dataset, where the first slice contains the majority class (\"United Kingdom\"), and the second slice contains the minorty class (\"France\")."
   ]
  },
  {
   "cell_type": "code",
   "execution_count": 72,
   "metadata": {
    "collapsed": true
   },
   "outputs": [],
   "source": [
    "df_majority = dataFrame[dataFrame['Country']=='United Kingdom']\n",
    "df_minority = dataFrame[dataFrame['Country']=='France']\n",
    "minority_len = (len(df_minority))"
   ]
  },
  {
   "cell_type": "markdown",
   "metadata": {},
   "source": [
    "Now, we will run the resample method with parameter *replace* equal to False, and n_samples equal to the number of instances in the minority class. The reduced majority class will be concatenated with the minority class, and we can observe that there is now exactly the same number of instances for majority and minority classes."
   ]
  },
  {
   "cell_type": "code",
   "execution_count": 73,
   "metadata": {},
   "outputs": [
    {
     "data": {
      "text/plain": [
       "France            3531\n",
       "United Kingdom    3531\n",
       "Name: Country, dtype: int64"
      ]
     },
     "execution_count": 73,
     "metadata": {},
     "output_type": "execute_result"
    }
   ],
   "source": [
    "df_majority_downsampled = resample(df_majority,replace=False,n_samples=minority_len,random_state=123)\n",
    "ddown = pd.concat([df_minority, df_majority_downsampled])\n",
    "ddown['Country'].value_counts()"
   ]
  },
  {
   "cell_type": "markdown",
   "metadata": {},
   "source": [
    "### 3.3.2 Over-sampling\n",
    "\n",
    "Over-sampling will create copies of dataset instances to match required number of samples. Below, we count number of instances in the majority class, and create additional instances in the minority class to match the majority class.\n",
    "\n",
    "We can now see that there is the same number of instances for both classes, and it is equal to the initial size of the majority class."
   ]
  },
  {
   "cell_type": "code",
   "execution_count": 74,
   "metadata": {},
   "outputs": [
    {
     "data": {
      "text/plain": [
       "France            149183\n",
       "United Kingdom    149183\n",
       "Name: Country, dtype: int64"
      ]
     },
     "execution_count": 74,
     "metadata": {},
     "output_type": "execute_result"
    }
   ],
   "source": [
    "majority_len = (len(df_majority))\n",
    "\n",
    "df_minority_upsampled = resample(df_minority,replace=True,n_samples=majority_len,random_state=123)\n",
    "dup = pd.concat([df_majority, df_minority_upsampled])\n",
    "dup['Country'].value_counts()"
   ]
  },
  {
   "cell_type": "markdown",
   "metadata": {},
   "source": [
    "## 3.4 Normalization\n",
    "\n",
    "Most of the machine learning algorithms require the dataset they are trained on to be normalized. Below is the example of normalization of the e-commerce dataset.\n",
    "\n",
    "First, we will be encoding categorical variables. We will use category codes for *InvoiceNo*, *StockCode* and *Description*, and One Hot Encoding for *Contry*."
   ]
  },
  {
   "cell_type": "code",
   "execution_count": 75,
   "metadata": {},
   "outputs": [
    {
     "data": {
      "text/plain": [
       "Index(['InvoiceNo', 'StockCode', 'Description', 'Quantity', 'InvoiceDate',\n",
       "       'UnitPrice', 'CustomerID', 'Country'],\n",
       "      dtype='object')"
      ]
     },
     "execution_count": 75,
     "metadata": {},
     "output_type": "execute_result"
    }
   ],
   "source": [
    "dataFrame.columns"
   ]
  },
  {
   "cell_type": "code",
   "execution_count": 76,
   "metadata": {},
   "outputs": [
    {
     "data": {
      "text/html": [
       "<div>\n",
       "<style>\n",
       "    .dataframe thead tr:only-child th {\n",
       "        text-align: right;\n",
       "    }\n",
       "\n",
       "    .dataframe thead th {\n",
       "        text-align: left;\n",
       "    }\n",
       "\n",
       "    .dataframe tbody tr th {\n",
       "        vertical-align: top;\n",
       "    }\n",
       "</style>\n",
       "<table border=\"1\" class=\"dataframe\">\n",
       "  <thead>\n",
       "    <tr style=\"text-align: right;\">\n",
       "      <th></th>\n",
       "      <th>InvoiceNo</th>\n",
       "      <th>StockCode</th>\n",
       "      <th>Description</th>\n",
       "      <th>Quantity</th>\n",
       "      <th>InvoiceDate</th>\n",
       "      <th>UnitPrice</th>\n",
       "      <th>CustomerID</th>\n",
       "      <th>Country_France</th>\n",
       "      <th>Country_United Kingdom</th>\n",
       "    </tr>\n",
       "  </thead>\n",
       "  <tbody>\n",
       "    <tr>\n",
       "      <th>0</th>\n",
       "      <td>0</td>\n",
       "      <td>2886</td>\n",
       "      <td>3173</td>\n",
       "      <td>6.000000</td>\n",
       "      <td>12/1/2010 8:26</td>\n",
       "      <td>2.55</td>\n",
       "      <td>17850.0</td>\n",
       "      <td>0</td>\n",
       "      <td>1</td>\n",
       "    </tr>\n",
       "    <tr>\n",
       "      <th>1</th>\n",
       "      <td>0</td>\n",
       "      <td>2329</td>\n",
       "      <td>3181</td>\n",
       "      <td>12.254579</td>\n",
       "      <td>12/1/2010 8:26</td>\n",
       "      <td>3.39</td>\n",
       "      <td>17850.0</td>\n",
       "      <td>0</td>\n",
       "      <td>1</td>\n",
       "    </tr>\n",
       "    <tr>\n",
       "      <th>2</th>\n",
       "      <td>0</td>\n",
       "      <td>2514</td>\n",
       "      <td>774</td>\n",
       "      <td>8.000000</td>\n",
       "      <td>12/1/2010 8:26</td>\n",
       "      <td>2.75</td>\n",
       "      <td>17850.0</td>\n",
       "      <td>0</td>\n",
       "      <td>1</td>\n",
       "    </tr>\n",
       "    <tr>\n",
       "      <th>3</th>\n",
       "      <td>0</td>\n",
       "      <td>2468</td>\n",
       "      <td>1588</td>\n",
       "      <td>6.000000</td>\n",
       "      <td>12/1/2010 8:26</td>\n",
       "      <td>3.39</td>\n",
       "      <td>17850.0</td>\n",
       "      <td>0</td>\n",
       "      <td>1</td>\n",
       "    </tr>\n",
       "    <tr>\n",
       "      <th>4</th>\n",
       "      <td>0</td>\n",
       "      <td>2467</td>\n",
       "      <td>2416</td>\n",
       "      <td>6.000000</td>\n",
       "      <td>12/1/2010 8:26</td>\n",
       "      <td>3.39</td>\n",
       "      <td>17850.0</td>\n",
       "      <td>0</td>\n",
       "      <td>1</td>\n",
       "    </tr>\n",
       "  </tbody>\n",
       "</table>\n",
       "</div>"
      ],
      "text/plain": [
       "   InvoiceNo  StockCode  Description   Quantity     InvoiceDate  UnitPrice  \\\n",
       "0          0       2886         3173   6.000000  12/1/2010 8:26       2.55   \n",
       "1          0       2329         3181  12.254579  12/1/2010 8:26       3.39   \n",
       "2          0       2514          774   8.000000  12/1/2010 8:26       2.75   \n",
       "3          0       2468         1588   6.000000  12/1/2010 8:26       3.39   \n",
       "4          0       2467         2416   6.000000  12/1/2010 8:26       3.39   \n",
       "\n",
       "   CustomerID  Country_France  Country_United Kingdom  \n",
       "0     17850.0               0                       1  \n",
       "1     17850.0               0                       1  \n",
       "2     17850.0               0                       1  \n",
       "3     17850.0               0                       1  \n",
       "4     17850.0               0                       1  "
      ]
     },
     "execution_count": 76,
     "metadata": {},
     "output_type": "execute_result"
    }
   ],
   "source": [
    "dataFrame['StockCode'] = dataFrame['StockCode'].astype('category')\n",
    "dataFrame['StockCode'] = dataFrame['StockCode'].cat.codes\n",
    "\n",
    "dataFrame['Description'] = dataFrame['Description'].astype('category')\n",
    "dataFrame['Description'] = dataFrame['Description'].cat.codes\n",
    "\n",
    "dataFrame['InvoiceNo'] = dataFrame['InvoiceNo'].astype('category')\n",
    "dataFrame['InvoiceNo'] = dataFrame['InvoiceNo'].cat.codes\n",
    "\n",
    "dataFrame = pd.get_dummies(dataFrame, columns=['Country'])\n",
    "dataFrame.head()"
   ]
  },
  {
   "cell_type": "markdown",
   "metadata": {},
   "source": [
    "The *InvoiceDate* field would need to be translated into the timestamp in order to be correcrtly normalized, however as it is not the scope of this notebook we will remove it from our data frame. If you are interested, you can read more about timestamps here: https://pandas.pydata.org/pandas-docs/stable/timeseries.html"
   ]
  },
  {
   "cell_type": "code",
   "execution_count": 77,
   "metadata": {
    "collapsed": true
   },
   "outputs": [],
   "source": [
    "del dataFrame['InvoiceDate']"
   ]
  },
  {
   "cell_type": "markdown",
   "metadata": {},
   "source": [
    "We will use ** *preprocessing* ** package from sklearn to normalize our dataset. We have to normalize column by column. Otherwise the normalization will take place across different column.\n",
    "\n",
    "The preprocessing package requires to pass the data in a form of a vector, therefore we will be first reshaping pandas data frame to a vector, and then reshaping it again as a column and updating the data frame."
   ]
  },
  {
   "cell_type": "code",
   "execution_count": 78,
   "metadata": {},
   "outputs": [
    {
     "name": "stderr",
     "output_type": "stream",
     "text": [
      "/Users/pascalwichmann/anaconda/envs/py36ML/lib/python3.6/site-packages/sklearn/utils/validation.py:429: DataConversionWarning: Data with input dtype int16 was converted to float64 by the normalize function.\n",
      "  warnings.warn(msg, _DataConversionWarning)\n",
      "/Users/pascalwichmann/anaconda/envs/py36ML/lib/python3.6/site-packages/sklearn/utils/validation.py:429: DataConversionWarning: Data with input dtype uint8 was converted to float64 by the normalize function.\n",
      "  warnings.warn(msg, _DataConversionWarning)\n"
     ]
    },
    {
     "data": {
      "text/html": [
       "<div>\n",
       "<style>\n",
       "    .dataframe thead tr:only-child th {\n",
       "        text-align: right;\n",
       "    }\n",
       "\n",
       "    .dataframe thead th {\n",
       "        text-align: left;\n",
       "    }\n",
       "\n",
       "    .dataframe tbody tr th {\n",
       "        vertical-align: top;\n",
       "    }\n",
       "</style>\n",
       "<table border=\"1\" class=\"dataframe\">\n",
       "  <thead>\n",
       "    <tr style=\"text-align: right;\">\n",
       "      <th></th>\n",
       "      <th>InvoiceNo</th>\n",
       "      <th>StockCode</th>\n",
       "      <th>Description</th>\n",
       "      <th>Quantity</th>\n",
       "      <th>UnitPrice</th>\n",
       "      <th>CustomerID</th>\n",
       "      <th>Country_France</th>\n",
       "      <th>Country_United Kingdom</th>\n",
       "    </tr>\n",
       "  </thead>\n",
       "  <tbody>\n",
       "    <tr>\n",
       "      <th>0</th>\n",
       "      <td>0.0</td>\n",
       "      <td>0.004574</td>\n",
       "      <td>0.004132</td>\n",
       "      <td>0.000078</td>\n",
       "      <td>0.000290</td>\n",
       "      <td>0.002934</td>\n",
       "      <td>0.0</td>\n",
       "      <td>0.002589</td>\n",
       "    </tr>\n",
       "    <tr>\n",
       "      <th>1</th>\n",
       "      <td>0.0</td>\n",
       "      <td>0.003691</td>\n",
       "      <td>0.004142</td>\n",
       "      <td>0.000160</td>\n",
       "      <td>0.000385</td>\n",
       "      <td>0.002934</td>\n",
       "      <td>0.0</td>\n",
       "      <td>0.002589</td>\n",
       "    </tr>\n",
       "    <tr>\n",
       "      <th>2</th>\n",
       "      <td>0.0</td>\n",
       "      <td>0.003984</td>\n",
       "      <td>0.001008</td>\n",
       "      <td>0.000105</td>\n",
       "      <td>0.000312</td>\n",
       "      <td>0.002934</td>\n",
       "      <td>0.0</td>\n",
       "      <td>0.002589</td>\n",
       "    </tr>\n",
       "    <tr>\n",
       "      <th>3</th>\n",
       "      <td>0.0</td>\n",
       "      <td>0.003911</td>\n",
       "      <td>0.002068</td>\n",
       "      <td>0.000078</td>\n",
       "      <td>0.000385</td>\n",
       "      <td>0.002934</td>\n",
       "      <td>0.0</td>\n",
       "      <td>0.002589</td>\n",
       "    </tr>\n",
       "    <tr>\n",
       "      <th>4</th>\n",
       "      <td>0.0</td>\n",
       "      <td>0.003910</td>\n",
       "      <td>0.003146</td>\n",
       "      <td>0.000078</td>\n",
       "      <td>0.000385</td>\n",
       "      <td>0.002934</td>\n",
       "      <td>0.0</td>\n",
       "      <td>0.002589</td>\n",
       "    </tr>\n",
       "  </tbody>\n",
       "</table>\n",
       "</div>"
      ],
      "text/plain": [
       "   InvoiceNo  StockCode  Description  Quantity  UnitPrice  CustomerID  \\\n",
       "0        0.0   0.004574     0.004132  0.000078   0.000290    0.002934   \n",
       "1        0.0   0.003691     0.004142  0.000160   0.000385    0.002934   \n",
       "2        0.0   0.003984     0.001008  0.000105   0.000312    0.002934   \n",
       "3        0.0   0.003911     0.002068  0.000078   0.000385    0.002934   \n",
       "4        0.0   0.003910     0.003146  0.000078   0.000385    0.002934   \n",
       "\n",
       "   Country_France  Country_United Kingdom  \n",
       "0             0.0                0.002589  \n",
       "1             0.0                0.002589  \n",
       "2             0.0                0.002589  \n",
       "3             0.0                0.002589  \n",
       "4             0.0                0.002589  "
      ]
     },
     "execution_count": 78,
     "metadata": {},
     "output_type": "execute_result"
    }
   ],
   "source": [
    "for column in dataFrame.columns:\n",
    "    vector = dataFrame[column].values.reshape(1, len(dataFrame[column]))\n",
    "    normalized_vector = preprocessing.normalize(vector, norm=\"l2\")\n",
    "    dataFrame[column] = normalized_vector.reshape(len(dataFrame[column]), 1)\n",
    "dataFrame.head()"
   ]
  },
  {
   "cell_type": "markdown",
   "metadata": {},
   "source": [
    "## 3.5 Splitting the dataset\n",
    "\n",
    "In this section we will discuss two ways of splitting the datasets:\n",
    "- Splitting inot train, cross-validation and test sets\n",
    "- K-fold cross-validation\n",
    "\n",
    "We will perform the split on the e-commerce dataset, where first we will extract the variable we want to predict - let it be *UnitPrice* in this case."
   ]
  },
  {
   "cell_type": "code",
   "execution_count": 79,
   "metadata": {
    "collapsed": true
   },
   "outputs": [],
   "source": [
    "target = dataFrame.pop('UnitPrice')"
   ]
  },
  {
   "cell_type": "markdown",
   "metadata": {},
   "source": [
    "### 3.5.1 Splitting into train, cross-validation, and test sets\n",
    "\n",
    "To split the original dataset into three sets: train, cross-validation and test we can use ** *train_test_split()* ** function twice. First split will divide our dataset into (train + cross-validation) and the test set. The second split will divide the data into train and cross-validation. If we want to divide into 60% training, 20% cross-validation, and 20% test we should use at first 0.2 test size and 0.8 train size. While dividing for the second time we have to take into account that the dataset is now reduced, therefore we have to adjust the ratios to: 0.2/0.8 = 0.25 test size and 0.6/0.8 = 0.75 train size, which will give us train and cross-validation sets."
   ]
  },
  {
   "cell_type": "code",
   "execution_count": 80,
   "metadata": {},
   "outputs": [
    {
     "name": "stdout",
     "output_type": "stream",
     "text": [
      "(91628, 7) (30543, 7) (30543, 7)\n"
     ]
    }
   ],
   "source": [
    "# split into (train + cross validation) and test sets\n",
    "X_x, X_test, y_x, y_test = train_test_split(dataFrame, target, test_size=0.2, train_size=0.8, random_state=43)\n",
    "\n",
    "# split into train and cross validation\n",
    "X_train, X_cv, y_train, y_cv = train_test_split(X_x, y_x, test_size=0.25, train_size=0.75, random_state=43)\n",
    "\n",
    "print(X_train.shape, X_cv.shape, X_test.shape)"
   ]
  },
  {
   "cell_type": "markdown",
   "metadata": {},
   "source": [
    "### 3.5.2 K-fold\n",
    "\n",
    "To perform K-fold you can use the class provided by scikit-learn ** *Kfold()* **. The argument ** *n_splits* ** defines how many parts we want to divide the dataset to, ** *shuffle* ** indicates whether we want to shuffle the dataset before we split it. Kfold will then return the indexes of the chosen rows, from which we can build our train and test subsets."
   ]
  },
  {
   "cell_type": "code",
   "execution_count": 81,
   "metadata": {},
   "outputs": [
    {
     "name": "stdout",
     "output_type": "stream",
     "text": [
      "Original dataset:\n",
      "(152714, 7)\n",
      "Kfold 1-iteration:\n",
      "Train: (114535, 7) Test: (38179, 7)\n",
      "Kfold 2-iteration:\n",
      "Train: (114535, 7) Test: (38179, 7)\n",
      "Kfold 3-iteration:\n",
      "Train: (114536, 7) Test: (38178, 7)\n",
      "Kfold 4-iteration:\n",
      "Train: (114536, 7) Test: (38178, 7)\n"
     ]
    }
   ],
   "source": [
    "kf = KFold(n_splits=4, shuffle=True, random_state=43)\n",
    "\n",
    "print(\"Original dataset:\")\n",
    "print(dataFrame.shape)\n",
    "\n",
    "kfold_count = 0\n",
    "for train_indexes, test_indexes in kf.split(dataFrame):\n",
    "    train_dataset = pd.DataFrame(dataFrame.iloc[train_indexes])\n",
    "    test_dataset = pd.DataFrame(dataFrame.iloc[test_indexes])\n",
    "    train_target = pd.DataFrame(target.iloc[train_indexes])\n",
    "    test_target = pd.DataFrame(target.iloc[test_indexes])\n",
    "    \n",
    "    kfold_count += 1\n",
    "    print(\"Kfold\", str(kfold_count) + \"-iteration:\")  \n",
    "    \n",
    "    print(\"Train:\", train_dataset.shape, \"Test:\", test_dataset.shape)"
   ]
  },
  {
   "cell_type": "markdown",
   "metadata": {},
   "source": [
    "If you want to read more on splitting the dataset go to: http://scikit-learn.org/stable/modules/cross_validation.html"
   ]
  }
 ],
 "metadata": {
  "kernelspec": {
   "display_name": "Python [conda env:py36ML]",
   "language": "python",
   "name": "conda-env-py36ML-py"
  },
  "language_info": {
   "codemirror_mode": {
    "name": "ipython",
    "version": 3
   },
   "file_extension": ".py",
   "mimetype": "text/x-python",
   "name": "python",
   "nbconvert_exporter": "python",
   "pygments_lexer": "ipython3",
   "version": "3.6.1"
  }
 },
 "nbformat": 4,
 "nbformat_minor": 2
}
