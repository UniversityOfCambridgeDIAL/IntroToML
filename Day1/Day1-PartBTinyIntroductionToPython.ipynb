{
 "cells": [
  {
   "cell_type": "markdown",
   "metadata": {},
   "source": [
    "# Day 1 - Part B: Tiny Introduction to Python\n",
    "\n",
    "## Caveats and advice\n",
    "* This is not a comprehensive introduction to Python but aims at merely providing you with just enough to understand our practical coding sessions.\n",
    "* If you are as excited about Machine Learning as we are, we encourage you to find further resources and tutorials on your own. We are happy to provide pointers.\n",
    "* If you write code, you will use libraries from other people.\n",
    "  * If you use code from other people, you will have to get used to reading documentations of code.\n",
    "  * Get used to googling and reading those yourself.\n",
    "  * You can find the official Python documentation here: https://docs.python.org/3/\n",
    "* Error messages are normal. We all make typos and forget things.\n",
    "  * Do not be afraid of error messages. They are there to help you.\n",
    "  * Try to read the error message first. What could it mean for your code? Is the line indicated where the error happened?\n",
    "  * Google the main error message (without any bits that are specific to you or your code) \n",
    "  * Stackoverflow is a great resource for technical problems.\n",
    "\n",
    "## There are still two version of Python (2.x and 3.x) - we use 3.x\n",
    "* There are still two version of Python being used in parallel. \n",
    "* We recommend to use Python 3.x instead of Python 2.x. \n",
    "* The code in our practical sessions will be based on Python 3.x.\n",
    "\n",
    "## How to run Python\n",
    "\n",
    "You can run Python in various ways, e.g. from the console or in Jupyter notebooks.\n",
    "\n",
    "### Console\n",
    "* On your Mac, it comes preinstalled: Just open the console, write python and hit enter\n",
    "\n",
    "<img src=\"images/PartB/python_console.png\" alt=\"Python console on Mac\" style=\"width: 600px;\"/>\n",
    "\n",
    "### Jupyter notebooks\n",
    "* For this lecture, we will use interactive Jupyter notebooks which can run Python but also allow for text and images\n",
    "* Furthermore, we use Jupyter notebooks that are hosted online and run in the cloud"
   ]
  },
  {
   "cell_type": "markdown",
   "metadata": {},
   "source": [
    "# 1.0 Using Python\n",
    "\n",
    "## 1.1 Python as a calculator (evaluating expressions)\n",
    "\n",
    "* Similar to other programming languages, you can use Python to evaluate expressions.\n",
    "* In Python, you do _not_ end lines with a specific character. However, you need to be careful with indentations as they now carry meaning."
   ]
  },
  {
   "cell_type": "code",
   "execution_count": 2,
   "metadata": {},
   "outputs": [
    {
     "data": {
      "text/plain": [
       "2.0"
      ]
     },
     "execution_count": 2,
     "metadata": {},
     "output_type": "execute_result"
    }
   ],
   "source": [
    "1+1\n",
    "\n",
    "1.2 / 0.6"
   ]
  },
  {
   "cell_type": "markdown",
   "metadata": {},
   "source": [
    "By default, Jupyter notebooks will print out the value of the last expression. To better control what you print, use the print() method."
   ]
  },
  {
   "cell_type": "code",
   "execution_count": 3,
   "metadata": {
    "scrolled": true
   },
   "outputs": [
    {
     "name": "stdout",
     "output_type": "stream",
     "text": [
      "2\n",
      "2.0\n"
     ]
    }
   ],
   "source": [
    "print(1+1)\n",
    "print(1.2/0.6)"
   ]
  },
  {
   "cell_type": "markdown",
   "metadata": {},
   "source": [
    "## 1.2 Operator precedence\n",
    "Similar to other programming languages, there is an order in which mathematical operations are executed. Python follows the usual mathematical rules. Please use brackets if you are unsure about the order."
   ]
  },
  {
   "cell_type": "code",
   "execution_count": 7,
   "metadata": {},
   "outputs": [
    {
     "data": {
      "text/plain": [
       "1.0"
      ]
     },
     "execution_count": 7,
     "metadata": {},
     "output_type": "execute_result"
    }
   ],
   "source": [
    "# ** stands for raising a number to a power\n",
    "\n",
    "(1+1) / 2 * 1 ** 2"
   ]
  },
  {
   "cell_type": "markdown",
   "metadata": {},
   "source": [
    "# 1.3 Using variables\n",
    "* You can use variables and assign values to them.\n",
    "* In Python, you do not need to declare what type of variable you are defining.\n",
    "* But based on the assigned value, they will be given a specific type.\n",
    "* You can and should check the type of your variables using the type() method."
   ]
  },
  {
   "cell_type": "code",
   "execution_count": 13,
   "metadata": {},
   "outputs": [
    {
     "name": "stdout",
     "output_type": "stream",
     "text": [
      "This is one_variable:\n",
      "1.0\n",
      "<class 'float'>\n",
      "This is another_variable:\n",
      "1\n",
      "<class 'int'>\n"
     ]
    }
   ],
   "source": [
    "one_variable = 1.0\n",
    "another_variable = 1\n",
    "\n",
    "print(\"This is one_variable:\")\n",
    "print(one_variable)\n",
    "print(type(one_variable))\n",
    "\n",
    "print(\"This is another_variable:\")\n",
    "print(another_variable)\n",
    "print(type(another_variable))"
   ]
  },
  {
   "cell_type": "markdown",
   "metadata": {},
   "source": [
    "## 1.3.1 Data types\n",
    "There are various kinds of data types (similar to other prgramming languages):"
   ]
  },
  {
   "cell_type": "code",
   "execution_count": 3,
   "metadata": {},
   "outputs": [
    {
     "name": "stdout",
     "output_type": "stream",
     "text": [
      "<class 'str'>\n",
      "<class 'float'>\n",
      "<class 'int'>\n"
     ]
    }
   ],
   "source": [
    "i_am_a_string = \"Hello\"\n",
    "\n",
    "i_am_a_float = 1.0\n",
    "\n",
    "i_am_an_integer = 1\n",
    "\n",
    "print(type(i_am_a_string))\n",
    "print(type(i_am_a_float))\n",
    "print(type(i_am_an_integer))"
   ]
  },
  {
   "cell_type": "markdown",
   "metadata": {},
   "source": [
    "Python assigns these data types automtically based on which values you assign to a variable.\n",
    "\n",
    "If you want Python to change the datatype you can do so explicitly and might even _HAVE_ to do so explicitly. \n",
    "If you want to print a combination of text and a numeric value, you have to use the method ```str()``` to convert the numeric value into a string first."
   ]
  },
  {
   "cell_type": "code",
   "execution_count": 9,
   "metadata": {},
   "outputs": [
    {
     "name": "stdout",
     "output_type": "stream",
     "text": [
      "1.0\n",
      "This is the value of i_am_a_float: \n",
      "This is the value of i_am_a_float: 1.0\n"
     ]
    }
   ],
   "source": [
    "print(i_am_a_float)   # this works\n",
    "print(\"This is the value of i_am_a_float: \")  # this works\n",
    "\n",
    "# print (\"This is the value of i_am_a_float: \" + i_am_a_float) # this fails\n",
    "print (\"This is the value of i_am_a_float: \" + str(i_am_a_float))"
   ]
  },
  {
   "cell_type": "markdown",
   "metadata": {},
   "source": [
    "## 1.4 Naming variables\n",
    "\n",
    "Make sure that you give variables names that are meaningful and indicate what the variable stands for.\n",
    "Broadly speaking, in Python, variable names can use letters and digits, but cannot start with a digit. There is a list of reserved keywords that you cannot use for your own variables."
   ]
  },
  {
   "cell_type": "code",
   "execution_count": 14,
   "metadata": {},
   "outputs": [
    {
     "name": "stdout",
     "output_type": "stream",
     "text": [
      "['False', 'None', 'True', 'and', 'as', 'assert', 'break', 'class', 'continue', 'def', 'del', 'elif', 'else', 'except', 'finally', 'for', 'from', 'global', 'if', 'import', 'in', 'is', 'lambda', 'nonlocal', 'not', 'or', 'pass', 'raise', 'return', 'try', 'while', 'with', 'yield']\n"
     ]
    }
   ],
   "source": [
    "import keyword\n",
    "print(keyword.kwlist)"
   ]
  },
  {
   "cell_type": "markdown",
   "metadata": {},
   "source": [
    "# 1.5 Comparisons and basic control flow\n",
    "Python offers the usual comparison operators and control flow mechanics known from other programming languages.\n",
    "Again, make sure you keep an eye on the indentation since Python does not use curly brackets for these either."
   ]
  },
  {
   "cell_type": "code",
   "execution_count": 23,
   "metadata": {},
   "outputs": [
    {
     "name": "stdout",
     "output_type": "stream",
     "text": [
      "X is less than zero\n"
     ]
    }
   ],
   "source": [
    "x = -1  # Play around with the x value to see the impact of the changes\n",
    "\n",
    "if x < 0.0:  \n",
    "    print('X is less than zero')\n",
    "elif x >= 0.0 and x < 5:  \n",
    "    print('X is larger than zero or equal, and smaller than 5')\n",
    "else: \n",
    "    print('X is larger than 5 or equal')"
   ]
  },
  {
   "cell_type": "markdown",
   "metadata": {},
   "source": [
    "## 1.6 Lists\n",
    "\n",
    "* Lists are what is known from other programming languages as arrays. \n",
    "* Lists store values or objects in order.\n",
    "* Python allows you to mix data types (e.g. strings and integers) in a single list but it might confuse yourself and others if you do this.\n",
    "* Python is zero-indexed"
   ]
  },
  {
   "cell_type": "markdown",
   "metadata": {},
   "source": [
    "# If you want to run Python on your own machine (instead of Azure Notebooks)\n",
    "\n",
    "## Python installation\n",
    "If you want to run Python on your own machine, you might have to install Python first: https://www.python.org/downloads/.\n",
    "\n",
    "## Conda\n",
    "We recommend the use of Anaconda to manage multiple installations of Python or different Python environments: \n",
    "https://www.anaconda.com/download/\n",
    "\n",
    "## Jupyter notebooks\n",
    "* Jupyter notebooks come preinstalled on Anaconda: http://jupyter.readthedocs.io/en/latest/install.html"
   ]
  },
  {
   "cell_type": "markdown",
   "metadata": {},
   "source": [
    "# Further resources\n",
    "\n",
    "1. Official Python 3 Documentation: https://docs.python.org/3/\n",
    "2. CUED Python introduction (Azure Notebook): https://notebooks.azure.com/garth-wells/libraries/CUED-IA-Computing-Michaelmas"
   ]
  },
  {
   "cell_type": "code",
   "execution_count": null,
   "metadata": {
    "collapsed": true
   },
   "outputs": [],
   "source": []
  }
 ],
 "metadata": {
  "kernelspec": {
   "display_name": "Python [conda env:py36ML]",
   "language": "python",
   "name": "conda-env-py36ML-py"
  },
  "language_info": {
   "codemirror_mode": {
    "name": "ipython",
    "version": 3
   },
   "file_extension": ".py",
   "mimetype": "text/x-python",
   "name": "python",
   "nbconvert_exporter": "python",
   "pygments_lexer": "ipython3",
   "version": "3.6.1"
  }
 },
 "nbformat": 4,
 "nbformat_minor": 2
}
