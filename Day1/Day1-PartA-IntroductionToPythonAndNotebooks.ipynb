{
 "cells": [
  {
   "cell_type": "markdown",
   "metadata": {},
   "source": [
    "# Day 1 - Part A: Introduction to Jupyer Notebooks and Python"
   ]
  },
  {
   "cell_type": "markdown",
   "metadata": {},
   "source": [
    "* Please note: There are still two version of Python being used in parallel. We recommend to use Python 3.x instead of Python 2.x. The code in our practical sessions will be based on Python 3.x.\n",
    "* This is not a comprehensive introduction to Python but aims at merely providing you with just enough to understand the use of Machine Learning libraries. You can find the official documentation here: https://docs.python.org/3/"
   ]
  },
  {
   "cell_type": "markdown",
   "metadata": {},
   "source": [
    "* Python can be run in various ways (on Mac preinstalled, can be run in the console, ...)\n",
    "* For this lecture, we will use interactive Jupyter notebooks which can run Python but also allow for text and images\n",
    "* Furthermore, we use Jupyter notebooks that are hosted online and run in the cloud\n",
    "* https://notebooks.azure.com/garth-wells/libraries/CUED-IA-Computing-Michaelmas"
   ]
  },
  {
   "cell_type": "code",
   "execution_count": null,
   "metadata": {
    "collapsed": true
   },
   "outputs": [],
   "source": []
  }
 ],
 "metadata": {
  "kernelspec": {
   "display_name": "Python [conda env:py36ML]",
   "language": "python",
   "name": "conda-env-py36ML-py"
  },
  "language_info": {
   "codemirror_mode": {
    "name": "ipython",
    "version": 3
   },
   "file_extension": ".py",
   "mimetype": "text/x-python",
   "name": "python",
   "nbconvert_exporter": "python",
   "pygments_lexer": "ipython3",
   "version": "3.6.1"
  }
 },
 "nbformat": 4,
 "nbformat_minor": 2
}
