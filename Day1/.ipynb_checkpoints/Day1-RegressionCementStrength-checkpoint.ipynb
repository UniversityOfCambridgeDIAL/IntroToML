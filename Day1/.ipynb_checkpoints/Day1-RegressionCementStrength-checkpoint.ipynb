{
 "cells": [
  {
   "cell_type": "markdown",
   "metadata": {},
   "source": [
    "# Day 1 - Selection of basic machine learning algorithms  (Regression problem)"
   ]
  },
  {
   "cell_type": "markdown",
   "metadata": {},
   "source": [
    "## 1 Background information for this exercise\n",
    "\n",
    "<img src=\"images/cement_public_domain_image.jpg\" alt=\"cement (public domain image)\" style=\"width: 600px;\"/>\n",
    "\n",
    "* Concrete is the most important material in civil engineering.\n",
    "* The concrete compressive strength is a function of age and ingredients.\n",
    "* These ingredients include cement, blast furnace slag, fly ash, water, superplasticizer, coarse aggregate, and fine aggregate.\n",
    "\n",
    "### The dataset\n",
    "\n",
    "#### Summary\n",
    "\n",
    "* The actual concrete compressive strength (MPa) for a given mixture under a specific age (days) was determined by a laboratory.\n",
    "* Data is in raw form (not scaled).\n",
    "* Further information (which you should generally collect or crosscheck yourself)\n",
    "  * Number of instances (observations): 1030\n",
    "  * Number of attributes: 9\n",
    "  * Attribute breakdown: 8 quantitative input variables, and 1 quantitative output variable\n",
    "  * Missing Attribute Values: None\n",
    "\n",
    "#### Variables\n",
    "\n",
    "* Given is the variable name, variable type, the measurement unit and a brief description. \n",
    "* The order of this listing corresponds to the order of numerals along the rows of the database. \n",
    "\n",
    "| Name  | Data Type  | Measurement  | Description  |\n",
    "|---|---|---|---|\n",
    "|  Cement (component 1) |  quantitative | kg in a m3 mixture  | Input Variable  |\n",
    "|  Blast Furnace Slag (component 2) | quantitative  | kg in a m3 mixture  | Input Variable  |\n",
    "| Fly Ash (component 3)  | quantitative  | kg in a m3 mixture | Input Variable  |\n",
    "| Water (component 4)  |  quantitative | kg in a m3 mixture  | Input Variable  |\n",
    "| Superplasticizer (component 5)  | quantitative  |  kg in a m3 mixture | Input Variable  |\n",
    "| Coarse Aggregate (component 6)  | quantitative  | kg in a m3 mixture  |  Input Variable |\n",
    "| Fine Aggregate (component 7)  | quantitative  | kg in a m3 mixture  | Input Variable  |\n",
    "| Age  |  quantitative | Day (1~365)  | Input Variable |\n",
    "| Concrete compressive strength  |  quantitative | MPa  | **Output** Variable |\n",
    " \n",
    "\n",
    "### Our task\n",
    "\n",
    "Our task is to create a model that predicts the concrete compressive strength as a function of all the ingredients of the concrete mix."
   ]
  },
  {
   "cell_type": "markdown",
   "metadata": {},
   "source": [
    "## 2 Exploratory Data Analysis\n",
    "\n",
    "Before we actually work with the data, we should have a careful look at the data. Let us try to import the data, examine it, visualise it, understand it, find potential problems like errors and missing data.\n",
    "\n",
    "### Importing the data\n",
    "\n",
    "The data can be found in this folder: datasets/concrete_compressive_strength/Concrete_Data.xls\n",
    "\n",
    "#### Importing dependencies\n",
    "\n",
    "* Please note: Normally, you import _ALL_ your dependencies at the top of your python script or Jupyter notebook. \n",
    "* We will not do this here for purely didactic reasons. \n",
    "* We will only import what we immediately require in the next steps, so you can more easily understand why we import something."
   ]
  },
  {
   "cell_type": "code",
   "execution_count": 2,
   "metadata": {
    "collapsed": true
   },
   "outputs": [],
   "source": [
    "# Pandas is a library that provides functionality similar to R - with dataframes that can contain different data types\n",
    "# Documentation: http://pandas.pydata.org/pandas-docs/stable/\n",
    "import pandas as pd"
   ]
  },
  {
   "cell_type": "markdown",
   "metadata": {},
   "source": [
    "#### Opening the dataset using Pandas\n",
    "We can now load the dataset from its location"
   ]
  },
  {
   "cell_type": "code",
   "execution_count": 11,
   "metadata": {},
   "outputs": [
    {
     "name": "stdout",
     "output_type": "stream",
     "text": [
      "<class 'pandas.core.frame.DataFrame'>\n",
      "(1030, 9)\n"
     ]
    }
   ],
   "source": [
    "dataset_location = 'datasets/concrete_compressive_strength/Concrete_Data.xls'\n",
    "df = pd.read_excel(dataset_location) # We are free to choose the variable name. We choose df so we know we are dealing with a DataFrame\n",
    "\n",
    "# Print the data type of \"data\"\n",
    "print(type(df)) # We are dealing with a Pandas DataFrame\n",
    "\n",
    "# Print out the shape of the dataframe (number rows, number columns)\n",
    "print(df.shape)"
   ]
  },
  {
   "cell_type": "markdown",
   "metadata": {},
   "source": [
    "#### A first look into the data\n",
    "\n",
    "We can get a better understanding of the data using the method head() that is provided by DataFrames:"
   ]
  },
  {
   "cell_type": "code",
   "execution_count": 7,
   "metadata": {},
   "outputs": [
    {
     "data": {
      "text/html": [
       "<div>\n",
       "<style>\n",
       "    .dataframe thead tr:only-child th {\n",
       "        text-align: right;\n",
       "    }\n",
       "\n",
       "    .dataframe thead th {\n",
       "        text-align: left;\n",
       "    }\n",
       "\n",
       "    .dataframe tbody tr th {\n",
       "        vertical-align: top;\n",
       "    }\n",
       "</style>\n",
       "<table border=\"1\" class=\"dataframe\">\n",
       "  <thead>\n",
       "    <tr style=\"text-align: right;\">\n",
       "      <th></th>\n",
       "      <th>Cement (component 1)(kg in a m^3 mixture)</th>\n",
       "      <th>Blast Furnace Slag (component 2)(kg in a m^3 mixture)</th>\n",
       "      <th>Fly Ash (component 3)(kg in a m^3 mixture)</th>\n",
       "      <th>Water  (component 4)(kg in a m^3 mixture)</th>\n",
       "      <th>Superplasticizer (component 5)(kg in a m^3 mixture)</th>\n",
       "      <th>Coarse Aggregate  (component 6)(kg in a m^3 mixture)</th>\n",
       "      <th>Fine Aggregate (component 7)(kg in a m^3 mixture)</th>\n",
       "      <th>Age (day)</th>\n",
       "      <th>Concrete compressive strength(MPa, megapascals)</th>\n",
       "    </tr>\n",
       "  </thead>\n",
       "  <tbody>\n",
       "    <tr>\n",
       "      <th>0</th>\n",
       "      <td>540.0</td>\n",
       "      <td>0.0</td>\n",
       "      <td>0.0</td>\n",
       "      <td>162.0</td>\n",
       "      <td>2.5</td>\n",
       "      <td>1040.0</td>\n",
       "      <td>676.0</td>\n",
       "      <td>28</td>\n",
       "      <td>79.986111</td>\n",
       "    </tr>\n",
       "    <tr>\n",
       "      <th>1</th>\n",
       "      <td>540.0</td>\n",
       "      <td>0.0</td>\n",
       "      <td>0.0</td>\n",
       "      <td>162.0</td>\n",
       "      <td>2.5</td>\n",
       "      <td>1055.0</td>\n",
       "      <td>676.0</td>\n",
       "      <td>28</td>\n",
       "      <td>61.887366</td>\n",
       "    </tr>\n",
       "    <tr>\n",
       "      <th>2</th>\n",
       "      <td>332.5</td>\n",
       "      <td>142.5</td>\n",
       "      <td>0.0</td>\n",
       "      <td>228.0</td>\n",
       "      <td>0.0</td>\n",
       "      <td>932.0</td>\n",
       "      <td>594.0</td>\n",
       "      <td>270</td>\n",
       "      <td>40.269535</td>\n",
       "    </tr>\n",
       "    <tr>\n",
       "      <th>3</th>\n",
       "      <td>332.5</td>\n",
       "      <td>142.5</td>\n",
       "      <td>0.0</td>\n",
       "      <td>228.0</td>\n",
       "      <td>0.0</td>\n",
       "      <td>932.0</td>\n",
       "      <td>594.0</td>\n",
       "      <td>365</td>\n",
       "      <td>41.052780</td>\n",
       "    </tr>\n",
       "    <tr>\n",
       "      <th>4</th>\n",
       "      <td>198.6</td>\n",
       "      <td>132.4</td>\n",
       "      <td>0.0</td>\n",
       "      <td>192.0</td>\n",
       "      <td>0.0</td>\n",
       "      <td>978.4</td>\n",
       "      <td>825.5</td>\n",
       "      <td>360</td>\n",
       "      <td>44.296075</td>\n",
       "    </tr>\n",
       "  </tbody>\n",
       "</table>\n",
       "</div>"
      ],
      "text/plain": [
       "   Cement (component 1)(kg in a m^3 mixture)  \\\n",
       "0                                      540.0   \n",
       "1                                      540.0   \n",
       "2                                      332.5   \n",
       "3                                      332.5   \n",
       "4                                      198.6   \n",
       "\n",
       "   Blast Furnace Slag (component 2)(kg in a m^3 mixture)  \\\n",
       "0                                                0.0       \n",
       "1                                                0.0       \n",
       "2                                              142.5       \n",
       "3                                              142.5       \n",
       "4                                              132.4       \n",
       "\n",
       "   Fly Ash (component 3)(kg in a m^3 mixture)  \\\n",
       "0                                         0.0   \n",
       "1                                         0.0   \n",
       "2                                         0.0   \n",
       "3                                         0.0   \n",
       "4                                         0.0   \n",
       "\n",
       "   Water  (component 4)(kg in a m^3 mixture)  \\\n",
       "0                                      162.0   \n",
       "1                                      162.0   \n",
       "2                                      228.0   \n",
       "3                                      228.0   \n",
       "4                                      192.0   \n",
       "\n",
       "   Superplasticizer (component 5)(kg in a m^3 mixture)  \\\n",
       "0                                                2.5     \n",
       "1                                                2.5     \n",
       "2                                                0.0     \n",
       "3                                                0.0     \n",
       "4                                                0.0     \n",
       "\n",
       "   Coarse Aggregate  (component 6)(kg in a m^3 mixture)  \\\n",
       "0                                             1040.0      \n",
       "1                                             1055.0      \n",
       "2                                              932.0      \n",
       "3                                              932.0      \n",
       "4                                              978.4      \n",
       "\n",
       "   Fine Aggregate (component 7)(kg in a m^3 mixture)  Age (day)  \\\n",
       "0                                              676.0         28   \n",
       "1                                              676.0         28   \n",
       "2                                              594.0        270   \n",
       "3                                              594.0        365   \n",
       "4                                              825.5        360   \n",
       "\n",
       "   Concrete compressive strength(MPa, megapascals)   \n",
       "0                                         79.986111  \n",
       "1                                         61.887366  \n",
       "2                                         40.269535  \n",
       "3                                         41.052780  \n",
       "4                                         44.296075  "
      ]
     },
     "execution_count": 7,
     "metadata": {},
     "output_type": "execute_result"
    }
   ],
   "source": [
    "df.head() # You can also pass an argument to the function: data.head(10) will show the first 10 rows etc."
   ]
  },
  {
   "cell_type": "markdown",
   "metadata": {},
   "source": [
    "Let us get a better understanding of the distribution by using the describe() method:"
   ]
  },
  {
   "cell_type": "code",
   "execution_count": 8,
   "metadata": {},
   "outputs": [
    {
     "data": {
      "text/html": [
       "<div>\n",
       "<style>\n",
       "    .dataframe thead tr:only-child th {\n",
       "        text-align: right;\n",
       "    }\n",
       "\n",
       "    .dataframe thead th {\n",
       "        text-align: left;\n",
       "    }\n",
       "\n",
       "    .dataframe tbody tr th {\n",
       "        vertical-align: top;\n",
       "    }\n",
       "</style>\n",
       "<table border=\"1\" class=\"dataframe\">\n",
       "  <thead>\n",
       "    <tr style=\"text-align: right;\">\n",
       "      <th></th>\n",
       "      <th>Cement (component 1)(kg in a m^3 mixture)</th>\n",
       "      <th>Blast Furnace Slag (component 2)(kg in a m^3 mixture)</th>\n",
       "      <th>Fly Ash (component 3)(kg in a m^3 mixture)</th>\n",
       "      <th>Water  (component 4)(kg in a m^3 mixture)</th>\n",
       "      <th>Superplasticizer (component 5)(kg in a m^3 mixture)</th>\n",
       "      <th>Coarse Aggregate  (component 6)(kg in a m^3 mixture)</th>\n",
       "      <th>Fine Aggregate (component 7)(kg in a m^3 mixture)</th>\n",
       "      <th>Age (day)</th>\n",
       "      <th>Concrete compressive strength(MPa, megapascals)</th>\n",
       "    </tr>\n",
       "  </thead>\n",
       "  <tbody>\n",
       "    <tr>\n",
       "      <th>count</th>\n",
       "      <td>1030.000000</td>\n",
       "      <td>1030.000000</td>\n",
       "      <td>1030.000000</td>\n",
       "      <td>1030.000000</td>\n",
       "      <td>1030.000000</td>\n",
       "      <td>1030.000000</td>\n",
       "      <td>1030.000000</td>\n",
       "      <td>1030.000000</td>\n",
       "      <td>1030.000000</td>\n",
       "    </tr>\n",
       "    <tr>\n",
       "      <th>mean</th>\n",
       "      <td>281.165631</td>\n",
       "      <td>73.895485</td>\n",
       "      <td>54.187136</td>\n",
       "      <td>181.566359</td>\n",
       "      <td>6.203112</td>\n",
       "      <td>972.918592</td>\n",
       "      <td>773.578883</td>\n",
       "      <td>45.662136</td>\n",
       "      <td>35.817836</td>\n",
       "    </tr>\n",
       "    <tr>\n",
       "      <th>std</th>\n",
       "      <td>104.507142</td>\n",
       "      <td>86.279104</td>\n",
       "      <td>63.996469</td>\n",
       "      <td>21.355567</td>\n",
       "      <td>5.973492</td>\n",
       "      <td>77.753818</td>\n",
       "      <td>80.175427</td>\n",
       "      <td>63.169912</td>\n",
       "      <td>16.705679</td>\n",
       "    </tr>\n",
       "    <tr>\n",
       "      <th>min</th>\n",
       "      <td>102.000000</td>\n",
       "      <td>0.000000</td>\n",
       "      <td>0.000000</td>\n",
       "      <td>121.750000</td>\n",
       "      <td>0.000000</td>\n",
       "      <td>801.000000</td>\n",
       "      <td>594.000000</td>\n",
       "      <td>1.000000</td>\n",
       "      <td>2.331808</td>\n",
       "    </tr>\n",
       "    <tr>\n",
       "      <th>25%</th>\n",
       "      <td>192.375000</td>\n",
       "      <td>0.000000</td>\n",
       "      <td>0.000000</td>\n",
       "      <td>164.900000</td>\n",
       "      <td>0.000000</td>\n",
       "      <td>932.000000</td>\n",
       "      <td>730.950000</td>\n",
       "      <td>7.000000</td>\n",
       "      <td>23.707115</td>\n",
       "    </tr>\n",
       "    <tr>\n",
       "      <th>50%</th>\n",
       "      <td>272.900000</td>\n",
       "      <td>22.000000</td>\n",
       "      <td>0.000000</td>\n",
       "      <td>185.000000</td>\n",
       "      <td>6.350000</td>\n",
       "      <td>968.000000</td>\n",
       "      <td>779.510000</td>\n",
       "      <td>28.000000</td>\n",
       "      <td>34.442774</td>\n",
       "    </tr>\n",
       "    <tr>\n",
       "      <th>75%</th>\n",
       "      <td>350.000000</td>\n",
       "      <td>142.950000</td>\n",
       "      <td>118.270000</td>\n",
       "      <td>192.000000</td>\n",
       "      <td>10.160000</td>\n",
       "      <td>1029.400000</td>\n",
       "      <td>824.000000</td>\n",
       "      <td>56.000000</td>\n",
       "      <td>46.136287</td>\n",
       "    </tr>\n",
       "    <tr>\n",
       "      <th>max</th>\n",
       "      <td>540.000000</td>\n",
       "      <td>359.400000</td>\n",
       "      <td>200.100000</td>\n",
       "      <td>247.000000</td>\n",
       "      <td>32.200000</td>\n",
       "      <td>1145.000000</td>\n",
       "      <td>992.600000</td>\n",
       "      <td>365.000000</td>\n",
       "      <td>82.599225</td>\n",
       "    </tr>\n",
       "  </tbody>\n",
       "</table>\n",
       "</div>"
      ],
      "text/plain": [
       "       Cement (component 1)(kg in a m^3 mixture)  \\\n",
       "count                                1030.000000   \n",
       "mean                                  281.165631   \n",
       "std                                   104.507142   \n",
       "min                                   102.000000   \n",
       "25%                                   192.375000   \n",
       "50%                                   272.900000   \n",
       "75%                                   350.000000   \n",
       "max                                   540.000000   \n",
       "\n",
       "       Blast Furnace Slag (component 2)(kg in a m^3 mixture)  \\\n",
       "count                                        1030.000000       \n",
       "mean                                           73.895485       \n",
       "std                                            86.279104       \n",
       "min                                             0.000000       \n",
       "25%                                             0.000000       \n",
       "50%                                            22.000000       \n",
       "75%                                           142.950000       \n",
       "max                                           359.400000       \n",
       "\n",
       "       Fly Ash (component 3)(kg in a m^3 mixture)  \\\n",
       "count                                 1030.000000   \n",
       "mean                                    54.187136   \n",
       "std                                     63.996469   \n",
       "min                                      0.000000   \n",
       "25%                                      0.000000   \n",
       "50%                                      0.000000   \n",
       "75%                                    118.270000   \n",
       "max                                    200.100000   \n",
       "\n",
       "       Water  (component 4)(kg in a m^3 mixture)  \\\n",
       "count                                1030.000000   \n",
       "mean                                  181.566359   \n",
       "std                                    21.355567   \n",
       "min                                   121.750000   \n",
       "25%                                   164.900000   \n",
       "50%                                   185.000000   \n",
       "75%                                   192.000000   \n",
       "max                                   247.000000   \n",
       "\n",
       "       Superplasticizer (component 5)(kg in a m^3 mixture)  \\\n",
       "count                                        1030.000000     \n",
       "mean                                            6.203112     \n",
       "std                                             5.973492     \n",
       "min                                             0.000000     \n",
       "25%                                             0.000000     \n",
       "50%                                             6.350000     \n",
       "75%                                            10.160000     \n",
       "max                                            32.200000     \n",
       "\n",
       "       Coarse Aggregate  (component 6)(kg in a m^3 mixture)  \\\n",
       "count                                        1030.000000      \n",
       "mean                                          972.918592      \n",
       "std                                            77.753818      \n",
       "min                                           801.000000      \n",
       "25%                                           932.000000      \n",
       "50%                                           968.000000      \n",
       "75%                                          1029.400000      \n",
       "max                                          1145.000000      \n",
       "\n",
       "       Fine Aggregate (component 7)(kg in a m^3 mixture)    Age (day)  \\\n",
       "count                                        1030.000000  1030.000000   \n",
       "mean                                          773.578883    45.662136   \n",
       "std                                            80.175427    63.169912   \n",
       "min                                           594.000000     1.000000   \n",
       "25%                                           730.950000     7.000000   \n",
       "50%                                           779.510000    28.000000   \n",
       "75%                                           824.000000    56.000000   \n",
       "max                                           992.600000   365.000000   \n",
       "\n",
       "       Concrete compressive strength(MPa, megapascals)   \n",
       "count                                       1030.000000  \n",
       "mean                                          35.817836  \n",
       "std                                           16.705679  \n",
       "min                                            2.331808  \n",
       "25%                                           23.707115  \n",
       "50%                                           34.442774  \n",
       "75%                                           46.136287  \n",
       "max                                           82.599225  "
      ]
     },
     "execution_count": 8,
     "metadata": {},
     "output_type": "execute_result"
    }
   ],
   "source": [
    "df.describe()"
   ]
  },
  {
   "cell_type": "markdown",
   "metadata": {},
   "source": [
    "This gives us (per column):\n",
    "1. the number of data entries\n",
    "2. the arithmetic mean\n",
    "3. the standard deviation (a low standard deviation indicates that the data points tend to be close to the mean and vice versa)\n",
    "4. and we get the 'Five-number summary': \n",
    "    * min, \n",
    "    * lower quartile (25% percentile), \n",
    "    * median, \n",
    "    * upper quartile (75% percentile), \n",
    "    * max"
   ]
  },
  {
   "cell_type": "markdown",
   "metadata": {},
   "source": [
    "#### Renaming column headers\n",
    "\n",
    "* The column headers of our dataset are long and complex. \n",
    "* To make our life easier, we can quickly rename the column headers here. \n",
    "* Careful though: Errors here (especially new column names in the wrong order) would mess up any conclusion we draw from the data."
   ]
  },
  {
   "cell_type": "code",
   "execution_count": 24,
   "metadata": {},
   "outputs": [
    {
     "data": {
      "text/html": [
       "<div>\n",
       "<style>\n",
       "    .dataframe thead tr:only-child th {\n",
       "        text-align: right;\n",
       "    }\n",
       "\n",
       "    .dataframe thead th {\n",
       "        text-align: left;\n",
       "    }\n",
       "\n",
       "    .dataframe tbody tr th {\n",
       "        vertical-align: top;\n",
       "    }\n",
       "</style>\n",
       "<table border=\"1\" class=\"dataframe\">\n",
       "  <thead>\n",
       "    <tr style=\"text-align: right;\">\n",
       "      <th></th>\n",
       "      <th>Cement</th>\n",
       "      <th>Blast Furnace Slag</th>\n",
       "      <th>Fly Ash</th>\n",
       "      <th>Water</th>\n",
       "      <th>Superplasticizer</th>\n",
       "      <th>Coarse Aggregate</th>\n",
       "      <th>Fine Aggregate</th>\n",
       "      <th>Age</th>\n",
       "      <th>Concrete compressive strength</th>\n",
       "    </tr>\n",
       "  </thead>\n",
       "  <tbody>\n",
       "    <tr>\n",
       "      <th>0</th>\n",
       "      <td>540.0</td>\n",
       "      <td>0.0</td>\n",
       "      <td>0.0</td>\n",
       "      <td>162.0</td>\n",
       "      <td>2.5</td>\n",
       "      <td>1040.0</td>\n",
       "      <td>676.0</td>\n",
       "      <td>28</td>\n",
       "      <td>79.986111</td>\n",
       "    </tr>\n",
       "    <tr>\n",
       "      <th>1</th>\n",
       "      <td>540.0</td>\n",
       "      <td>0.0</td>\n",
       "      <td>0.0</td>\n",
       "      <td>162.0</td>\n",
       "      <td>2.5</td>\n",
       "      <td>1055.0</td>\n",
       "      <td>676.0</td>\n",
       "      <td>28</td>\n",
       "      <td>61.887366</td>\n",
       "    </tr>\n",
       "    <tr>\n",
       "      <th>2</th>\n",
       "      <td>332.5</td>\n",
       "      <td>142.5</td>\n",
       "      <td>0.0</td>\n",
       "      <td>228.0</td>\n",
       "      <td>0.0</td>\n",
       "      <td>932.0</td>\n",
       "      <td>594.0</td>\n",
       "      <td>270</td>\n",
       "      <td>40.269535</td>\n",
       "    </tr>\n",
       "    <tr>\n",
       "      <th>3</th>\n",
       "      <td>332.5</td>\n",
       "      <td>142.5</td>\n",
       "      <td>0.0</td>\n",
       "      <td>228.0</td>\n",
       "      <td>0.0</td>\n",
       "      <td>932.0</td>\n",
       "      <td>594.0</td>\n",
       "      <td>365</td>\n",
       "      <td>41.052780</td>\n",
       "    </tr>\n",
       "    <tr>\n",
       "      <th>4</th>\n",
       "      <td>198.6</td>\n",
       "      <td>132.4</td>\n",
       "      <td>0.0</td>\n",
       "      <td>192.0</td>\n",
       "      <td>0.0</td>\n",
       "      <td>978.4</td>\n",
       "      <td>825.5</td>\n",
       "      <td>360</td>\n",
       "      <td>44.296075</td>\n",
       "    </tr>\n",
       "  </tbody>\n",
       "</table>\n",
       "</div>"
      ],
      "text/plain": [
       "   Cement   Blast Furnace Slag  Fly Ash  Water  Superplasticizer  \\\n",
       "0    540.0                 0.0      0.0  162.0               2.5   \n",
       "1    540.0                 0.0      0.0  162.0               2.5   \n",
       "2    332.5               142.5      0.0  228.0               0.0   \n",
       "3    332.5               142.5      0.0  228.0               0.0   \n",
       "4    198.6               132.4      0.0  192.0               0.0   \n",
       "\n",
       "   Coarse Aggregate  Fine Aggregate  Age  Concrete compressive strength  \n",
       "0            1040.0           676.0   28                      79.986111  \n",
       "1            1055.0           676.0   28                      61.887366  \n",
       "2             932.0           594.0  270                      40.269535  \n",
       "3             932.0           594.0  365                      41.052780  \n",
       "4             978.4           825.5  360                      44.296075  "
      ]
     },
     "execution_count": 24,
     "metadata": {},
     "output_type": "execute_result"
    }
   ],
   "source": [
    "df.columns = ['Cement ', 'Blast Furnace Slag', 'Fly Ash', 'Water', 'Superplasticizer', \n",
    "              'Coarse Aggregate', 'Fine Aggregate', 'Age', 'Concrete compressive strength']\n",
    "\n",
    "df.head()"
   ]
  },
  {
   "cell_type": "markdown",
   "metadata": {},
   "source": [
    "This makes things a bit easier to read and work with."
   ]
  },
  {
   "cell_type": "markdown",
   "metadata": {},
   "source": [
    "#### Visualising the data distribution\n",
    "\n",
    "To visualise the dataset, we need to have imported the required libraries before. So we do that here:"
   ]
  },
  {
   "cell_type": "code",
   "execution_count": 25,
   "metadata": {
    "collapsed": true
   },
   "outputs": [],
   "source": [
    "# Here, we import matplotlib (a comprehensive plotting library)\n",
    "# We give it a shorter name ('plt') that we can refer to in the code\n",
    "import matplotlib.pyplot as plt\n",
    "\n",
    "# We need to add the following line to tell matplotlib to just plot the figure right into the notebook\n",
    "%matplotlib inline\n",
    "\n",
    "# Seaborn for plotting and styling\n",
    "import seaborn as sns"
   ]
  },
  {
   "cell_type": "markdown",
   "metadata": {},
   "source": [
    "A boxplot provides a good general overview. You should be able to find the values in here that df.describe() returned before:"
   ]
  },
  {
   "cell_type": "code",
   "execution_count": 33,
   "metadata": {},
   "outputs": [
    {
     "data": {
      "image/png": "[encoded data removed]",
      "text/plain": [
       "<matplotlib.figure.Figure at 0x1113fc438>"
      ]
     },
     "metadata": {},
     "output_type": "display_data"
    }
   ],
   "source": [
    "# Boxplot\n",
    "plotty = sns.boxplot(data=df)\n",
    "\n",
    "# Here, we rotate the labels a bit so they do not overlap and remain readable\n",
    "plotty.set_xticklabels(plotty.get_xticklabels(), rotation=30)\n",
    "\n",
    "# If we use this command at the end, we prevent matplotlib from printing some text outputs together with the plot\n",
    "plt.show()"
   ]
  },
  {
   "cell_type": "markdown",
   "metadata": {},
   "source": [
    "We can see that the data attributes are in **very different value ranges**. We may have to look into this before we apply any Machine Learning algorithm."
   ]
  },
  {
   "cell_type": "markdown",
   "metadata": {},
   "source": [
    "We can also plot the distribution of individual columns:"
   ]
  },
  {
   "cell_type": "code",
   "execution_count": 26,
   "metadata": {},
   "outputs": [
    {
     "data": {
      "image/png": "[encoded data removed]",
      "text/plain": [
       "<matplotlib.figure.Figure at 0x1114185f8>"
      ]
     },
     "metadata": {},
     "output_type": "display_data"
    }
   ],
   "source": [
    "# Try other column names as well...\n",
    "sns.distplot(df.loc[:, 'Concrete compressive strength'], kde=True, rug=False)\n",
    "\n",
    "# If we use this command at the end, we prevent matplotlib from printing some text outputs together with the plot\n",
    "plt.show()"
   ]
  },
  {
   "cell_type": "markdown",
   "metadata": {},
   "source": [
    "#### Investigating correlations in the data"
   ]
  },
  {
   "cell_type": "code",
   "execution_count": 30,
   "metadata": {},
   "outputs": [
    {
     "data": {
      "image/png": "[encoded data removed]",
      "text/plain": [
       "<matplotlib.figure.Figure at 0x1124a2f60>"
      ]
     },
     "metadata": {},
     "output_type": "display_data"
    }
   ],
   "source": [
    "f, ax = plt.subplots(figsize=(20,15))\n",
    "sns.heatmap(df.corr(), annot=True)\n",
    "\n",
    "# If we use this command at the end, we prevent matplotlib from printing some text outputs together with the plot\n",
    "plt.show()"
   ]
  },
  {
   "cell_type": "markdown",
   "metadata": {},
   "source": [
    "Despite our limited knowledge of cement, do the correlations make sense?\n",
    "What does the heatmap tell us? How do we have to read this?\n",
    "\n",
    "Some potential early findings:\n",
    "* Cement content appears to correlate with increased compressive strength, same with age and superplasticizer.\n",
    "* It seems that water and superplasticizer tend to be not used together. Instead if one is used the other is used less."
   ]
  },
  {
   "cell_type": "markdown",
   "metadata": {},
   "source": [
    "## Problem statement\n",
    "\n",
    "We now have a basic understanding of the dataset and should be able to state the problem more clearly.\n",
    "\n",
    "* We are dealing with a **supervised learning problem** since we are given the response variable (here: concrete compressive strength).\n",
    "* Since we want to predict a **continuous** variable, we are dealing with a **regression problem**. (Please note: The distinction between regression and classification has grey zones. One can sometimes rephrase a problem as either regression or classification.)\n",
    "* The dataset contains 8 features (= explanatory variables). We do not want to test the influence of each feature individually but want to to test the influence of the combination of all features on concrete compressive strength (= the response variable or dependent variable).\n",
    "* The features in the dataset are **quantitative** (some of which are integers and some of which are continuous values)."
   ]
  },
  {
   "cell_type": "markdown",
   "metadata": {},
   "source": [
    "## Linear Regression\n",
    "\n",
    "We will first try to apply a linear regression to our dataset.\n",
    "Since we have multiple features, we will apply a so-called **multiple linear regression**. \n",
    "\n",
    "Please note that we want to predict a **single** continuous variable. It is easy to confuse _multiple_ linear regression with _multivariate_ linear regression, where multiple correlated dependent variables are predicted.\n",
    "\n",
    "Also note one important assumption:\n",
    "If the linear regression shows little correlation, it does **not** mean that the features do not correlate with our response variable. It just means that there is little **linear** correlation."
   ]
  },
  {
   "cell_type": "markdown",
   "metadata": {},
   "source": [
    "### Importing data into NumPy\n",
    "\n",
    "The starting point for most SciKit Learn models is a dataset in a NumPy array.\n",
    "NumPy arrays can only hold one type of values (unlike DataFrames which may hold different data types).\n",
    "\n",
    "Before we can use NumPy, we need to import it:"
   ]
  },
  {
   "cell_type": "code",
   "execution_count": 35,
   "metadata": {
    "collapsed": true
   },
   "outputs": [],
   "source": [
    "# NumPy is a library for scientific computing with Python and provides methods to work with arrays and matrices\n",
    "# Documentation: https://docs.scipy.org/doc/\n",
    "import numpy as np"
   ]
  },
  {
   "cell_type": "markdown",
   "metadata": {},
   "source": [
    "Then we convert the DataFrame into a NumPy array. Luckily, Pandas DataFrames bring a function for converting themselves into NumPy arrays. Should we get any errors, we might have to convert data types first. "
   ]
  },
  {
   "cell_type": "code",
   "execution_count": 42,
   "metadata": {},
   "outputs": [
    {
     "name": "stdout",
     "output_type": "stream",
     "text": [
      "<class 'numpy.ndarray'>\n"
     ]
    }
   ],
   "source": [
    "np_array = df.as_matrix()\n",
    "\n",
    "print(type(np_array))\n",
    "\n",
    "# Print (parts of) the array as text\n",
    "# print(np_array)\n",
    "\n",
    "# Print the shape of the array (number of rows and columns)\n",
    "# print(np_array.shape)"
   ]
  },
  {
   "cell_type": "markdown",
   "metadata": {},
   "source": [
    "All went fine and we now have a NumPy array."
   ]
  },
  {
   "cell_type": "markdown",
   "metadata": {},
   "source": [
    "### Splitting features and the labels (by columns)\n",
    "\n",
    "* To be able to hand over the data to the model, we need to **split the data into the features and the labels**.\n",
    "* We have 8 features, so we will create an 8-dimensional array. \n",
    "* We only have a single column of labels, hence this will become a single column vector.\n",
    "\n",
    "#### Quick excursus: Slicing in Python and NumPy\n",
    "\n",
    "In Python and NumPy you can \"slice\" a list or an array. Slicing means specifying the cut of a list or an array you are interested in.\n",
    "You do so by specifying the index interval in the form: \n",
    "\n",
    "```[index of first element (incl) : index of last element (excl)]```\n",
    "\n",
    "Please remember that Python is zero-indexed. The first element has the index 0."
   ]
  },
  {
   "cell_type": "code",
   "execution_count": 46,
   "metadata": {},
   "outputs": [
    {
     "data": {
      "text/plain": [
       "['one']"
      ]
     },
     "execution_count": 46,
     "metadata": {},
     "output_type": "execute_result"
    }
   ],
   "source": [
    "i_am_a_list = ['one', 'two', 'three', 'four']\n",
    "\n",
    "# Return everything in the list from index 0 (incl.!) to index 1 (excl.!)\n",
    "i_am_a_list[0:1]"
   ]
  },
  {
   "cell_type": "markdown",
   "metadata": {},
   "source": [
    "* If you do not specify the first index, you implicitly tell Python to start from the beginning.\n",
    "* If you do not specify the second index, you implicitly tell Python to go until the end."
   ]
  },
  {
   "cell_type": "code",
   "execution_count": 47,
   "metadata": {},
   "outputs": [
    {
     "data": {
      "text/plain": [
       "['one', 'two', 'three']"
      ]
     },
     "execution_count": 47,
     "metadata": {},
     "output_type": "execute_result"
    }
   ],
   "source": [
    "i_am_a_list[:3]"
   ]
  },
  {
   "cell_type": "code",
   "execution_count": 48,
   "metadata": {},
   "outputs": [
    {
     "data": {
      "text/plain": [
       "['four']"
      ]
     },
     "execution_count": 48,
     "metadata": {},
     "output_type": "execute_result"
    }
   ],
   "source": [
    "i_am_a_list[3:]"
   ]
  },
  {
   "cell_type": "code",
   "execution_count": 49,
   "metadata": {},
   "outputs": [
    {
     "data": {
      "text/plain": [
       "['one', 'two', 'three', 'four']"
      ]
     },
     "execution_count": 49,
     "metadata": {},
     "output_type": "execute_result"
    }
   ],
   "source": [
    "i_am_a_list[:]"
   ]
  },
  {
   "cell_type": "markdown",
   "metadata": {},
   "source": [
    "* Python also allows you to count from the end which comes handy.\n",
    "* We use negative indices to count from the end. \n",
    "* Because the index 0 is already taken by the first element, we start with index \"-1\" if we count from the end.\n",
    "\n",
    "<img src=\"images/indexing.png\" alt=\"indexing\" style=\"width: 700px;\"/>"
   ]
  },
  {
   "cell_type": "code",
   "execution_count": 50,
   "metadata": {},
   "outputs": [
    {
     "data": {
      "text/plain": [
       "'four'"
      ]
     },
     "execution_count": 50,
     "metadata": {},
     "output_type": "execute_result"
    }
   ],
   "source": [
    "i_am_a_list[-1]"
   ]
  },
  {
   "cell_type": "markdown",
   "metadata": {},
   "source": [
    "And so we can use negative numbers for slicing as well:"
   ]
  },
  {
   "cell_type": "code",
   "execution_count": 52,
   "metadata": {},
   "outputs": [
    {
     "data": {
      "text/plain": [
       "['four']"
      ]
     },
     "execution_count": 52,
     "metadata": {},
     "output_type": "execute_result"
    }
   ],
   "source": [
    "i_am_a_list[-1:]"
   ]
  },
  {
   "cell_type": "markdown",
   "metadata": {},
   "source": [
    "#### Back to our problem: Splitting features and labels by slicing our dataset \n",
    "\n",
    "We can now create variables for the features and the labels of our dataset. We assign the corresponding slices of our dataset to these variables. Because we are slicing a two-dimensional array, we have to specify the indices of the rows and also the indices of the columns. Because we want to keep all rows in both cases, the slice for the rows will look like:\n",
    "\n",
    "```0:```\n",
    "\n",
    "(from the first element with index 0 to the end)"
   ]
  },
  {
   "cell_type": "code",
   "execution_count": 64,
   "metadata": {},
   "outputs": [
    {
     "data": {
      "text/plain": [
       "(1030, 8)"
      ]
     },
     "execution_count": 64,
     "metadata": {},
     "output_type": "execute_result"
    }
   ],
   "source": [
    "# Features are often denoted as X because they are the input to the function f(x)=y we are trying to learn\n",
    "# Because they are a multi-dimensional array, the letter X is capitalised (as one would with a matrix in maths)\n",
    "\n",
    "features_array_X = np_array[0:,0:-1]\n",
    "\n",
    "features_array_X.shape"
   ]
  },
  {
   "cell_type": "code",
   "execution_count": 66,
   "metadata": {},
   "outputs": [
    {
     "data": {
      "text/plain": [
       "(1030, 1)"
      ]
     },
     "execution_count": 66,
     "metadata": {},
     "output_type": "execute_result"
    }
   ],
   "source": [
    "# The labels are often denoted as y because they are the output of our function f(x)=y that we are trying to learn\n",
    "# Because labels are a single column vector, we use a lower-case y\n",
    "\n",
    "label_vector_y = np_array[0:,-1:]\n",
    "\n",
    "label_vector_y.shape"
   ]
  },
  {
   "cell_type": "markdown",
   "metadata": {},
   "source": [
    "## Splitting our dataset into training and test dataset\n",
    "\n",
    "* There are many ways to split training and test dataset.\n",
    "* However, two things should be top of your list:\n",
    "  1. You **MUST** split your dataset into a training set and a test set if you want to train a Machine Learning model. Only then are you making sure that what you learn is generalisable. Not splitting the dataset is like learning last year's exam questions by heart -- and being surprised by new question in your exam.\n",
    "  2. You should **NOT** just take the first x% of the rows for one dataset and the remaining ones for the other datasets. Datasets are often ordered, e.g. by time. This means you would have a massive bias in your training dataset. Your training and your test dataset should BOTH be representative of the overall dataset.\n",
    "  \n",
    "In this case, we use a SciKitLearn method to randomly pick rows based on our parameters.\n",
    "But first, we need to import that function from SciKitLearn."
   ]
  },
  {
   "cell_type": "code",
   "execution_count": 67,
   "metadata": {
    "collapsed": true
   },
   "outputs": [],
   "source": [
    "# Import the method that allows us to split training and test data\n",
    "from sklearn.model_selection import train_test_split\n",
    "\n",
    "# Create 4 new numpy arrays by splitting our data into test and training data\n",
    "X_train, X_test, y_train, y_test = train_test_split(features_array_X, label_vector_y, test_size=0.33)"
   ]
  },
  {
   "cell_type": "markdown",
   "metadata": {},
   "source": [
    "A lot is going on in the single line of code above:\n",
    "* We started with a feature matrix and a label vector (2 elements)\n",
    "* It is not surprising that - if we split both into training and testing - we end up with 4 elements\n",
    "* These 4 elements are:\n",
    "  * X_train: the feature matrix of our training set\n",
    "  * X_test: the feature matrix of our test set\n",
    "  * y_train: the label vector of our training set\n",
    "  * y_test: the label vector of our test set\n",
    "* We created these by telling the train_test_split the following:\n",
    "  * Use \"features_array_X\" as the feature matrix\n",
    "  * Use \"label_vector_y\" as the label vector to work with\n",
    "  * Split the data randomly but make sure that the test dataset has the size of 0.33 = 33.3% of the overall dataset"
   ]
  },
  {
   "cell_type": "code",
   "execution_count": null,
   "metadata": {
    "collapsed": true
   },
   "outputs": [],
   "source": [
    "## Conclusion\n",
    "\n",
    "highly nonlinear\n",
    "Linear regression not best model for this relationship"
   ]
  }
 ],
 "metadata": {
  "kernelspec": {
   "display_name": "Python [conda env:py36ML]",
   "language": "python",
   "name": "conda-env-py36ML-py"
  },
  "language_info": {
   "codemirror_mode": {
    "name": "ipython",
    "version": 3
   },
   "file_extension": ".py",
   "mimetype": "text/x-python",
   "name": "python",
   "nbconvert_exporter": "python",
   "pygments_lexer": "ipython3",
   "version": "3.6.1"
  }
 },
 "nbformat": 4,
 "nbformat_minor": 2
}
