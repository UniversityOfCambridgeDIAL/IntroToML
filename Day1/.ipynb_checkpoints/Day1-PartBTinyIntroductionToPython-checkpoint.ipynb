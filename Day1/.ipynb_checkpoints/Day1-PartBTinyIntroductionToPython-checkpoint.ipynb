{
 "cells": [
  {
   "cell_type": "markdown",
   "metadata": {},
   "source": [
    "# Day 1 - Part B: Tiny Introduction to Python\n",
    "\n",
    "## Caveats\n",
    "* This is not a comprehensive introduction to Python but aims at merely providing you with just enough to understand the use of Machine Learning libraries.\n",
    "* If you write code, you will use libraries from other people.\n",
    "* If you use code from other people, you will have to get used to reading documentations of code.\n",
    "* Get used to reading those yourself and to googling your questions and error messages.\n",
    "* You can find the official documentation here: https://docs.python.org/3/\n",
    "* Stackoverflow is a great resource for technical problems.\n",
    "\n",
    "## There are still two version of Python (2.x and 3.x) - we use 3.x\n",
    "* There are still two version of Python being used in parallel. \n",
    "* We recommend to use Python 3.x instead of Python 2.x. \n",
    "* The code in our practical sessions will be based on Python 3.x.\n",
    "\n",
    "## How to run Python\n",
    "\n",
    "You can run Python in various ways, e.g. from the console or in Jupyter notebooks.\n",
    "\n",
    "### Console\n",
    "* On your Mac, it comes preinstalled: Just open the console, write python and hit enter\n",
    "\n",
    "<img src=\"images/PartB/python_console.png\" alt=\"Python console on Mac\" style=\"width: 600px;\"/>\n",
    "\n",
    "### Jupyter notebooks\n",
    "* For this lecture, we will use interactive Jupyter notebooks which can run Python but also allow for text and images\n",
    "* Furthermore, we use Jupyter notebooks that are hosted online and run in the cloud"
   ]
  },
  {
   "cell_type": "markdown",
   "metadata": {},
   "source": []
  },
  {
   "cell_type": "markdown",
   "metadata": {},
   "source": [
    "# If you want to run Python on your own machine\n",
    "\n",
    "## Python installation\n",
    "If you want to run Python on your own machine, you might have to install Python first: https://www.python.org/downloads/.\n",
    "\n",
    "## Conda\n",
    "We recommend the use of Anaconda to manage multiple installations of Python or different Python environments: \n",
    "https://www.anaconda.com/download/"
   ]
  },
  {
   "cell_type": "markdown",
   "metadata": {},
   "source": [
    "# Further resources\n",
    "\n",
    "1. Official Python 3 Documentation: https://docs.python.org/3/\n",
    "2. CUED Python introduction (Azure Notebook): https://notebooks.azure.com/garth-wells/libraries/CUED-IA-Computing-Michaelmas"
   ]
  },
  {
   "cell_type": "code",
   "execution_count": null,
   "metadata": {
    "collapsed": true
   },
   "outputs": [],
   "source": []
  }
 ],
 "metadata": {
  "kernelspec": {
   "display_name": "Python [conda env:py36ML]",
   "language": "python",
   "name": "conda-env-py36ML-py"
  },
  "language_info": {
   "codemirror_mode": {
    "name": "ipython",
    "version": 3
   },
   "file_extension": ".py",
   "mimetype": "text/x-python",
   "name": "python",
   "nbconvert_exporter": "python",
   "pygments_lexer": "ipython3",
   "version": "3.6.1"
  }
 },
 "nbformat": 4,
 "nbformat_minor": 2
}
