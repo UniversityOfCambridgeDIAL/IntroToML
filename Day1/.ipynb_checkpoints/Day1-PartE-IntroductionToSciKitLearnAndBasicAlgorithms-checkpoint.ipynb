{
 "cells": [
  {
   "cell_type": "markdown",
   "metadata": {},
   "source": [
    "# Day1 - Part E Introduction to SciKit Learn and basic algorithms\n",
    "\n",
    "These notebooks are an addition to the lecture slides.\n",
    "The idea is to apply practically what was taught theoretically / conceptually during the lecture.\n",
    "Please think critically and also crosscheck our text and code for errors."
   ]
  },
  {
   "cell_type": "markdown",
   "metadata": {},
   "source": [
    "## 1.0 Exploratory data analysis (EDA)\n",
    "\n",
    "Before we actually work with the data, we should have a careful look at the data. Let us try to import the data, examine it, visualise it, understand it, find potential problems like errors and missing data.\n",
    "\n",
    "### 1.1 The dataset\n",
    "\n",
    "* For the intitial exercises, we use a dataset about wine quality from the University of Massachusetts Amherst (http://mlr.cs.umass.edu/ml/machine-learning-databases/wine-quality/). \n",
    "* The dataset contains 1599 rows and 12 columns that describe different red wines.\n",
    "* We will figure out more about the dataset in our EDA."
   ]
  },
  {
   "cell_type": "markdown",
   "metadata": {},
   "source": [
    "## 1.2 Opening the dataset\n",
    "\n",
    "### 1.2.1 Importing dependencies for the EDA\n",
    "\n",
    "Please note: Normally, you import _ALL_ your dependencies at the top of your python script or Jupyter notebook. We will not do this here for didactic reasons. We will only import what we immediately require in the next steps, so you can more easily understand why we import something."
   ]
  },
  {
   "cell_type": "code",
   "execution_count": 2,
   "metadata": {
    "collapsed": true
   },
   "outputs": [],
   "source": [
    "# Pandas is a library that provides functionality similar to R - with dataframes that can contain different data types\n",
    "# Documentation: http://pandas.pydata.org/pandas-docs/stable/\n",
    "import pandas as pd"
   ]
  },
  {
   "cell_type": "markdown",
   "metadata": {},
   "source": [
    "### 1.2.2 Opening the dataset using Pandas\n",
    "We can load the dataset from its remote location"
   ]
  },
  {
   "cell_type": "code",
   "execution_count": 3,
   "metadata": {},
   "outputs": [
    {
     "name": "stdout",
     "output_type": "stream",
     "text": [
      "<class 'pandas.core.frame.DataFrame'>\n",
      "(1599, 1)\n",
      "  fixed acidity;\"volatile acidity\";\"citric acid\";\"residual sugar\";\"chlorides\";\"free sulfur dioxide\";\"total sulfur dioxide\";\"density\";\"pH\";\"sulphates\";\"alcohol\";\"quality\"\n",
      "0   7.4;0.7;0;1.9;0.076;11;34;0.9978;3.51;0.56;9.4;5                                                                                                                     \n",
      "1   7.8;0.88;0;2.6;0.098;25;67;0.9968;3.2;0.68;9.8;5                                                                                                                     \n",
      "2  7.8;0.76;0.04;2.3;0.092;15;54;0.997;3.26;0.65;...                                                                                                                     \n",
      "3  11.2;0.28;0.56;1.9;0.075;17;60;0.998;3.16;0.58...                                                                                                                     \n",
      "4   7.4;0.7;0;1.9;0.076;11;34;0.9978;3.51;0.56;9.4;5                                                                                                                     \n"
     ]
    }
   ],
   "source": [
    "dataset_url = 'http://mlr.cs.umass.edu/ml/machine-learning-databases/wine-quality/winequality-red.csv'\n",
    "data = pd.read_csv(dataset_url)\n",
    "\n",
    "# Print the data type of \"data\"\n",
    "print(type(data)) # We are dealing with a Pandas DataFrame\n",
    "\n",
    "# Print out the shape of the dataframe (number rows, number columns)\n",
    "print(data.shape)\n",
    "\n",
    "# Print out the first 5 rows and the column headers\n",
    "print(data.head(5))"
   ]
  },
  {
   "cell_type": "markdown",
   "metadata": {},
   "source": [
    "The shape of the DataFrame is not what we expected. There is only a single column. We can see that the columns are separated by \";\". So, we add this separator as a second parameter to our CSV reader."
   ]
  },
  {
   "cell_type": "code",
   "execution_count": 4,
   "metadata": {
    "scrolled": false
   },
   "outputs": [
    {
     "name": "stdout",
     "output_type": "stream",
     "text": [
      "<class 'pandas.core.frame.DataFrame'>\n"
     ]
    }
   ],
   "source": [
    "dataset_url = 'http://mlr.cs.umass.edu/ml/machine-learning-databases/wine-quality/winequality-red.csv'\n",
    "data = pd.read_csv(dataset_url, sep=';')\n",
    "\n",
    "# Print the data type of \"data\"\n",
    "print(type(data)) # We are dealing with a Pandas DataFrame"
   ]
  },
  {
   "cell_type": "markdown",
   "metadata": {},
   "source": [
    "The data type we are working with is a Pandas DataFrame. More on what you can do with Data Frames can be found in the [documentation of this data type](https://pandas.pydata.org/pandas-docs/stable/generated/pandas.DataFrame.html).\n",
    "\n",
    "A basic attribute is a DataFrame's shape:"
   ]
  },
  {
   "cell_type": "code",
   "execution_count": 5,
   "metadata": {},
   "outputs": [
    {
     "name": "stdout",
     "output_type": "stream",
     "text": [
      "(1599, 12)\n"
     ]
    }
   ],
   "source": [
    "# Print out the shape of the dataframe (number rows, number columns)\n",
    "print(data.shape)"
   ]
  },
  {
   "cell_type": "markdown",
   "metadata": {},
   "source": [
    "Now, we have 1599 rows and 12 columns which makes much more sense.\n",
    "\n",
    "We can use the method head(_n_) to display the top _n_ rows of a dataframe and the column headers:"
   ]
  },
  {
   "cell_type": "code",
   "execution_count": 6,
   "metadata": {},
   "outputs": [
    {
     "name": "stdout",
     "output_type": "stream",
     "text": [
      "   fixed acidity  volatile acidity  citric acid  residual sugar  chlorides  \\\n",
      "0            7.4              0.70         0.00             1.9      0.076   \n",
      "1            7.8              0.88         0.00             2.6      0.098   \n",
      "2            7.8              0.76         0.04             2.3      0.092   \n",
      "3           11.2              0.28         0.56             1.9      0.075   \n",
      "4            7.4              0.70         0.00             1.9      0.076   \n",
      "5            7.4              0.66         0.00             1.8      0.075   \n",
      "6            7.9              0.60         0.06             1.6      0.069   \n",
      "7            7.3              0.65         0.00             1.2      0.065   \n",
      "8            7.8              0.58         0.02             2.0      0.073   \n",
      "9            7.5              0.50         0.36             6.1      0.071   \n",
      "\n",
      "   free sulfur dioxide  total sulfur dioxide  density    pH  sulphates  \\\n",
      "0                 11.0                  34.0   0.9978  3.51       0.56   \n",
      "1                 25.0                  67.0   0.9968  3.20       0.68   \n",
      "2                 15.0                  54.0   0.9970  3.26       0.65   \n",
      "3                 17.0                  60.0   0.9980  3.16       0.58   \n",
      "4                 11.0                  34.0   0.9978  3.51       0.56   \n",
      "5                 13.0                  40.0   0.9978  3.51       0.56   \n",
      "6                 15.0                  59.0   0.9964  3.30       0.46   \n",
      "7                 15.0                  21.0   0.9946  3.39       0.47   \n",
      "8                  9.0                  18.0   0.9968  3.36       0.57   \n",
      "9                 17.0                 102.0   0.9978  3.35       0.80   \n",
      "\n",
      "   alcohol  quality  \n",
      "0      9.4        5  \n",
      "1      9.8        5  \n",
      "2      9.8        5  \n",
      "3      9.8        6  \n",
      "4      9.4        5  \n",
      "5      9.4        5  \n",
      "6      9.4        5  \n",
      "7     10.0        7  \n",
      "8      9.5        7  \n",
      "9     10.5        5  \n"
     ]
    }
   ],
   "source": [
    "# Print out the first x rows and the column headers\n",
    "# You can change the parameter to print out more or leave it away for default\n",
    "print(data.head(10))"
   ]
  },
  {
   "cell_type": "markdown",
   "metadata": {},
   "source": [
    "### 1.2.3 Critically examining the dataset\n",
    "\n",
    "* What are the dimensions of the dataset?\n",
    "* What does each column mean?\n",
    "* What the data types in each column?\n",
    "  * Numerical values\n",
    "    * Continuous values?\n",
    "    * Discrete values?\n",
    "  * Any non-numerical values, like category names or boolean values like \"true\"/\"false\"?\n",
    "* How is the data distributed? What are extreme values? Are any of the extreme values (maximum, minimum) surprising? E.g. sales revenue CAN indeed be negative; profit margins on products CAN indeed be negative!\n",
    "* What could we do with the dataset? Which questions could we ask?\n",
    "* Given that question, do we have a dataset for supervised or unsupervised learning? Are the correct \"answers\" provided in the data?\n",
    "\n",
    "One way to get a quick overview is to use the describe() method of Pandas dataframes:"
   ]
  },
  {
   "cell_type": "code",
   "execution_count": 7,
   "metadata": {},
   "outputs": [
    {
     "name": "stdout",
     "output_type": "stream",
     "text": [
      "       fixed acidity  volatile acidity  citric acid  residual sugar  \\\n",
      "count    1599.000000       1599.000000  1599.000000     1599.000000   \n",
      "mean        8.319637          0.527821     0.270976        2.538806   \n",
      "std         1.741096          0.179060     0.194801        1.409928   \n",
      "min         4.600000          0.120000     0.000000        0.900000   \n",
      "25%         7.100000          0.390000     0.090000        1.900000   \n",
      "50%         7.900000          0.520000     0.260000        2.200000   \n",
      "75%         9.200000          0.640000     0.420000        2.600000   \n",
      "max        15.900000          1.580000     1.000000       15.500000   \n",
      "\n",
      "         chlorides  free sulfur dioxide  total sulfur dioxide      density  \\\n",
      "count  1599.000000          1599.000000           1599.000000  1599.000000   \n",
      "mean      0.087467            15.874922             46.467792     0.996747   \n",
      "std       0.047065            10.460157             32.895324     0.001887   \n",
      "min       0.012000             1.000000              6.000000     0.990070   \n",
      "25%       0.070000             7.000000             22.000000     0.995600   \n",
      "50%       0.079000            14.000000             38.000000     0.996750   \n",
      "75%       0.090000            21.000000             62.000000     0.997835   \n",
      "max       0.611000            72.000000            289.000000     1.003690   \n",
      "\n",
      "                pH    sulphates      alcohol      quality  \n",
      "count  1599.000000  1599.000000  1599.000000  1599.000000  \n",
      "mean      3.311113     0.658149    10.422983     5.636023  \n",
      "std       0.154386     0.169507     1.065668     0.807569  \n",
      "min       2.740000     0.330000     8.400000     3.000000  \n",
      "25%       3.210000     0.550000     9.500000     5.000000  \n",
      "50%       3.310000     0.620000    10.200000     6.000000  \n",
      "75%       3.400000     0.730000    11.100000     6.000000  \n",
      "max       4.010000     2.000000    14.900000     8.000000  \n"
     ]
    }
   ],
   "source": [
    "print(data.describe())"
   ]
  },
  {
   "cell_type": "markdown",
   "metadata": {},
   "source": [
    "This gives us (per column):\n",
    "1. the number of data entries\n",
    "2. the arithmetic mean\n",
    "3. the standard deviation (a low standard deviation indicates that the data points tend to be close to the mean and vice versa)\n",
    "4. and we get the 'Five-number summary': min, lower quartile (25% percentile), median, upper quartile (75% percentile), max"
   ]
  },
  {
   "cell_type": "markdown",
   "metadata": {},
   "source": [
    "## 1.2.4 Visualising the dataset\n",
    "\n",
    "We can also visualise the dataset to get a visual impression of the distribution.\n",
    "For this, we need to import a visualisation library like matplotlib. Seaborn helps to beautify the results."
   ]
  },
  {
   "cell_type": "code",
   "execution_count": 8,
   "metadata": {
    "collapsed": true
   },
   "outputs": [],
   "source": [
    "# Here, we import matplotlib and give it a shorter name ('plt') that we can refer to in the code\n",
    "import matplotlib.pyplot as plt\n",
    "\n",
    "# We need to add the following line to tell matplotlib to just plot the figure right into the notebook\n",
    "%matplotlib inline\n",
    "\n",
    "# We add a style to our plots so they look nicer\n",
    "plt.style.use('ggplot')"
   ]
  },
  {
   "cell_type": "markdown",
   "metadata": {},
   "source": [
    "### Boxplots"
   ]
  },
  {
   "cell_type": "code",
   "execution_count": 9,
   "metadata": {},
   "outputs": [
    {
     "data": {
      "text/plain": [
       "<matplotlib.axes._subplots.AxesSubplot at 0x110c4dfd0>"
      ]
     },
     "execution_count": 9,
     "metadata": {},
     "output_type": "execute_result"
    },
    {
     "data": {
      "text/plain": [
       "<matplotlib.figure.Figure at 0x110ae7828>"
      ]
     },
     "metadata": {},
     "output_type": "display_data"
    },
    {
     "data": {
      "image/png": "[encoded data removed]",
      "text/plain": [
       "<matplotlib.figure.Figure at 0x110c4d9b0>"
      ]
     },
     "metadata": {},
     "output_type": "display_data"
    }
   ],
   "source": [
    "plt.figure();\n",
    "\n",
    "data.plot.box(figsize=(40,20))"
   ]
  },
  {
   "cell_type": "markdown",
   "metadata": {},
   "source": [
    "### Histograms\n",
    "We can also plot individual columns as histograms."
   ]
  },
  {
   "cell_type": "code",
   "execution_count": 10,
   "metadata": {},
   "outputs": [
    {
     "data": {
      "text/plain": [
       "array([[<matplotlib.axes._subplots.AxesSubplot object at 0x110bc8f28>]], dtype=object)"
      ]
     },
     "execution_count": 10,
     "metadata": {},
     "output_type": "execute_result"
    },
    {
     "data": {
      "image/png": "[encoded data removed]",
      "text/plain": [
       "<matplotlib.figure.Figure at 0x10d4f08d0>"
      ]
     },
     "metadata": {},
     "output_type": "display_data"
    }
   ],
   "source": [
    "data.hist(column='total sulfur dioxide', bins=50)"
   ]
  },
  {
   "cell_type": "markdown",
   "metadata": {},
   "source": [
    "## 1.3 Trying to formulate a problem statement\n",
    "\n",
    "From examining the dataset alone, we can conclude that the column 'quality' could be considered our response variable (also called: target variable or the _dependent_ variable). The other columns could potentially be useful as features (or: _independent_ variables or predictor variables) to predict the quality of the wine.\n",
    "\n",
    "<strong>Ask yourselves: As what type of Machine Learning can we consider the problem (unsupervised learning, supervised learning, reinforcement learning)? As what type of Machine Learning problem can we phrase this (regression/classification; clustering/dimensionality reduction)?</strong>\n",
    "\n",
    "Options:\n",
    "* We could compare wines and create clusters of similar wines (unsupervised learning --> clustering).\n",
    "* We could treat 'quality' as a continuous variable even though it is not. Because labels are provided, we could then treat the problem as a regression one (supervised learning --> regression).\n",
    "* We could also treat 'quality' as a categorical variable. Then we would restrict ourselves to classification methods (supervised learning --> classification).\n",
    "* We could try to reduce the dimensionality of the problem, for example, because we want to plot clusters of similar wines onto a 3D chart (unsupervised learning --> dimensionality reduction).\n",
    "\n",
    "As you can see, without a given question there is not single correct answer and multiple options can make sense.\n",
    "\n",
    "### 1.3.1 Our problem statement\n",
    "\n",
    "* Since we are given the correct answers (labels) in the dataset, we choose to use them to train a model (supervised learning).\n",
    "* Within supervised learning, there are only two types of sub-problems: regression (if the response variable is continuous) and classification (if the response variable is discrete).\n",
    "* The boundaries between classification and regression can be blurry, and the distinction for our dataset is a bit tricky.\n",
    "* From examining the dataset, we see that the 'quality\" values are integers, and not continuous values. \n",
    "* We can assume that these values have an order: from 3 (best or worst quality) to 8 (worst or best quality). Variables with that characteristic are called _ordinal_.\n",
    "\n",
    "Just from examining the dataset, we do not know that 'quality' is indeed an ordinal variable with possible rankings from 1 (worst) to 10 (best), and that each variety of wine is tasted by three independent tasters and the final rank assigned is the median rank given by the tasters.\n",
    "\n",
    "We choose to treat the problem as a regression problem for now. Should we need discrete prediction values, we should be able to discretise our prediction by rounding to the nearest integer (4.3 --> 4.0). (Please note: This would not be possible in a dataset with non-ordinal variables like types of fruit. The space \"between\" two types of fruit is not meaningfully defined.)\n",
    "\n"
   ]
  },
  {
   "cell_type": "code",
   "execution_count": 11,
   "metadata": {
    "collapsed": true
   },
   "outputs": [],
   "source": [
    "# NumPy is a library for scientific computing with Python and provides methods to work with arrays and matrices\n",
    "# Documentation: https://docs.scipy.org/doc/\n",
    "import numpy as np\n",
    "\n",
    "import sklearn\n",
    "\n"
   ]
  },
  {
   "cell_type": "markdown",
   "metadata": {},
   "source": [
    "## 1.0 Clustering"
   ]
  },
  {
   "cell_type": "markdown",
   "metadata": {},
   "source": [
    "### 1.1 Clustering with kNN (k nearest neighbours)"
   ]
  },
  {
   "cell_type": "markdown",
   "metadata": {},
   "source": [
    "### 1.2 Clustering with kMeans"
   ]
  },
  {
   "cell_type": "markdown",
   "metadata": {},
   "source": [
    "### 1.3 Clustering with Decision Trees"
   ]
  },
  {
   "cell_type": "code",
   "execution_count": null,
   "metadata": {
    "collapsed": true
   },
   "outputs": [],
   "source": []
  },
  {
   "cell_type": "code",
   "execution_count": null,
   "metadata": {
    "collapsed": true
   },
   "outputs": [],
   "source": []
  }
 ],
 "metadata": {
  "kernelspec": {
   "display_name": "Python [conda env:py36ML]",
   "language": "python",
   "name": "conda-env-py36ML-py"
  },
  "language_info": {
   "codemirror_mode": {
    "name": "ipython",
    "version": 3
   },
   "file_extension": ".py",
   "mimetype": "text/x-python",
   "name": "python",
   "nbconvert_exporter": "python",
   "pygments_lexer": "ipython3",
   "version": "3.6.1"
  }
 },
 "nbformat": 4,
 "nbformat_minor": 2
}
