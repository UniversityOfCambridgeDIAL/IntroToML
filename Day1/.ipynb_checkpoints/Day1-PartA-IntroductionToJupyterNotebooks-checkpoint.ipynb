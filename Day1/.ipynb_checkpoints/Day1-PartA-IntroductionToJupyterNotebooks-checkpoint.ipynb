{
 "cells": [
  {
   "cell_type": "markdown",
   "metadata": {},
   "source": [
    "# Day 1 - Part A: Tiny Introduction to Jupyter Notebooks\n",
    "\n",
    "## Useful resources if you want to look up something\n",
    "\n",
    "1. http://jupyter.org/ (Jupyter notebooks)\n",
    "2. https://notebooks.azure.com (Jupyter notebooks hosted online in the cloud by Microsoft)"
   ]
  },
  {
   "cell_type": "markdown",
   "metadata": {},
   "source": [
    "# 1.0 Top-level summary\n",
    "\n",
    "## 1.1 What is Jupyter\n",
    "* Project Jupyter is a non-profit, open-source project.\n",
    "* Born out of the IPython Project in 2014\n",
    "* The project evolved to support interactive data science and scientific computing across all major programming languages, including Python\n",
    "* More on Jupyter: http://jupyter.org/about.html\n",
    "\n",
    "## 1.2 What can Jupyter notebooks do?\n",
    "* As you can see, Jupyter notebooks are interactive notebooks run in the browser\n",
    "* They consist of stacked cells\n",
    "* Basically, each cell can either contain:\n",
    "  * descriptive elements (text, images, etc.) in the Markdown language; OR...\n",
    "  * code that you want to execute (following the standards of the language you are running, in our case: Python 3.x)\n",
    "* The benefit is that you can combine rich explanatory elements like animations and text with code.\n",
    "\n",
    "## 1.3 Markdown syntax\n",
    "* Markdown is a superset of HTML and allows you to add mark-ups.\n",
    "  * Docs: http://jupyter-notebook.readthedocs.io/en/stable/examples/Notebook/Working%20With%20Markdown%20Cells.html\n",
    "* Since Markdown is a superset of HTML, HTML commands are also available.\n",
    "  * Introduction to HTML: https://developer.mozilla.org/en-US/docs/Learn/Getting_started_with_the_web/HTML_basics"
   ]
  },
  {
   "cell_type": "markdown",
   "metadata": {},
   "source": [
    "# 2.0 Practice\n",
    "\n",
    "* Most of the commands are available via the menu bar on top\n",
    "* You can use the menu bar to insert cells, delete cells, or run the notebook etc.\n",
    "\n",
    "## 2.1 Entering and leaving a cell\n",
    "* You can just double-click on a cell to edit it.\n",
    "* To confirm your changes and leave the cell, you hit Shift + Enter.\n",
    "\n",
    "<strong>Try it with this cell! Edit it and then confirm your changes with Shift + Enter.</strong>"
   ]
  },
  {
   "cell_type": "markdown",
   "metadata": {},
   "source": [
    "## 2.2 Inserting a cell\n",
    "\n",
    "Please add a cell below this one and add some text.\n",
    "For this, you do the following:\n",
    "1. First click on this cell here and thereby select it\n",
    "2. Then go to \"Insert\" in the menu and click: \"Insert cell below\"\n",
    "3. Now, a new cell was created. By default, it is set to a code cell.\n",
    "4. Enter your text using the Markdown syntax\n",
    "5. Before you confirm your changes, make sure you change the type of the cell to \"Markdown\" (in the dropdown of the menu bar)\n",
    "6. Confirm your changes with Shift + Enter\n",
    "\n",
    "<strong>Please try to insert a new cell below this one and add some text.</strong>\n",
    "\n",
    "If you want to delete a cell, select it, and then go to EDIT --> Delete Cells."
   ]
  },
  {
   "cell_type": "markdown",
   "metadata": {
    "collapsed": true
   },
   "source": [
    "## 2.3 Running code\n",
    "\n",
    "Running code is easy:\n",
    "\n",
    "1. Insert a new cell\n",
    "2. You can now add some code, like ```1+1```\n",
    "\n",
    "By default, for our notebooks, the code will assumed to be written in Python 3.x.\n",
    "Just make sure your cell is actually formatted as a code cell (dropbox in the menu bar).\n",
    "\n",
    "To run the code, just exit the cell with Shift + Enter."
   ]
  },
  {
   "cell_type": "code",
   "execution_count": 3,
   "metadata": {},
   "outputs": [
    {
     "data": {
      "text/plain": [
       "2"
      ]
     },
     "execution_count": 3,
     "metadata": {},
     "output_type": "execute_result"
    }
   ],
   "source": [
    "# Here, you can just write Python code\n",
    "\n",
    "# Let's just use it as a calculator for now...\n",
    "\n",
    "1+1"
   ]
  },
  {
   "cell_type": "markdown",
   "metadata": {},
   "source": [
    "<strong>Please try to add a cell below and add a new cell for code.</strong>"
   ]
  },
  {
   "cell_type": "markdown",
   "metadata": {},
   "source": [
    "Jupyter notebooks execute the code of all cells as if the code was written in a single normal document without the markup. This means you can refer to variables you have defined in a cell further above."
   ]
  },
  {
   "cell_type": "code",
   "execution_count": 12,
   "metadata": {
    "collapsed": true
   },
   "outputs": [],
   "source": [
    "my_height = 185.0"
   ]
  },
  {
   "cell_type": "markdown",
   "metadata": {},
   "source": [
    "We have defined a variable that we can refer to in the cell below."
   ]
  },
  {
   "cell_type": "code",
   "execution_count": 13,
   "metadata": {},
   "outputs": [
    {
     "data": {
      "text/plain": [
       "185.0"
      ]
     },
     "execution_count": 13,
     "metadata": {},
     "output_type": "execute_result"
    }
   ],
   "source": [
    "my_height"
   ]
  },
  {
   "cell_type": "markdown",
   "metadata": {},
   "source": [
    "If you have updated a cell, you might have to make sure that the whole code from the top to the current cell is run again. You can do so by clicking Cell --> Run All or Run All Above. Individual cells are run again just by pressing Shift + Enter."
   ]
  },
  {
   "cell_type": "markdown",
   "metadata": {},
   "source": [
    "## 2.4 Save\n",
    "To save, press on the disk icon in the upper left corder or select File --> Save and Checkpoint."
   ]
  },
  {
   "cell_type": "markdown",
   "metadata": {},
   "source": [
    "## 2.5 Auto-complete\n",
    "Jupyter notebooks have a very useful auto-complete function.\n",
    "This saves time when you rewrite variable names and reduces the risk of typos.\n",
    "Press \"tab\" to auto-complete."
   ]
  },
  {
   "cell_type": "code",
   "execution_count": 11,
   "metadata": {},
   "outputs": [],
   "source": [
    "# We have defined the variable my_height above.\n",
    "# In the line below, start to write the variable name. Stop after the first two letters (my) and then press Tab.\n"
   ]
  }
 ],
 "metadata": {
  "kernelspec": {
   "display_name": "Python [conda env:py36ML]",
   "language": "python",
   "name": "conda-env-py36ML-py"
  },
  "language_info": {
   "codemirror_mode": {
    "name": "ipython",
    "version": 3
   },
   "file_extension": ".py",
   "mimetype": "text/x-python",
   "name": "python",
   "nbconvert_exporter": "python",
   "pygments_lexer": "ipython3",
   "version": "3.6.1"
  }
 },
 "nbformat": 4,
 "nbformat_minor": 2
}
