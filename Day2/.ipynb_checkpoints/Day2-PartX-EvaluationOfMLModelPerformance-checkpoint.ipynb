{
 "cells": [
  {
   "cell_type": "markdown",
   "metadata": {},
   "source": [
    "# Day 2: Part X - Evaluation of Machine Learning Model Performance\n",
    "\n",
    "This notebook will present how to evaluate the machine learning model's prediction performance. We will do so by computing R-squared and mean squared error for regression models; and accuracy, precision and recall for classification models. The notebook focuses mostly on the performance measures; data preprocessing is done to some extend, however is not extensive and the final performance of the machine learning models might not be the best that can be achieved. You are free to play with the datasets on your own to try to improve the prediction performance of already used models, or use different ones.\n",
    "\n",
    "## Importing libraries\n",
    "Below you can find all libraries that will be used in this notebook. You should run it everytime you open the notebook, otherwise some functions might not work."
   ]
  },
  {
   "cell_type": "code",
   "execution_count": 12,
   "metadata": {
    "collapsed": true
   },
   "outputs": [],
   "source": [
    "import pandas as pd\n",
    "import numpy as np\n",
    "from sklearn import preprocessing\n",
    "from sklearn.model_selection import train_test_split\n",
    "from sklearn import linear_model\n",
    "from sklearn.metrics import r2_score\n",
    "from sklearn.metrics import mean_squared_error\n",
    "import seaborn as sns\n",
    "\n",
    "import matplotlib.pyplot as plt"
   ]
  },
  {
   "cell_type": "markdown",
   "metadata": {},
   "source": [
    "## Regression\n",
    "\n",
    "This section presents how regression model can be evaluated using R-squared and Mean Squared Error. We will use wine quality dataset for this purpose."
   ]
  },
  {
   "cell_type": "code",
   "execution_count": 13,
   "metadata": {},
   "outputs": [
    {
     "data": {
      "text/html": [
       "<div>\n",
       "<style>\n",
       "    .dataframe thead tr:only-child th {\n",
       "        text-align: right;\n",
       "    }\n",
       "\n",
       "    .dataframe thead th {\n",
       "        text-align: left;\n",
       "    }\n",
       "\n",
       "    .dataframe tbody tr th {\n",
       "        vertical-align: top;\n",
       "    }\n",
       "</style>\n",
       "<table border=\"1\" class=\"dataframe\">\n",
       "  <thead>\n",
       "    <tr style=\"text-align: right;\">\n",
       "      <th></th>\n",
       "      <th>fixed acidity</th>\n",
       "      <th>volatile acidity</th>\n",
       "      <th>citric acid</th>\n",
       "      <th>residual sugar</th>\n",
       "      <th>chlorides</th>\n",
       "      <th>free sulfur dioxide</th>\n",
       "      <th>total sulfur dioxide</th>\n",
       "      <th>density</th>\n",
       "      <th>pH</th>\n",
       "      <th>sulphates</th>\n",
       "      <th>alcohol</th>\n",
       "      <th>quality</th>\n",
       "    </tr>\n",
       "  </thead>\n",
       "  <tbody>\n",
       "    <tr>\n",
       "      <th>0</th>\n",
       "      <td>7.4</td>\n",
       "      <td>0.70</td>\n",
       "      <td>0.00</td>\n",
       "      <td>1.9</td>\n",
       "      <td>0.076</td>\n",
       "      <td>11.0</td>\n",
       "      <td>34.0</td>\n",
       "      <td>0.9978</td>\n",
       "      <td>3.51</td>\n",
       "      <td>0.56</td>\n",
       "      <td>9.4</td>\n",
       "      <td>5</td>\n",
       "    </tr>\n",
       "    <tr>\n",
       "      <th>1</th>\n",
       "      <td>7.8</td>\n",
       "      <td>0.88</td>\n",
       "      <td>0.00</td>\n",
       "      <td>2.6</td>\n",
       "      <td>0.098</td>\n",
       "      <td>25.0</td>\n",
       "      <td>67.0</td>\n",
       "      <td>0.9968</td>\n",
       "      <td>3.20</td>\n",
       "      <td>0.68</td>\n",
       "      <td>9.8</td>\n",
       "      <td>5</td>\n",
       "    </tr>\n",
       "    <tr>\n",
       "      <th>2</th>\n",
       "      <td>7.8</td>\n",
       "      <td>0.76</td>\n",
       "      <td>0.04</td>\n",
       "      <td>2.3</td>\n",
       "      <td>0.092</td>\n",
       "      <td>15.0</td>\n",
       "      <td>54.0</td>\n",
       "      <td>0.9970</td>\n",
       "      <td>3.26</td>\n",
       "      <td>0.65</td>\n",
       "      <td>9.8</td>\n",
       "      <td>5</td>\n",
       "    </tr>\n",
       "    <tr>\n",
       "      <th>3</th>\n",
       "      <td>11.2</td>\n",
       "      <td>0.28</td>\n",
       "      <td>0.56</td>\n",
       "      <td>1.9</td>\n",
       "      <td>0.075</td>\n",
       "      <td>17.0</td>\n",
       "      <td>60.0</td>\n",
       "      <td>0.9980</td>\n",
       "      <td>3.16</td>\n",
       "      <td>0.58</td>\n",
       "      <td>9.8</td>\n",
       "      <td>6</td>\n",
       "    </tr>\n",
       "    <tr>\n",
       "      <th>4</th>\n",
       "      <td>7.4</td>\n",
       "      <td>0.70</td>\n",
       "      <td>0.00</td>\n",
       "      <td>1.9</td>\n",
       "      <td>0.076</td>\n",
       "      <td>11.0</td>\n",
       "      <td>34.0</td>\n",
       "      <td>0.9978</td>\n",
       "      <td>3.51</td>\n",
       "      <td>0.56</td>\n",
       "      <td>9.4</td>\n",
       "      <td>5</td>\n",
       "    </tr>\n",
       "  </tbody>\n",
       "</table>\n",
       "</div>"
      ],
      "text/plain": [
       "   fixed acidity  volatile acidity  citric acid  residual sugar  chlorides  \\\n",
       "0            7.4              0.70         0.00             1.9      0.076   \n",
       "1            7.8              0.88         0.00             2.6      0.098   \n",
       "2            7.8              0.76         0.04             2.3      0.092   \n",
       "3           11.2              0.28         0.56             1.9      0.075   \n",
       "4            7.4              0.70         0.00             1.9      0.076   \n",
       "\n",
       "   free sulfur dioxide  total sulfur dioxide  density    pH  sulphates  \\\n",
       "0                 11.0                  34.0   0.9978  3.51       0.56   \n",
       "1                 25.0                  67.0   0.9968  3.20       0.68   \n",
       "2                 15.0                  54.0   0.9970  3.26       0.65   \n",
       "3                 17.0                  60.0   0.9980  3.16       0.58   \n",
       "4                 11.0                  34.0   0.9978  3.51       0.56   \n",
       "\n",
       "   alcohol  quality  \n",
       "0      9.4        5  \n",
       "1      9.8        5  \n",
       "2      9.8        5  \n",
       "3      9.8        6  \n",
       "4      9.4        5  "
      ]
     },
     "execution_count": 13,
     "metadata": {},
     "output_type": "execute_result"
    }
   ],
   "source": [
    "dataset_url = 'http://mlr.cs.umass.edu/ml/machine-learning-databases/wine-quality/winequality-red.csv'\n",
    "data = pd.read_csv(dataset_url, sep=';')\n",
    "\n",
    "data.head()"
   ]
  },
  {
   "cell_type": "markdown",
   "metadata": {},
   "source": [
    "We will try to predict quality of the wine based on other characteristics, therefore we will pop the column from the data frame."
   ]
  },
  {
   "cell_type": "code",
   "execution_count": 14,
   "metadata": {
    "collapsed": true
   },
   "outputs": [],
   "source": [
    "target = data.pop('quality')"
   ]
  },
  {
   "cell_type": "markdown",
   "metadata": {},
   "source": [
    "Now, we will normalise the feature vector, column by column."
   ]
  },
  {
   "cell_type": "code",
   "execution_count": 15,
   "metadata": {},
   "outputs": [
    {
     "data": {
      "text/html": [
       "<div>\n",
       "<style>\n",
       "    .dataframe thead tr:only-child th {\n",
       "        text-align: right;\n",
       "    }\n",
       "\n",
       "    .dataframe thead th {\n",
       "        text-align: left;\n",
       "    }\n",
       "\n",
       "    .dataframe tbody tr th {\n",
       "        vertical-align: top;\n",
       "    }\n",
       "</style>\n",
       "<table border=\"1\" class=\"dataframe\">\n",
       "  <thead>\n",
       "    <tr style=\"text-align: right;\">\n",
       "      <th></th>\n",
       "      <th>fixed acidity</th>\n",
       "      <th>volatile acidity</th>\n",
       "      <th>citric acid</th>\n",
       "      <th>residual sugar</th>\n",
       "      <th>chlorides</th>\n",
       "      <th>free sulfur dioxide</th>\n",
       "      <th>total sulfur dioxide</th>\n",
       "      <th>density</th>\n",
       "      <th>pH</th>\n",
       "      <th>sulphates</th>\n",
       "      <th>alcohol</th>\n",
       "    </tr>\n",
       "  </thead>\n",
       "  <tbody>\n",
       "    <tr>\n",
       "      <th>0</th>\n",
       "      <td>0.021772</td>\n",
       "      <td>0.031409</td>\n",
       "      <td>0.000000</td>\n",
       "      <td>0.016363</td>\n",
       "      <td>0.019136</td>\n",
       "      <td>0.014471</td>\n",
       "      <td>0.014936</td>\n",
       "      <td>0.025034</td>\n",
       "      <td>0.026481</td>\n",
       "      <td>0.020606</td>\n",
       "      <td>0.022436</td>\n",
       "    </tr>\n",
       "    <tr>\n",
       "      <th>1</th>\n",
       "      <td>0.022949</td>\n",
       "      <td>0.039485</td>\n",
       "      <td>0.000000</td>\n",
       "      <td>0.022391</td>\n",
       "      <td>0.024676</td>\n",
       "      <td>0.032889</td>\n",
       "      <td>0.029433</td>\n",
       "      <td>0.025009</td>\n",
       "      <td>0.024142</td>\n",
       "      <td>0.025022</td>\n",
       "      <td>0.023391</td>\n",
       "    </tr>\n",
       "    <tr>\n",
       "      <th>2</th>\n",
       "      <td>0.022949</td>\n",
       "      <td>0.034101</td>\n",
       "      <td>0.002998</td>\n",
       "      <td>0.019808</td>\n",
       "      <td>0.023165</td>\n",
       "      <td>0.019733</td>\n",
       "      <td>0.023722</td>\n",
       "      <td>0.025014</td>\n",
       "      <td>0.024595</td>\n",
       "      <td>0.023918</td>\n",
       "      <td>0.023391</td>\n",
       "    </tr>\n",
       "    <tr>\n",
       "      <th>3</th>\n",
       "      <td>0.032952</td>\n",
       "      <td>0.012563</td>\n",
       "      <td>0.041968</td>\n",
       "      <td>0.016363</td>\n",
       "      <td>0.018885</td>\n",
       "      <td>0.022364</td>\n",
       "      <td>0.026358</td>\n",
       "      <td>0.025039</td>\n",
       "      <td>0.023841</td>\n",
       "      <td>0.021342</td>\n",
       "      <td>0.023391</td>\n",
       "    </tr>\n",
       "    <tr>\n",
       "      <th>4</th>\n",
       "      <td>0.021772</td>\n",
       "      <td>0.031409</td>\n",
       "      <td>0.000000</td>\n",
       "      <td>0.016363</td>\n",
       "      <td>0.019136</td>\n",
       "      <td>0.014471</td>\n",
       "      <td>0.014936</td>\n",
       "      <td>0.025034</td>\n",
       "      <td>0.026481</td>\n",
       "      <td>0.020606</td>\n",
       "      <td>0.022436</td>\n",
       "    </tr>\n",
       "  </tbody>\n",
       "</table>\n",
       "</div>"
      ],
      "text/plain": [
       "   fixed acidity  volatile acidity  citric acid  residual sugar  chlorides  \\\n",
       "0       0.021772          0.031409     0.000000        0.016363   0.019136   \n",
       "1       0.022949          0.039485     0.000000        0.022391   0.024676   \n",
       "2       0.022949          0.034101     0.002998        0.019808   0.023165   \n",
       "3       0.032952          0.012563     0.041968        0.016363   0.018885   \n",
       "4       0.021772          0.031409     0.000000        0.016363   0.019136   \n",
       "\n",
       "   free sulfur dioxide  total sulfur dioxide   density        pH  sulphates  \\\n",
       "0             0.014471              0.014936  0.025034  0.026481   0.020606   \n",
       "1             0.032889              0.029433  0.025009  0.024142   0.025022   \n",
       "2             0.019733              0.023722  0.025014  0.024595   0.023918   \n",
       "3             0.022364              0.026358  0.025039  0.023841   0.021342   \n",
       "4             0.014471              0.014936  0.025034  0.026481   0.020606   \n",
       "\n",
       "    alcohol  \n",
       "0  0.022436  \n",
       "1  0.023391  \n",
       "2  0.023391  \n",
       "3  0.023391  \n",
       "4  0.022436  "
      ]
     },
     "execution_count": 15,
     "metadata": {},
     "output_type": "execute_result"
    }
   ],
   "source": [
    "for column in data.columns:\n",
    "    vector = data[column].values.reshape(1, len(data[column]))\n",
    "    normalized_vector = preprocessing.normalize(vector, norm=\"l2\")\n",
    "    data[column] = normalized_vector.reshape(len(data[column]), 1)\n",
    "data.head()"
   ]
  },
  {
   "cell_type": "markdown",
   "metadata": {},
   "source": [
    "Splitting into train, cross-validation, and test datasets."
   ]
  },
  {
   "cell_type": "code",
   "execution_count": 16,
   "metadata": {},
   "outputs": [
    {
     "name": "stdout",
     "output_type": "stream",
     "text": [
      "(1151, 11) (1151,) (288, 11) (288,) (160, 11) (160,)\n"
     ]
    }
   ],
   "source": [
    "# split into (train + cross validation) and test sets\n",
    "X_x, X_test, y_x, y_test = train_test_split(data, target, test_size=0.1, random_state=42)\n",
    "\n",
    "# split into train and cross validation\n",
    "X_train, X_cv, y_train, y_cv = train_test_split(X_x, y_x, test_size=0.2, random_state=42)\n",
    "\n",
    "print(X_train.shape, y_train.shape, X_cv.shape, y_cv.shape, X_test.shape, y_test.shape)"
   ]
  },
  {
   "cell_type": "markdown",
   "metadata": {},
   "source": [
    "Now, we will gradually include column by column in our prediction model. We will start with *fixed acidicity*, then we will add *volatile acidity*, etc.\n",
    "\n",
    "First, we will inspect the columns:"
   ]
  },
  {
   "cell_type": "code",
   "execution_count": 17,
   "metadata": {},
   "outputs": [
    {
     "data": {
      "text/plain": [
       "Index(['fixed acidity', 'volatile acidity', 'citric acid', 'residual sugar',\n",
       "       'chlorides', 'free sulfur dioxide', 'total sulfur dioxide', 'density',\n",
       "       'pH', 'sulphates', 'alcohol'],\n",
       "      dtype='object')"
      ]
     },
     "execution_count": 17,
     "metadata": {},
     "output_type": "execute_result"
    }
   ],
   "source": [
    "X_train.columns"
   ]
  },
  {
   "cell_type": "markdown",
   "metadata": {},
   "source": [
    "We will create a list of \"no_features\" where we will specify the indexes of columns that will be included in the regresson model."
   ]
  },
  {
   "cell_type": "code",
   "execution_count": 18,
   "metadata": {},
   "outputs": [
    {
     "data": {
      "text/plain": [
       "[1, 2, 3, 4, 5, 6, 7, 8, 9, 10, 11]"
      ]
     },
     "execution_count": 18,
     "metadata": {},
     "output_type": "execute_result"
    }
   ],
   "source": [
    "no_features = [i for i in range(1, 12)]\n",
    "no_features"
   ]
  },
  {
   "cell_type": "markdown",
   "metadata": {},
   "source": [
    "Now, we will create four arrays in which we will store the performance of the model during each iteration: *r2_train*, *r2_cv*, *mean_2_error_train*, and *mean_2_error_cv*. In each iteration we will slice the original dataset to include only specific columns by using *new_x_train = X_train[data_columns[:i]]*. We will train our model on *new_x_train* variable instead of *X_train*.\n",
    "\n",
    "After obtaining prediction values for the train and cross-valisation datasets, we will round the values using ** *round()* ** function. Rounding will be performed because wine quality feature is an integer, and linear regresion provides prediction values as floats e.g. 5.6.\n",
    "\n",
    "In each iteration we will compute the R-square and Mean Squared Error by executing functions ** *r2_score( true_value, predicted_value)* ** and ** *mean_squared_error( true_value, predicted_value)* **for both training and cross-validation sets.\n",
    "\n",
    "Both metrics will be appended to *r2_train*, *r2_cv*, *mean_2_error_train*, and *mean_2_error_cv* lists and plotted to observe how the error and R-squared improves while including more features."
   ]
  },
  {
   "cell_type": "code",
   "execution_count": 19,
   "metadata": {},
   "outputs": [],
   "source": [
    "r2_train = []\n",
    "r2_cv = []\n",
    "mean_2_error_train = []\n",
    "mean_2_error_cv = []\n",
    "\n",
    "data_columns = X_train.columns\n",
    "\n",
    "for i in no_features:\n",
    "    new_x_train = X_train[data_columns[:i]]\n",
    "    new_x_cv = X_cv[data_columns[:i]]\n",
    "    \n",
    "    regression = linear_model.LinearRegression()\n",
    "    regression.fit(new_x_train, y_train)\n",
    "    \n",
    "    y_train_pred = regression.predict(new_x_train)\n",
    "    y_cv_pred = regression.predict(new_x_cv)\n",
    "    \n",
    "    y_train_pred = y_train_pred.round()\n",
    "    y_cv_pred = y_cv_pred.round()\n",
    "    \n",
    "    r2_score_train = r2_score(y_train, y_train_pred)\n",
    "    r2_score_cv = r2_score(y_cv, y_cv_pred)\n",
    "    \n",
    "    m2e_train = mean_squared_error(y_train, y_train_pred)\n",
    "    m2e_cv = mean_squared_error(y_cv, y_cv_pred)\n",
    "    \n",
    "    r2_train.append(r2_score_train)\n",
    "    r2_cv.append(r2_score_cv)\n",
    "    mean_2_error_train.append(m2e_train)\n",
    "    mean_2_error_cv.append(m2e_cv)"
   ]
  },
  {
   "cell_type": "markdown",
   "metadata": {},
   "source": [
    "Now, we can plot our R-square and Mean Squared Erorr using matplotlib"
   ]
  },
  {
   "cell_type": "code",
   "execution_count": 20,
   "metadata": {},
   "outputs": [
    {
     "data": {
      "image/png": "[encoded data removed]",
      "text/plain": [
       "<matplotlib.figure.Figure at 0x1a174e1860>"
      ]
     },
     "metadata": {},
     "output_type": "display_data"
    },
    {
     "data": {
      "image/png": "[encoded data removed]",
      "text/plain": [
       "<matplotlib.figure.Figure at 0x1a174f9780>"
      ]
     },
     "metadata": {},
     "output_type": "display_data"
    }
   ],
   "source": [
    "plt.figure() \n",
    "plt.plot(range(0, len(r2_train)), r2_train, range(0, len(r2_cv)), r2_cv)\n",
    "plt.title(\"Linear Regression R^2\")\n",
    "plt.legend(['TRAIN', 'CROSS-VALIDATION'])\n",
    "plt.show()\n",
    "\n",
    "plt.figure()\n",
    "plt.plot(range(0, len(mean_2_error_train)), mean_2_error_train, range(0, len(mean_2_error_cv)), mean_2_error_cv)\n",
    "plt.title(\"Linear Regression Mean Squared Error\")\n",
    "plt.legend(['TRAIN', 'CROSS-VALIDATION'])\n",
    "plt.show()"
   ]
  },
  {
   "cell_type": "markdown",
   "metadata": {},
   "source": [
    " Can you try to describe what happens with the R-squared and Mean Squared Errors while we add more features? Are they increasing or decreasing? Is it desirable behaviour?\n",
    " \n",
    " After choosing number of features and setting parameters, we can evaluate our model on the test set."
   ]
  },
  {
   "cell_type": "code",
   "execution_count": 21,
   "metadata": {},
   "outputs": [
    {
     "name": "stdout",
     "output_type": "stream",
     "text": [
      "R^2: 0.316119210727\n",
      "MSE: 0.45625\n"
     ]
    }
   ],
   "source": [
    "regression = linear_model.LinearRegression()\n",
    "regression.fit(X_train, y_train)\n",
    "    \n",
    "y_test_pred = regression.predict(X_test)\n",
    "y_test_pred = y_test_pred.round()\n",
    "\n",
    "print(\"R^2:\", r2_score(y_test, y_test_pred))\n",
    "print(\"MSE:\", mean_squared_error(y_test, y_test_pred))"
   ]
  },
  {
   "cell_type": "markdown",
   "metadata": {},
   "source": [
    "Which yields similar performance. You are free to try other machine learning models to check if they can improve prediction performance."
   ]
  },
  {
   "cell_type": "markdown",
   "metadata": {},
   "source": [
    "## Classification\n",
    "\n",
    "This section will show how to evaluate performance of the classification model using the most common metrics: accuracy, prediction, and recall.\n",
    "\n",
    "We will work with the Traffic Accident dataset, downloaded from Leeds City Council website. If you are interested in more information about the dataset you can visit: https://data.gov.uk/dataset/road-traffic-accidents"
   ]
  },
  {
   "cell_type": "code",
   "execution_count": 22,
   "metadata": {},
   "outputs": [
    {
     "data": {
      "text/html": [
       "<div>\n",
       "<style>\n",
       "    .dataframe thead tr:only-child th {\n",
       "        text-align: right;\n",
       "    }\n",
       "\n",
       "    .dataframe thead th {\n",
       "        text-align: left;\n",
       "    }\n",
       "\n",
       "    .dataframe tbody tr th {\n",
       "        vertical-align: top;\n",
       "    }\n",
       "</style>\n",
       "<table border=\"1\" class=\"dataframe\">\n",
       "  <thead>\n",
       "    <tr style=\"text-align: right;\">\n",
       "      <th></th>\n",
       "      <th>Reference Number</th>\n",
       "      <th>Number of Vehicles</th>\n",
       "      <th>Time (24hr)</th>\n",
       "      <th>1st Road Class</th>\n",
       "      <th>Road Surface</th>\n",
       "      <th>Lighting Conditions</th>\n",
       "      <th>Weather Conditions</th>\n",
       "      <th>Casualty Class</th>\n",
       "      <th>Casualty Severity</th>\n",
       "      <th>Sex of Casualty</th>\n",
       "      <th>Age of Casualty</th>\n",
       "      <th>Type of Vehicle</th>\n",
       "    </tr>\n",
       "  </thead>\n",
       "  <tbody>\n",
       "    <tr>\n",
       "      <th>0</th>\n",
       "      <td>2181280</td>\n",
       "      <td>2</td>\n",
       "      <td>1905</td>\n",
       "      <td>A</td>\n",
       "      <td>Dry</td>\n",
       "      <td>Darkness: street lights present and lit</td>\n",
       "      <td>Fine without high winds</td>\n",
       "      <td>Driver or rider</td>\n",
       "      <td>Serious</td>\n",
       "      <td>Male</td>\n",
       "      <td>38</td>\n",
       "      <td>Motorcycle over 500cc</td>\n",
       "    </tr>\n",
       "    <tr>\n",
       "      <th>1</th>\n",
       "      <td>2191037</td>\n",
       "      <td>2</td>\n",
       "      <td>1615</td>\n",
       "      <td>Unclassified</td>\n",
       "      <td>Dry</td>\n",
       "      <td>Darkness: street lights present and lit</td>\n",
       "      <td>Fine without high winds</td>\n",
       "      <td>Driver or rider</td>\n",
       "      <td>Slight</td>\n",
       "      <td>Female</td>\n",
       "      <td>50</td>\n",
       "      <td>Car</td>\n",
       "    </tr>\n",
       "    <tr>\n",
       "      <th>2</th>\n",
       "      <td>2CQ0870</td>\n",
       "      <td>2</td>\n",
       "      <td>1645</td>\n",
       "      <td>Unclassified</td>\n",
       "      <td>Dry</td>\n",
       "      <td>Daylight: street lights present</td>\n",
       "      <td>Fine without high winds</td>\n",
       "      <td>Driver or rider</td>\n",
       "      <td>Slight</td>\n",
       "      <td>Male</td>\n",
       "      <td>26</td>\n",
       "      <td>Car</td>\n",
       "    </tr>\n",
       "    <tr>\n",
       "      <th>3</th>\n",
       "      <td>2CQ0870</td>\n",
       "      <td>2</td>\n",
       "      <td>1645</td>\n",
       "      <td>Unclassified</td>\n",
       "      <td>Dry</td>\n",
       "      <td>Daylight: street lights present</td>\n",
       "      <td>Fine without high winds</td>\n",
       "      <td>Vehicle or pillion passenger</td>\n",
       "      <td>Slight</td>\n",
       "      <td>Female</td>\n",
       "      <td>22</td>\n",
       "      <td>Car</td>\n",
       "    </tr>\n",
       "    <tr>\n",
       "      <th>4</th>\n",
       "      <td>3111091</td>\n",
       "      <td>2</td>\n",
       "      <td>956</td>\n",
       "      <td>A</td>\n",
       "      <td>Wet / Damp</td>\n",
       "      <td>Daylight: street lights present</td>\n",
       "      <td>Fine without high winds</td>\n",
       "      <td>Driver or rider</td>\n",
       "      <td>Slight</td>\n",
       "      <td>Male</td>\n",
       "      <td>57</td>\n",
       "      <td>Pedal cycle</td>\n",
       "    </tr>\n",
       "  </tbody>\n",
       "</table>\n",
       "</div>"
      ],
      "text/plain": [
       "  Reference Number  Number of Vehicles  Time (24hr) 1st Road Class  \\\n",
       "0          2181280                   2         1905              A   \n",
       "1          2191037                   2         1615   Unclassified   \n",
       "2          2CQ0870                   2         1645   Unclassified   \n",
       "3          2CQ0870                   2         1645   Unclassified   \n",
       "4          3111091                   2          956              A   \n",
       "\n",
       "  Road Surface                      Lighting Conditions  \\\n",
       "0          Dry  Darkness: street lights present and lit   \n",
       "1          Dry  Darkness: street lights present and lit   \n",
       "2          Dry          Daylight: street lights present   \n",
       "3          Dry          Daylight: street lights present   \n",
       "4   Wet / Damp          Daylight: street lights present   \n",
       "\n",
       "        Weather Conditions                Casualty Class Casualty Severity  \\\n",
       "0  Fine without high winds               Driver or rider           Serious   \n",
       "1  Fine without high winds               Driver or rider            Slight   \n",
       "2  Fine without high winds               Driver or rider            Slight   \n",
       "3  Fine without high winds  Vehicle or pillion passenger            Slight   \n",
       "4  Fine without high winds               Driver or rider            Slight   \n",
       "\n",
       "  Sex of Casualty  Age of Casualty        Type of Vehicle  \n",
       "0            Male               38  Motorcycle over 500cc  \n",
       "1          Female               50                    Car  \n",
       "2            Male               26                    Car  \n",
       "3          Female               22                    Car  \n",
       "4            Male               57            Pedal cycle  "
      ]
     },
     "execution_count": 22,
     "metadata": {},
     "output_type": "execute_result"
    }
   ],
   "source": [
    "file_name = \"./datasets/Leeds_RTC2.csv\"\n",
    "data = pd.read_csv(file_name, sep=',')\n",
    "\n",
    "data.head()"
   ]
  },
  {
   "cell_type": "markdown",
   "metadata": {},
   "source": [
    "We will use this dataset for *Casualty Severity* prediction.\n",
    "\n",
    "Majority of the features are categorical features, therefore we will perform numerical encoding on them  (However for some cases one hot encoding might be more appropriate - we will not cover this issue in this notebook). We will remove *Reference Number* since it is not relevant for the task."
   ]
  },
  {
   "cell_type": "code",
   "execution_count": 24,
   "metadata": {
    "collapsed": true
   },
   "outputs": [],
   "source": [
    "del data['Reference Number']\n",
    "\n",
    "data['1st Road Class'] = data['1st Road Class'].astype('category')\n",
    "data['1st Road Class'] = data['1st Road Class'].cat.codes\n",
    "\n",
    "data['Road Surface'] = data['Road Surface'].astype('category')\n",
    "data['Road Surface'] = data['Road Surface'].cat.codes\n",
    "\n",
    "data['Lighting Conditions'] = data['Lighting Conditions'].astype('category')\n",
    "data['Lighting Conditions'] = data['Lighting Conditions'].cat.codes\n",
    "\n",
    "data['Weather Conditions'] = data['Weather Conditions'].astype('category')\n",
    "data['Weather Conditions'] = data['Weather Conditions'].cat.codes\n",
    "\n",
    "data['Casualty Class'] = data['Casualty Class'].astype('category')\n",
    "data['Casualty Class'] = data['Casualty Class'].cat.codes\n",
    "\n",
    "data['Casualty Severity'] = data['Casualty Severity'].astype('category')\n",
    "data['Casualty Severity'] = data['Casualty Severity'].cat.codes\n",
    "\n",
    "data['Sex of Casualty'] = data['Sex of Casualty'].astype('category')\n",
    "data['Sex of Casualty'] = data['Sex of Casualty'].cat.codes\n",
    "\n",
    "data['Type of Vehicle'] = data['Type of Vehicle'].astype('category')\n",
    "data['Type of Vehicle'] = data['Type of Vehicle'].cat.codes"
   ]
  },
  {
   "cell_type": "code",
   "execution_count": 25,
   "metadata": {},
   "outputs": [
    {
     "data": {
      "text/html": [
       "<div>\n",
       "<style>\n",
       "    .dataframe thead tr:only-child th {\n",
       "        text-align: right;\n",
       "    }\n",
       "\n",
       "    .dataframe thead th {\n",
       "        text-align: left;\n",
       "    }\n",
       "\n",
       "    .dataframe tbody tr th {\n",
       "        vertical-align: top;\n",
       "    }\n",
       "</style>\n",
       "<table border=\"1\" class=\"dataframe\">\n",
       "  <thead>\n",
       "    <tr style=\"text-align: right;\">\n",
       "      <th></th>\n",
       "      <th>Number of Vehicles</th>\n",
       "      <th>Time (24hr)</th>\n",
       "      <th>1st Road Class</th>\n",
       "      <th>Road Surface</th>\n",
       "      <th>Lighting Conditions</th>\n",
       "      <th>Weather Conditions</th>\n",
       "      <th>Casualty Class</th>\n",
       "      <th>Casualty Severity</th>\n",
       "      <th>Sex of Casualty</th>\n",
       "      <th>Age of Casualty</th>\n",
       "      <th>Type of Vehicle</th>\n",
       "    </tr>\n",
       "  </thead>\n",
       "  <tbody>\n",
       "    <tr>\n",
       "      <th>0</th>\n",
       "      <td>2</td>\n",
       "      <td>1905</td>\n",
       "      <td>0</td>\n",
       "      <td>0</td>\n",
       "      <td>2</td>\n",
       "      <td>2</td>\n",
       "      <td>1</td>\n",
       "      <td>1</td>\n",
       "      <td>1</td>\n",
       "      <td>38</td>\n",
       "      <td>12</td>\n",
       "    </tr>\n",
       "    <tr>\n",
       "      <th>1</th>\n",
       "      <td>2</td>\n",
       "      <td>1615</td>\n",
       "      <td>5</td>\n",
       "      <td>0</td>\n",
       "      <td>2</td>\n",
       "      <td>2</td>\n",
       "      <td>1</td>\n",
       "      <td>2</td>\n",
       "      <td>0</td>\n",
       "      <td>50</td>\n",
       "      <td>2</td>\n",
       "    </tr>\n",
       "    <tr>\n",
       "      <th>2</th>\n",
       "      <td>2</td>\n",
       "      <td>1645</td>\n",
       "      <td>5</td>\n",
       "      <td>0</td>\n",
       "      <td>4</td>\n",
       "      <td>2</td>\n",
       "      <td>1</td>\n",
       "      <td>2</td>\n",
       "      <td>1</td>\n",
       "      <td>26</td>\n",
       "      <td>2</td>\n",
       "    </tr>\n",
       "    <tr>\n",
       "      <th>3</th>\n",
       "      <td>2</td>\n",
       "      <td>1645</td>\n",
       "      <td>5</td>\n",
       "      <td>0</td>\n",
       "      <td>4</td>\n",
       "      <td>2</td>\n",
       "      <td>5</td>\n",
       "      <td>2</td>\n",
       "      <td>0</td>\n",
       "      <td>22</td>\n",
       "      <td>2</td>\n",
       "    </tr>\n",
       "    <tr>\n",
       "      <th>4</th>\n",
       "      <td>2</td>\n",
       "      <td>956</td>\n",
       "      <td>0</td>\n",
       "      <td>4</td>\n",
       "      <td>4</td>\n",
       "      <td>2</td>\n",
       "      <td>1</td>\n",
       "      <td>2</td>\n",
       "      <td>1</td>\n",
       "      <td>57</td>\n",
       "      <td>15</td>\n",
       "    </tr>\n",
       "  </tbody>\n",
       "</table>\n",
       "</div>"
      ],
      "text/plain": [
       "   Number of Vehicles  Time (24hr)  1st Road Class  Road Surface  \\\n",
       "0                   2         1905               0             0   \n",
       "1                   2         1615               5             0   \n",
       "2                   2         1645               5             0   \n",
       "3                   2         1645               5             0   \n",
       "4                   2          956               0             4   \n",
       "\n",
       "   Lighting Conditions  Weather Conditions  Casualty Class  Casualty Severity  \\\n",
       "0                    2                   2               1                  1   \n",
       "1                    2                   2               1                  2   \n",
       "2                    4                   2               1                  2   \n",
       "3                    4                   2               5                  2   \n",
       "4                    4                   2               1                  2   \n",
       "\n",
       "   Sex of Casualty  Age of Casualty  Type of Vehicle  \n",
       "0                1               38               12  \n",
       "1                0               50                2  \n",
       "2                1               26                2  \n",
       "3                0               22                2  \n",
       "4                1               57               15  "
      ]
     },
     "execution_count": 25,
     "metadata": {},
     "output_type": "execute_result"
    }
   ],
   "source": [
    "data.head()"
   ]
  },
  {
   "cell_type": "code",
   "execution_count": 26,
   "metadata": {},
   "outputs": [],
   "source": [
    "target = data.pop('Casualty Severity')"
   ]
  },
  {
   "cell_type": "markdown",
   "metadata": {},
   "source": [
    "Below you can find the code to perform column normalization."
   ]
  },
  {
   "cell_type": "code",
   "execution_count": 29,
   "metadata": {},
   "outputs": [
    {
     "data": {
      "text/html": [
       "<div>\n",
       "<style>\n",
       "    .dataframe thead tr:only-child th {\n",
       "        text-align: right;\n",
       "    }\n",
       "\n",
       "    .dataframe thead th {\n",
       "        text-align: left;\n",
       "    }\n",
       "\n",
       "    .dataframe tbody tr th {\n",
       "        vertical-align: top;\n",
       "    }\n",
       "</style>\n",
       "<table border=\"1\" class=\"dataframe\">\n",
       "  <thead>\n",
       "    <tr style=\"text-align: right;\">\n",
       "      <th></th>\n",
       "      <th>Number of Vehicles</th>\n",
       "      <th>Time (24hr)</th>\n",
       "      <th>1st Road Class</th>\n",
       "      <th>Road Surface</th>\n",
       "      <th>Lighting Conditions</th>\n",
       "      <th>Weather Conditions</th>\n",
       "      <th>Casualty Class</th>\n",
       "      <th>Sex of Casualty</th>\n",
       "      <th>Age of Casualty</th>\n",
       "      <th>Type of Vehicle</th>\n",
       "    </tr>\n",
       "  </thead>\n",
       "  <tbody>\n",
       "    <tr>\n",
       "      <th>0</th>\n",
       "      <td>0.009555</td>\n",
       "      <td>0.012654</td>\n",
       "      <td>0.000000</td>\n",
       "      <td>0.000000</td>\n",
       "      <td>0.005607</td>\n",
       "      <td>0.006424</td>\n",
       "      <td>0.003885</td>\n",
       "      <td>0.012923</td>\n",
       "      <td>0.009430</td>\n",
       "      <td>0.015884</td>\n",
       "    </tr>\n",
       "    <tr>\n",
       "      <th>1</th>\n",
       "      <td>0.009555</td>\n",
       "      <td>0.010728</td>\n",
       "      <td>0.013245</td>\n",
       "      <td>0.000000</td>\n",
       "      <td>0.005607</td>\n",
       "      <td>0.006424</td>\n",
       "      <td>0.003885</td>\n",
       "      <td>0.000000</td>\n",
       "      <td>0.012408</td>\n",
       "      <td>0.002647</td>\n",
       "    </tr>\n",
       "    <tr>\n",
       "      <th>2</th>\n",
       "      <td>0.009555</td>\n",
       "      <td>0.010927</td>\n",
       "      <td>0.013245</td>\n",
       "      <td>0.000000</td>\n",
       "      <td>0.011214</td>\n",
       "      <td>0.006424</td>\n",
       "      <td>0.003885</td>\n",
       "      <td>0.012923</td>\n",
       "      <td>0.006452</td>\n",
       "      <td>0.002647</td>\n",
       "    </tr>\n",
       "    <tr>\n",
       "      <th>3</th>\n",
       "      <td>0.009555</td>\n",
       "      <td>0.010927</td>\n",
       "      <td>0.013245</td>\n",
       "      <td>0.000000</td>\n",
       "      <td>0.011214</td>\n",
       "      <td>0.006424</td>\n",
       "      <td>0.019424</td>\n",
       "      <td>0.000000</td>\n",
       "      <td>0.005459</td>\n",
       "      <td>0.002647</td>\n",
       "    </tr>\n",
       "    <tr>\n",
       "      <th>4</th>\n",
       "      <td>0.009555</td>\n",
       "      <td>0.006350</td>\n",
       "      <td>0.000000</td>\n",
       "      <td>0.019907</td>\n",
       "      <td>0.011214</td>\n",
       "      <td>0.006424</td>\n",
       "      <td>0.003885</td>\n",
       "      <td>0.012923</td>\n",
       "      <td>0.014145</td>\n",
       "      <td>0.019855</td>\n",
       "    </tr>\n",
       "  </tbody>\n",
       "</table>\n",
       "</div>"
      ],
      "text/plain": [
       "   Number of Vehicles  Time (24hr)  1st Road Class  Road Surface  \\\n",
       "0            0.009555     0.012654        0.000000      0.000000   \n",
       "1            0.009555     0.010728        0.013245      0.000000   \n",
       "2            0.009555     0.010927        0.013245      0.000000   \n",
       "3            0.009555     0.010927        0.013245      0.000000   \n",
       "4            0.009555     0.006350        0.000000      0.019907   \n",
       "\n",
       "   Lighting Conditions  Weather Conditions  Casualty Class  Sex of Casualty  \\\n",
       "0             0.005607            0.006424        0.003885         0.012923   \n",
       "1             0.005607            0.006424        0.003885         0.000000   \n",
       "2             0.011214            0.006424        0.003885         0.012923   \n",
       "3             0.011214            0.006424        0.019424         0.000000   \n",
       "4             0.011214            0.006424        0.003885         0.012923   \n",
       "\n",
       "   Age of Casualty  Type of Vehicle  \n",
       "0         0.009430         0.015884  \n",
       "1         0.012408         0.002647  \n",
       "2         0.006452         0.002647  \n",
       "3         0.005459         0.002647  \n",
       "4         0.014145         0.019855  "
      ]
     },
     "execution_count": 29,
     "metadata": {},
     "output_type": "execute_result"
    }
   ],
   "source": [
    "for column in data.columns:\n",
    "    vector = data[column].values.reshape(1, len(data[column]))\n",
    "    normalized_vector = preprocessing.normalize(vector, norm=\"l2\")\n",
    "    data[column] = normalized_vector.reshape(len(data[column]), 1)\n",
    "data.head()"
   ]
  },
  {
   "cell_type": "markdown",
   "metadata": {},
   "source": [
    "Splitting into train, cross-validation and test datasets."
   ]
  },
  {
   "cell_type": "code",
   "execution_count": 32,
   "metadata": {},
   "outputs": [
    {
     "name": "stdout",
     "output_type": "stream",
     "text": [
      "(7324, 10) (7324,) (1832, 10) (1832,) (1018, 10) (1018,)\n"
     ]
    }
   ],
   "source": [
    "# split into (train + cross validation) and test sets\n",
    "X_x, X_test, y_x, y_test = train_test_split(data, target, test_size=0.1, random_state=42)\n",
    "\n",
    "# split into train and cross validation\n",
    "X_train, X_cv, y_train, y_cv = train_test_split(X_x, y_x, test_size=0.2, random_state=42)\n",
    "\n",
    "print(X_train.shape, y_train.shape, X_cv.shape, y_cv.shape, X_test.shape, y_test.shape)"
   ]
  },
  {
   "cell_type": "markdown",
   "metadata": {},
   "source": [
    "Similarly as for the regression model, we will gradually include more columns in the model and observe how accuracy, prediction and recall changes. We will use ** *accuracy_score( true_value, predicted_value )* ** for calculating accuracy, ** *recall_score( true_value, predicted_value, average )* ** for calculating recall, and ** *precision_score( true_value, predicted_value, average )* ** for calculating precision. Average in precision and recall defines the strategy to calculate metrics where there are more than 2 categories. For more information use: http://scikit-learn.org/stable/modules/generated/sklearn.metrics.recall_score.html\n",
    "\n",
    "Similarly as for the regression case, we will round the prediction result, as we cannot predict 5.5 category."
   ]
  },
  {
   "cell_type": "code",
   "execution_count": 33,
   "metadata": {},
   "outputs": [
    {
     "name": "stderr",
     "output_type": "stream",
     "text": [
      "/Users/anusia/anaconda3/lib/python3.6/site-packages/sklearn/metrics/classification.py:1135: UndefinedMetricWarning: Precision is ill-defined and being set to 0.0 in labels with no predicted samples.\n",
      "  'precision', 'predicted', average, warn_for)\n"
     ]
    }
   ],
   "source": [
    "from sklearn import linear_model\n",
    "from sklearn.metrics import accuracy_score\n",
    "from sklearn.metrics import recall_score\n",
    "from sklearn.metrics import precision_score\n",
    "\n",
    "accuracy_train = []\n",
    "accuracy_cv = []\n",
    "precision_train = []\n",
    "precision_cv = []\n",
    "recall_train = []\n",
    "recall_cv = []\n",
    "\n",
    "jumps = [1, 2, 3, 4, 5, 6, 7, 8, 9, 10]\n",
    "\n",
    "data_columns = X_train.columns\n",
    "\n",
    "for i in jumps:\n",
    "    new_x_train = X_train[data_columns[:i]]\n",
    "    new_x_cv = X_cv[data_columns[:i]]\n",
    "    \n",
    "    logistic_reg = linear_model.LogisticRegression()\n",
    "    logistic_reg.fit(new_x_train, y_train)\n",
    "    \n",
    "    y_train_pred = logistic_reg.predict(new_x_train)\n",
    "    y_cv_pred = logistic_reg.predict(new_x_cv)\n",
    "    \n",
    "    y_train_pred = y_train_pred.round()\n",
    "    y_cv_pred = y_cv_pred.round()\n",
    "    \n",
    "    acc_train = accuracy_score(y_train, y_train_pred)\n",
    "    acc_cv = accuracy_score(y_cv, y_cv_pred)\n",
    "    prec_train = recall_score(y_train, y_train_pred, average='macro')\n",
    "    prec_cv = recall_score(y_cv, y_cv_pred, average='macro')\n",
    "    rec_train = precision_score(y_train, y_train_pred, average='macro')\n",
    "    rec_cv = precision_score(y_cv, y_cv_pred, average='macro')\n",
    "    \n",
    "    accuracy_train.append(acc_train)\n",
    "    accuracy_cv.append(acc_cv)\n",
    "    precision_train.append(prec_train)\n",
    "    precision_cv.append(prec_cv)\n",
    "    recall_train.append(rec_train)\n",
    "    recall_cv.append(rec_cv)"
   ]
  },
  {
   "cell_type": "markdown",
   "metadata": {},
   "source": [
    "You can observe that there occurred a warning: UndefinedMetricWarning. This occured here because Logistic Regression did not predict any occurence of some label. This might happen, especially in highly unbalanced datasets.\n",
    "\n",
    "Plotting accuracy, precition, and recall:"
   ]
  },
  {
   "cell_type": "code",
   "execution_count": 34,
   "metadata": {},
   "outputs": [
    {
     "data": {
      "image/png": "[encoded data removed]",
      "text/plain": [
       "<matplotlib.figure.Figure at 0x1a1764e630>"
      ]
     },
     "metadata": {},
     "output_type": "display_data"
    },
    {
     "data": {
      "image/png": "[encoded data removed]",
      "text/plain": [
       "<matplotlib.figure.Figure at 0x1a1925aac8>"
      ]
     },
     "metadata": {},
     "output_type": "display_data"
    },
    {
     "data": {
      "image/png": "[encoded data removed]",
      "text/plain": [
       "<matplotlib.figure.Figure at 0x1a1930bf98>"
      ]
     },
     "metadata": {},
     "output_type": "display_data"
    }
   ],
   "source": [
    "plt.figure() \n",
    "plt.plot(range(0, len(accuracy_train)), accuracy_train, range(0, len(accuracy_cv)), accuracy_cv)\n",
    "plt.title(\"Logistic Regression Accuracy\")\n",
    "plt.legend(['TRAIN', 'CROSS-VALIDATION'])\n",
    "plt.show()\n",
    "\n",
    "plt.figure()\n",
    "plt.plot(range(0, len(precision_train)), precision_train, range(0, len(precision_cv)), precision_cv)\n",
    "plt.title(\"Logistic Regression Precision\")\n",
    "plt.legend(['TRAIN', 'CROSS-VALIDATION'])\n",
    "plt.show()\n",
    "\n",
    "plt.figure()\n",
    "plt.plot(range(0, len(recall_train)), recall_train, range(0, len(recall_cv)), recall_cv)\n",
    "plt.title(\"Logistic Regression Recall\")\n",
    "plt.legend(['TRAIN', 'CROSS-VALIDATION'])\n",
    "plt.show()"
   ]
  },
  {
   "cell_type": "markdown",
   "metadata": {},
   "source": [
    "Can you comment what is happening on the plots? Why they are not improving with including more features?\n",
    "\n",
    "There are more metrics except precision and recall, for example F1 score. You can try to write the code that will compute and plot performance of the model using this metric, for more information refer to: http://scikit-learn.org/stable/modules/generated/sklearn.metrics.f1_score.html\n",
    "\n",
    "And finally testing our model on test data. Can you comment on the results?"
   ]
  },
  {
   "cell_type": "code",
   "execution_count": 35,
   "metadata": {},
   "outputs": [
    {
     "name": "stdout",
     "output_type": "stream",
     "text": [
      "Accuracy: 0.879174852652\n",
      "Precision: 0.293058284217\n",
      "Recall: 0.333333333333\n"
     ]
    },
    {
     "name": "stderr",
     "output_type": "stream",
     "text": [
      "/Users/anusia/anaconda3/lib/python3.6/site-packages/sklearn/metrics/classification.py:1135: UndefinedMetricWarning: Precision is ill-defined and being set to 0.0 in labels with no predicted samples.\n",
      "  'precision', 'predicted', average, warn_for)\n"
     ]
    }
   ],
   "source": [
    "regression = linear_model.LogisticRegression()\n",
    "regression.fit(X_train, y_train)\n",
    "    \n",
    "y_test_pred = regression.predict(X_test)\n",
    "y_test_pred = y_test_pred.round()\n",
    "\n",
    "print(\"Accuracy:\", accuracy_score(y_test, y_test_pred))\n",
    "print(\"Precision:\", precision_score(y_test, y_test_pred, average='macro'))\n",
    "print(\"Recall:\", recall_score(y_test, y_test_pred, average='macro'))"
   ]
  }
 ],
 "metadata": {
  "kernelspec": {
   "display_name": "Python 3",
   "language": "python",
   "name": "python3"
  },
  "language_info": {
   "codemirror_mode": {
    "name": "ipython",
    "version": 3
   },
   "file_extension": ".py",
   "mimetype": "text/x-python",
   "name": "python",
   "nbconvert_exporter": "python",
   "pygments_lexer": "ipython3",
   "version": "3.6.2"
  }
 },
 "nbformat": 4,
 "nbformat_minor": 2
}
